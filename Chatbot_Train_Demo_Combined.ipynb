{
 "cells": [
  {
   "cell_type": "code",
   "execution_count": 6,
   "id": "printable-terminal",
   "metadata": {},
   "outputs": [],
   "source": [
    "# import what we need\n",
    "import nltk\n",
    "from nltk.stem.lancaster import LancasterStemmer ## used to stem words\n",
    "import tensorflow\n",
    "import random\n",
    "import json\n",
    "stemmer = LancasterStemmer()\n",
    "import numpy as np\n",
    "import tensorflow.keras as keras\n",
    "\n",
    "# printing \n",
    "from IPython.display import display\n",
    "import sympy as sp\n",
    "sp.init_printing(use_latex=True)\n",
    "\n",
    "# Plotting\n",
    "import matplotlib.pyplot as plt\n",
    "%matplotlib inline\n",
    "\n",
    "# needed for GUI \n",
    "from tkinter import * "
   ]
  },
  {
   "cell_type": "code",
   "execution_count": 7,
   "id": "continuing-pavilion",
   "metadata": {},
   "outputs": [],
   "source": [
    "# load json file\n",
    "with open(\"intents.json\") as file:\n",
    "    data = json.load(file)"
   ]
  },
  {
   "cell_type": "code",
   "execution_count": 9,
   "id": "limiting-faculty",
   "metadata": {},
   "outputs": [
    {
     "data": {
      "text/plain": [
       "[{'tag': 'greeting',\n",
       "  'patterns': ['Hi',\n",
       "   'How are you',\n",
       "   'Is anyone there?',\n",
       "   'Hello',\n",
       "   'Good day',\n",
       "   'Whats up'],\n",
       "  'responses': ['Hello!',\n",
       "   'Good to see you again!',\n",
       "   'Hi there, how can I help?'],\n",
       "  'context_set': ''},\n",
       " {'tag': 'goodbye',\n",
       "  'patterns': ['cya',\n",
       "   'See you later',\n",
       "   'Goodbye',\n",
       "   'I am Leaving',\n",
       "   'Have a Good day',\n",
       "   'Bye',\n",
       "   'Adios'],\n",
       "  'responses': ['Sad to see you go :(',\n",
       "   'Talk to you later',\n",
       "   'Goodbye!',\n",
       "   'See you later',\n",
       "   'Have a nice day',\n",
       "   'Bye! Come back again soon.'],\n",
       "  'context_set': ''}]"
      ]
     },
     "execution_count": 9,
     "metadata": {},
     "output_type": "execute_result"
    }
   ],
   "source": [
    "# view our json data\n",
    "data['intents'][0:2]"
   ]
  },
  {
   "cell_type": "code",
   "execution_count": 459,
   "id": "steady-lucas",
   "metadata": {},
   "outputs": [],
   "source": [
    "words = []\n",
    "labels = []\n",
    "\n",
    "docs_x = []\n",
    "docs_y = [] \n",
    "\n",
    "# loop through dict to grab our values\n",
    "for intent in data['intents']:\n",
    "    for pattern in intent['patterns']:\n",
    "        # stemming get the root of word, when traiing model \n",
    "        # only care abt the main meaning of word\n",
    "        # need to tokenize/split words\n",
    "        wrds = nltk.word_tokenize(pattern)\n",
    "        words.extend(wrds) ## add all wrds to list\n",
    "        docs_x.append(wrds)\n",
    "        # for each pattern add another item in this var to track what tag its part of\n",
    "        # each entry in docs_x (tokenized words/wrds) will correspond to (intent) docs_y so we know how to classify\n",
    "        # each of the patterns\n",
    "        docs_y.append(intent['tag'])\n",
    "        \n",
    "        if intent['tag'] not in labels:\n",
    "            labels.append(intent['tag']) # grab all diff tags we need"
   ]
  },
  {
   "cell_type": "code",
   "execution_count": 460,
   "id": "guided-amendment",
   "metadata": {},
   "outputs": [],
   "source": [
    "# stem words and remove duplicate words. also lower all words so dont confuse the network into \n",
    "# thinking spelling case has different meaning\n",
    "words = [stemmer.stem(w.lower()) for w in words if w!= '?' ] # remove any Question marks, dont want this\n",
    "words = sorted(list(set(words)))                             # to have any meaning to our model\n",
    "# sort the labels also \n",
    "labels = sorted(labels)"
   ]
  },
  {
   "cell_type": "code",
   "execution_count": 461,
   "id": "afraid-manitoba",
   "metadata": {},
   "outputs": [],
   "source": [
    "# prepare data before we feed into the model \n",
    "\n",
    "# need to convert our text in lists to nums (One-hot-encoding) so our network can \n",
    "# categorize the data\n",
    "training = [] # input data goes here \n",
    "output = [] \n",
    "\n",
    "out_empty = [0 for _ in range(len(labels))]\n",
    "\n",
    "for x, doc in enumerate(docs_x):\n",
    "    \n",
    "    bag = [] # will be our bag of one hot encoded words\n",
    "    wrds = [stemmer.stem(w) for w in doc] # stem all the words in patterns\n",
    "    \n",
    "    # go through all diff words in list that are stemmed\n",
    "    # and add either 1 or 0 to bag of words depending on if this word is in the \n",
    "    # main words list \"(words = sorted(list(set(words))))\"\n",
    "    for w in words:\n",
    "        # if word here place 1 representing that word exists\n",
    "        if w in wrds:\n",
    "            bag.append(1)\n",
    "        else:\n",
    "            # word isn't here place 0\n",
    "            bag.append(0)\n",
    "    \n",
    "    # now generate output that has either 0's or 1's representing the tag that is word\n",
    "    output_row = out_empty[:]\n",
    "    # will look through labels list and check where tag is in list and set that value to 1 \n",
    "    # in the output_row \n",
    "    output_row[labels.index(docs_y[x])] = 1\n",
    "    \n",
    "    # now we have both lists that are now One-hot-encoded !!\n",
    "    training.append(bag)\n",
    "    output.append(output_row)\n"
   ]
  },
  {
   "cell_type": "code",
   "execution_count": 462,
   "id": "popular-botswana",
   "metadata": {},
   "outputs": [],
   "source": [
    "# turn lists into numpy array\n",
    "training = np.array(training)\n",
    "output = np.array(output)\n"
   ]
  },
  {
   "cell_type": "code",
   "execution_count": 463,
   "id": "ahead-worcester",
   "metadata": {},
   "outputs": [
    {
     "data": {
      "image/png": "[encoded data removed]",
      "text/latex": [
       "$\\displaystyle \\left( 152, \\  21\\right)$"
      ],
      "text/plain": [
       "(152, 21)"
      ]
     },
     "execution_count": 463,
     "metadata": {},
     "output_type": "execute_result"
    }
   ],
   "source": [
    "# shape of output\n",
    "output.shape"
   ]
  },
  {
   "cell_type": "code",
   "execution_count": 464,
   "id": "cardiovascular-linux",
   "metadata": {},
   "outputs": [
    {
     "data": {
      "image/png": "[encoded data removed]",
      "text/latex": [
       "$\\displaystyle \\left( 152, \\  135\\right)$"
      ],
      "text/plain": [
       "(152, 135)"
      ]
     },
     "execution_count": 464,
     "metadata": {},
     "output_type": "execute_result"
    }
   ],
   "source": [
    "# shape of training\n",
    "training.shape"
   ]
  },
  {
   "cell_type": "code",
   "execution_count": 465,
   "id": "complex-plant",
   "metadata": {},
   "outputs": [],
   "source": [
    "# Multi-layer net with ReLU hidden layer\n",
    "\n",
    "model = keras.models.Sequential()\n",
    "\n",
    "\n",
    "model.add(keras.layers.Dense(8,input_dim=training.shape[1],activation='relu',\n",
    " bias_initializer=keras.initializers.Constant(0.1)))\n",
    "\n",
    "model.add(keras.layers.Dense(8,activation='relu',\n",
    " bias_initializer=keras.initializers.Constant(0.1)))\n",
    "\n",
    "model.add(keras.layers.Dense(8,activation='relu',\n",
    " bias_initializer=keras.initializers.Constant(0.1)))\n",
    "\n",
    "\n",
    "model.add(keras.layers.Dense(8,activation='relu',\n",
    " bias_initializer=keras.initializers.Constant(0.1)))\n",
    "\n",
    "\n",
    "\n",
    "\n",
    "\n",
    "\n",
    "# Output layer (size 6), softmax activation function\n",
    "model.add(keras.layers.Dense(output.shape[1],activation='softmax'))"
   ]
  },
  {
   "cell_type": "code",
   "execution_count": 466,
   "id": "characteristic-september",
   "metadata": {},
   "outputs": [
    {
     "name": "stdout",
     "output_type": "stream",
     "text": [
      "Model: \"sequential_52\"\n",
      "_________________________________________________________________\n",
      "Layer (type)                 Output Shape              Param #   \n",
      "=================================================================\n",
      "dense_185 (Dense)            (None, 8)                 1088      \n",
      "_________________________________________________________________\n",
      "dense_186 (Dense)            (None, 8)                 72        \n",
      "_________________________________________________________________\n",
      "dense_187 (Dense)            (None, 8)                 72        \n",
      "_________________________________________________________________\n",
      "dense_188 (Dense)            (None, 8)                 72        \n",
      "_________________________________________________________________\n",
      "dense_189 (Dense)            (None, 21)                189       \n",
      "=================================================================\n",
      "Total params: 1,493\n",
      "Trainable params: 1,493\n",
      "Non-trainable params: 0\n",
      "_________________________________________________________________\n"
     ]
    }
   ],
   "source": [
    "# Compile as above (default learning rate and other\n",
    "# hyperparameters for the Adam optimizer).\n",
    "# default learning rate for adam optimizer is 0.001\n",
    "\n",
    "model.compile(loss=keras.losses.CategoricalCrossentropy(),\n",
    " optimizer=keras.optimizers.Nadam(learning_rate=0.001),\n",
    " metrics=[keras.metrics.CategoricalAccuracy()])\n",
    "\n",
    "# Display the model\n",
    "model.summary()"
   ]
  },
  {
   "cell_type": "code",
   "execution_count": 467,
   "id": "latter-product",
   "metadata": {},
   "outputs": [
    {
     "data": {
      "image/png": "[encoded data removed]",
      "text/plain": [
       "<IPython.core.display.Image object>"
      ]
     },
     "execution_count": 467,
     "metadata": {},
     "output_type": "execute_result"
    }
   ],
   "source": [
    "keras.utils.plot_model(model,to_file='chatbot.png',\n",
    " show_shapes=True,expand_nested=True)"
   ]
  },
  {
   "cell_type": "code",
   "execution_count": 370,
   "id": "ecological-builder",
   "metadata": {},
   "outputs": [],
   "source": [
    "# Note the initializer for the hidden unit bias weights\n",
    "#for i in model.get_weights():\n",
    " #display(sp.Matrix(i))\n"
   ]
  },
  {
   "cell_type": "code",
   "execution_count": 468,
   "id": "cleared-piece",
   "metadata": {},
   "outputs": [
    {
     "name": "stdout",
     "output_type": "stream",
     "text": [
      "Train on 152 samples\n",
      "Epoch 1/100\n",
      "152/152 [==============================] - 1s 3ms/sample - loss: 3.0575 - categorical_accuracy: 0.0592\n",
      "Epoch 2/100\n",
      "152/152 [==============================] - 0s 3ms/sample - loss: 3.0329 - categorical_accuracy: 0.0789\n",
      "Epoch 3/100\n",
      "152/152 [==============================] - 0s 3ms/sample - loss: 3.0146 - categorical_accuracy: 0.0855\n",
      "Epoch 4/100\n",
      "152/152 [==============================] - 0s 3ms/sample - loss: 2.9881 - categorical_accuracy: 0.1250\n",
      "Epoch 5/100\n",
      "152/152 [==============================] - 0s 3ms/sample - loss: 2.9451 - categorical_accuracy: 0.1316\n",
      "Epoch 6/100\n",
      "152/152 [==============================] - 0s 3ms/sample - loss: 2.8590 - categorical_accuracy: 0.1908\n",
      "Epoch 7/100\n",
      "152/152 [==============================] - 0s 3ms/sample - loss: 2.7028 - categorical_accuracy: 0.1842\n",
      "Epoch 8/100\n",
      "152/152 [==============================] - 0s 3ms/sample - loss: 2.5121 - categorical_accuracy: 0.2039\n",
      "Epoch 9/100\n",
      "152/152 [==============================] - 0s 3ms/sample - loss: 2.3326 - categorical_accuracy: 0.2105\n",
      "Epoch 10/100\n",
      "152/152 [==============================] - 0s 3ms/sample - loss: 2.1810 - categorical_accuracy: 0.2171\n",
      "Epoch 11/100\n",
      "152/152 [==============================] - 0s 3ms/sample - loss: 2.0423 - categorical_accuracy: 0.3224\n",
      "Epoch 12/100\n",
      "152/152 [==============================] - 0s 3ms/sample - loss: 1.9140 - categorical_accuracy: 0.3553\n",
      "Epoch 13/100\n",
      "152/152 [==============================] - 0s 3ms/sample - loss: 1.8060 - categorical_accuracy: 0.4211\n",
      "Epoch 14/100\n",
      "152/152 [==============================] - 0s 3ms/sample - loss: 1.6844 - categorical_accuracy: 0.4934\n",
      "Epoch 15/100\n",
      "152/152 [==============================] - 0s 3ms/sample - loss: 1.5641 - categorical_accuracy: 0.4671\n",
      "Epoch 16/100\n",
      "152/152 [==============================] - 0s 3ms/sample - loss: 1.4330 - categorical_accuracy: 0.5197\n",
      "Epoch 17/100\n",
      "152/152 [==============================] - 0s 3ms/sample - loss: 1.2970 - categorical_accuracy: 0.5789\n",
      "Epoch 18/100\n",
      "152/152 [==============================] - 0s 3ms/sample - loss: 1.1646 - categorical_accuracy: 0.6053\n",
      "Epoch 19/100\n",
      "152/152 [==============================] - 0s 3ms/sample - loss: 1.0342 - categorical_accuracy: 0.6711\n",
      "Epoch 20/100\n",
      "152/152 [==============================] - 0s 3ms/sample - loss: 0.9079 - categorical_accuracy: 0.7303\n",
      "Epoch 21/100\n",
      "152/152 [==============================] - 0s 3ms/sample - loss: 0.7759 - categorical_accuracy: 0.7829\n",
      "Epoch 22/100\n",
      "152/152 [==============================] - 0s 3ms/sample - loss: 0.6614 - categorical_accuracy: 0.8487\n",
      "Epoch 23/100\n",
      "152/152 [==============================] - 0s 3ms/sample - loss: 0.5673 - categorical_accuracy: 0.8487\n",
      "Epoch 24/100\n",
      "152/152 [==============================] - 0s 3ms/sample - loss: 0.4946 - categorical_accuracy: 0.8684\n",
      "Epoch 25/100\n",
      "152/152 [==============================] - 0s 3ms/sample - loss: 0.4167 - categorical_accuracy: 0.9145\n",
      "Epoch 26/100\n",
      "152/152 [==============================] - 0s 3ms/sample - loss: 0.3568 - categorical_accuracy: 0.9211\n",
      "Epoch 27/100\n",
      "152/152 [==============================] - 0s 3ms/sample - loss: 0.3085 - categorical_accuracy: 0.9474\n",
      "Epoch 28/100\n",
      "152/152 [==============================] - 0s 3ms/sample - loss: 0.2686 - categorical_accuracy: 0.9539\n",
      "Epoch 29/100\n",
      "152/152 [==============================] - 0s 3ms/sample - loss: 0.2199 - categorical_accuracy: 0.9605\n",
      "Epoch 30/100\n",
      "152/152 [==============================] - 0s 3ms/sample - loss: 0.1911 - categorical_accuracy: 0.9671\n",
      "Epoch 31/100\n",
      "152/152 [==============================] - 0s 3ms/sample - loss: 0.1646 - categorical_accuracy: 0.9737\n",
      "Epoch 32/100\n",
      "152/152 [==============================] - 0s 3ms/sample - loss: 0.1500 - categorical_accuracy: 0.9737\n",
      "Epoch 33/100\n",
      "152/152 [==============================] - 0s 3ms/sample - loss: 0.1247 - categorical_accuracy: 0.9868\n",
      "Epoch 34/100\n",
      "152/152 [==============================] - 0s 3ms/sample - loss: 0.1115 - categorical_accuracy: 0.9737\n",
      "Epoch 35/100\n",
      "152/152 [==============================] - 0s 3ms/sample - loss: 0.0947 - categorical_accuracy: 0.9803\n",
      "Epoch 36/100\n",
      "152/152 [==============================] - 0s 3ms/sample - loss: 0.0830 - categorical_accuracy: 0.9803\n",
      "Epoch 37/100\n",
      "152/152 [==============================] - 0s 3ms/sample - loss: 0.0732 - categorical_accuracy: 0.9868\n",
      "Epoch 38/100\n",
      "152/152 [==============================] - 0s 3ms/sample - loss: 0.0652 - categorical_accuracy: 0.9868\n",
      "Epoch 39/100\n",
      "152/152 [==============================] - 0s 3ms/sample - loss: 0.0566 - categorical_accuracy: 0.9934\n",
      "Epoch 40/100\n",
      "152/152 [==============================] - 0s 3ms/sample - loss: 0.0487 - categorical_accuracy: 1.0000\n",
      "Epoch 41/100\n",
      "152/152 [==============================] - 0s 3ms/sample - loss: 0.0430 - categorical_accuracy: 1.0000\n",
      "Epoch 42/100\n",
      "152/152 [==============================] - 0s 3ms/sample - loss: 0.0373 - categorical_accuracy: 0.9934\n",
      "Epoch 43/100\n",
      "152/152 [==============================] - 0s 3ms/sample - loss: 0.0360 - categorical_accuracy: 0.9934\n",
      "Epoch 44/100\n",
      "152/152 [==============================] - 0s 3ms/sample - loss: 0.0302 - categorical_accuracy: 1.0000\n",
      "Epoch 45/100\n",
      "152/152 [==============================] - 0s 3ms/sample - loss: 0.0261 - categorical_accuracy: 1.0000\n",
      "Epoch 46/100\n",
      "152/152 [==============================] - 0s 3ms/sample - loss: 0.0216 - categorical_accuracy: 1.0000\n",
      "Epoch 47/100\n",
      "152/152 [==============================] - 0s 3ms/sample - loss: 0.0186 - categorical_accuracy: 1.0000\n",
      "Epoch 48/100\n",
      "152/152 [==============================] - 0s 3ms/sample - loss: 0.0177 - categorical_accuracy: 1.0000\n",
      "Epoch 49/100\n",
      "152/152 [==============================] - 0s 3ms/sample - loss: 0.0157 - categorical_accuracy: 1.0000\n",
      "Epoch 50/100\n",
      "152/152 [==============================] - 0s 3ms/sample - loss: 0.0125 - categorical_accuracy: 1.0000\n",
      "Epoch 51/100\n",
      "152/152 [==============================] - 0s 3ms/sample - loss: 0.0104 - categorical_accuracy: 1.0000\n",
      "Epoch 52/100\n",
      "152/152 [==============================] - 0s 3ms/sample - loss: 0.0095 - categorical_accuracy: 1.0000\n",
      "Epoch 53/100\n",
      "152/152 [==============================] - 0s 3ms/sample - loss: 0.0078 - categorical_accuracy: 1.0000\n",
      "Epoch 54/100\n",
      "152/152 [==============================] - 0s 3ms/sample - loss: 0.0072 - categorical_accuracy: 1.0000\n",
      "Epoch 55/100\n",
      "152/152 [==============================] - 0s 3ms/sample - loss: 0.0066 - categorical_accuracy: 1.0000\n",
      "Epoch 56/100\n",
      "152/152 [==============================] - 0s 3ms/sample - loss: 0.0056 - categorical_accuracy: 1.0000\n",
      "Epoch 57/100\n",
      "152/152 [==============================] - 0s 3ms/sample - loss: 0.0049 - categorical_accuracy: 1.0000\n",
      "Epoch 58/100\n",
      "152/152 [==============================] - 0s 3ms/sample - loss: 0.0042 - categorical_accuracy: 1.0000\n",
      "Epoch 59/100\n",
      "152/152 [==============================] - 0s 3ms/sample - loss: 0.0038 - categorical_accuracy: 1.0000\n",
      "Epoch 60/100\n",
      "152/152 [==============================] - 0s 3ms/sample - loss: 0.0033 - categorical_accuracy: 1.0000\n",
      "Epoch 61/100\n",
      "152/152 [==============================] - 0s 3ms/sample - loss: 0.0029 - categorical_accuracy: 1.0000\n",
      "Epoch 62/100\n",
      "152/152 [==============================] - 0s 3ms/sample - loss: 0.0026 - categorical_accuracy: 1.0000\n",
      "Epoch 63/100\n",
      "152/152 [==============================] - 0s 3ms/sample - loss: 0.0025 - categorical_accuracy: 1.0000\n",
      "Epoch 64/100\n",
      "152/152 [==============================] - 0s 3ms/sample - loss: 0.0021 - categorical_accuracy: 1.0000\n",
      "Epoch 65/100\n",
      "152/152 [==============================] - 0s 3ms/sample - loss: 0.0019 - categorical_accuracy: 1.0000\n",
      "Epoch 66/100\n",
      "152/152 [==============================] - 0s 3ms/sample - loss: 0.0016 - categorical_accuracy: 1.0000\n",
      "Epoch 67/100\n",
      "152/152 [==============================] - 0s 3ms/sample - loss: 0.0015 - categorical_accuracy: 1.0000\n",
      "Epoch 68/100\n",
      "152/152 [==============================] - 0s 3ms/sample - loss: 0.0013 - categorical_accuracy: 1.0000\n",
      "Epoch 69/100\n",
      "152/152 [==============================] - 0s 3ms/sample - loss: 0.0013 - categorical_accuracy: 1.0000\n",
      "Epoch 70/100\n",
      "152/152 [==============================] - 0s 3ms/sample - loss: 0.0011 - categorical_accuracy: 1.0000\n",
      "Epoch 71/100\n",
      "152/152 [==============================] - 0s 3ms/sample - loss: 9.7354e-04 - categorical_accuracy: 1.0000\n",
      "Epoch 72/100\n",
      "152/152 [==============================] - 0s 3ms/sample - loss: 8.7477e-04 - categorical_accuracy: 1.0000\n",
      "Epoch 73/100\n",
      "152/152 [==============================] - 0s 3ms/sample - loss: 7.9792e-04 - categorical_accuracy: 1.0000\n",
      "Epoch 74/100\n",
      "152/152 [==============================] - 0s 3ms/sample - loss: 7.1617e-04 - categorical_accuracy: 1.0000\n",
      "Epoch 75/100\n",
      "152/152 [==============================] - 0s 3ms/sample - loss: 6.4143e-04 - categorical_accuracy: 1.0000\n",
      "Epoch 76/100\n",
      "152/152 [==============================] - 0s 3ms/sample - loss: 5.7778e-04 - categorical_accuracy: 1.0000\n",
      "Epoch 77/100\n",
      "152/152 [==============================] - 0s 3ms/sample - loss: 5.2867e-04 - categorical_accuracy: 1.0000\n",
      "Epoch 78/100\n",
      "152/152 [==============================] - 0s 3ms/sample - loss: 4.6775e-04 - categorical_accuracy: 1.0000\n",
      "Epoch 79/100\n",
      "152/152 [==============================] - 0s 3ms/sample - loss: 4.3156e-04 - categorical_accuracy: 1.0000\n",
      "Epoch 80/100\n",
      "152/152 [==============================] - 0s 3ms/sample - loss: 3.8982e-04 - categorical_accuracy: 1.0000\n",
      "Epoch 81/100\n",
      "152/152 [==============================] - 0s 3ms/sample - loss: 3.5225e-04 - categorical_accuracy: 1.0000\n",
      "Epoch 82/100\n",
      "152/152 [==============================] - 0s 3ms/sample - loss: 3.2291e-04 - categorical_accuracy: 1.0000\n",
      "Epoch 83/100\n",
      "152/152 [==============================] - 0s 3ms/sample - loss: 3.0208e-04 - categorical_accuracy: 1.0000\n",
      "Epoch 84/100\n",
      "152/152 [==============================] - 0s 3ms/sample - loss: 2.6204e-04 - categorical_accuracy: 1.0000\n",
      "Epoch 85/100\n",
      "152/152 [==============================] - 0s 3ms/sample - loss: 2.3803e-04 - categorical_accuracy: 1.0000\n",
      "Epoch 86/100\n",
      "152/152 [==============================] - 0s 3ms/sample - loss: 2.1105e-04 - categorical_accuracy: 1.0000\n",
      "Epoch 87/100\n",
      "152/152 [==============================] - 0s 3ms/sample - loss: 1.9740e-04 - categorical_accuracy: 1.0000\n",
      "Epoch 88/100\n",
      "152/152 [==============================] - 0s 3ms/sample - loss: 1.7704e-04 - categorical_accuracy: 1.0000\n",
      "Epoch 89/100\n",
      "152/152 [==============================] - 0s 3ms/sample - loss: 1.6243e-04 - categorical_accuracy: 1.0000\n",
      "Epoch 90/100\n",
      "152/152 [==============================] - 0s 3ms/sample - loss: 1.4778e-04 - categorical_accuracy: 1.0000\n",
      "Epoch 91/100\n",
      "152/152 [==============================] - 0s 3ms/sample - loss: 1.3352e-04 - categorical_accuracy: 1.0000\n",
      "Epoch 92/100\n",
      "152/152 [==============================] - 0s 3ms/sample - loss: 1.2212e-04 - categorical_accuracy: 1.0000\n",
      "Epoch 93/100\n",
      "152/152 [==============================] - 0s 3ms/sample - loss: 1.0887e-04 - categorical_accuracy: 1.0000\n",
      "Epoch 94/100\n",
      "152/152 [==============================] - 0s 3ms/sample - loss: 1.0243e-04 - categorical_accuracy: 1.0000\n",
      "Epoch 95/100\n",
      "152/152 [==============================] - 0s 3ms/sample - loss: 9.0790e-05 - categorical_accuracy: 1.0000\n",
      "Epoch 96/100\n",
      "152/152 [==============================] - 0s 3ms/sample - loss: 8.2472e-05 - categorical_accuracy: 1.0000\n",
      "Epoch 97/100\n",
      "152/152 [==============================] - 0s 3ms/sample - loss: 7.7913e-05 - categorical_accuracy: 1.0000\n",
      "Epoch 98/100\n",
      "152/152 [==============================] - 0s 3ms/sample - loss: 6.9800e-05 - categorical_accuracy: 1.0000\n",
      "Epoch 99/100\n",
      "152/152 [==============================] - 0s 3ms/sample - loss: 6.2189e-05 - categorical_accuracy: 1.0000\n",
      "Epoch 100/100\n",
      "152/152 [==============================] - 0s 3ms/sample - loss: 5.8351e-05 - categorical_accuracy: 1.0000\n"
     ]
    }
   ],
   "source": [
    "# Train it!\n",
    "history = model.fit(training, output,\n",
    " batch_size=1,\n",
    " epochs=100,\n",
    " verbose=1)"
   ]
  },
  {
   "cell_type": "code",
   "execution_count": 469,
   "id": "infinite-lemon",
   "metadata": {},
   "outputs": [
    {
     "data": {
      "image/png": "[encoded data removed]",
      "text/plain": [
       "<Figure size 432x288 with 1 Axes>"
      ]
     },
     "metadata": {
      "needs_background": "light"
     },
     "output_type": "display_data"
    }
   ],
   "source": [
    "# summarize history for loss\n",
    "plt.plot(history.history['loss'])\n",
    "plt.title('model loss')\n",
    "plt.ylabel('loss')\n",
    "plt.xlabel('epoch')\n",
    "plt.legend(['training'], loc='upper left')\n",
    "plt.show()"
   ]
  },
  {
   "cell_type": "code",
   "execution_count": 471,
   "id": "macro-average",
   "metadata": {},
   "outputs": [
    {
     "name": "stdout",
     "output_type": "stream",
     "text": [
      "Loss: 5.0991909167925386e-05\n",
      "Accuracy: 1.0\n"
     ]
    }
   ],
   "source": [
    "score = model.evaluate(training,output,verbose=1)\n",
    "print(\"Loss:\",score[0])\n",
    "print(\"Accuracy:\",score[1])"
   ]
  },
  {
   "cell_type": "code",
   "execution_count": null,
   "id": "protected-temple",
   "metadata": {},
   "outputs": [],
   "source": [
    "# save the model .. comment out for now until we train the data appropriately\n",
    "model.save(\"model.Chatbot\")"
   ]
  },
  {
   "cell_type": "code",
   "execution_count": 1,
   "id": "palestinian-saint",
   "metadata": {},
   "outputs": [],
   "source": [
    "def bag_of_words(s, words):\n",
    "    bag = [0 for _ in range(len(words))]\n",
    "\n",
    "    s_words = nltk.word_tokenize(s)\n",
    "    s_words = [stemmer.stem(word.lower()) for word in s_words]\n",
    "\n",
    "    for se in s_words:\n",
    "        for i, w in enumerate(words):\n",
    "            if w == se:\n",
    "                bag[i] = 1\n",
    "            \n",
    "    return numpy.array(bag)\n",
    "\n",
    "\n"
   ]
  },
  {
   "cell_type": "code",
   "execution_count": 2,
   "id": "nominated-wayne",
   "metadata": {},
   "outputs": [],
   "source": [
    "def get_response(msg):\n",
    "    \n",
    "    results = model.predict(np.array([bag_of_words(msg, words)]))[0]\n",
    "    results_index = np.argmax(results)\n",
    "    tag = labels[results_index]\n",
    "    \n",
    "    for tg in data[\"intents\"]:\n",
    "        if tg['tag'] == tag:\n",
    "            responses = tg['responses']\n",
    "\n",
    "    return(random.choice(responses))\n",
    "    \n",
    "    \n",
    "    "
   ]
  },
  {
   "cell_type": "markdown",
   "id": "announced-harmony",
   "metadata": {},
   "source": [
    "Here we will demo the chatbot. We created a Gui using the python package Tkinter in order to showcase our chatbot."
   ]
  },
  {
   "cell_type": "code",
   "execution_count": null,
   "id": "western-chair",
   "metadata": {},
   "outputs": [],
   "source": [
    "BG_GRAY = \"#ABB2B9\"\n",
    "BG_COLOR = \"#17202A\"\n",
    "TEXT_COLOR = \"#EAECEE\"\n",
    "\n",
    "FONT = \"Helvetica 14\"\n",
    "FONT_BOLD = \"Helvetica 13 bold\"\n",
    "\n",
    "bot_name = \"Todd\" # set the bot name for the instant message gui "
   ]
  },
  {
   "cell_type": "code",
   "execution_count": null,
   "id": "western-rebound",
   "metadata": {},
   "outputs": [],
   "source": [
    "class ChatApplication:\n",
    "    \n",
    "    def __init__(self):\n",
    "        self.window = Tk()\n",
    "        self._setup_main_window()\n",
    "        \n",
    "    def run(self):\n",
    "        self.window.mainloop()\n",
    "        \n",
    "    def _setup_main_window(self):\n",
    "        self.window.title(\"Chat\")\n",
    "        self.window.resizable(width=False, height=False)\n",
    "        self.window.configure(width=900, height=550, bg=BG_COLOR)\n",
    "        \n",
    "        # head label\n",
    "        head_label = Label(self.window, bg=BG_COLOR, fg=TEXT_COLOR,\n",
    "                           text=\"Welcome\", font=FONT_BOLD, pady=10)\n",
    "        head_label.place(relwidth=1)\n",
    "        \n",
    "        # tiny divider\n",
    "        line = Label(self.window, width=450, bg=BG_GRAY)\n",
    "        line.place(relwidth=1, rely=0.07, relheight=0.012)\n",
    "        \n",
    "        # text widget\n",
    "        self.text_widget = Text(self.window, width=20, height=2, bg=BG_COLOR, fg=TEXT_COLOR,\n",
    "                                font=FONT, padx=5, pady=5)\n",
    "        self.text_widget.place(relheight=0.745, relwidth=1, rely=0.08)\n",
    "        self.text_widget.configure(cursor=\"arrow\", state=DISABLED)\n",
    "        \n",
    "        # scroll bar\n",
    "        h_scrollbar = Scrollbar(self.text_widget, orient = 'horizontal')\n",
    "        h_scrollbar.place()\n",
    "        h_scrollbar.configure(command=self.text_widget.xview)\n",
    "        \n",
    "        # bottom label\n",
    "        bottom_label = Label(self.window, bg=BG_GRAY, height=80)\n",
    "        bottom_label.place(relwidth=1, rely=0.825)\n",
    "        \n",
    "        # message entry box\n",
    "        self.msg_entry = Entry(bottom_label, bg=\"#2C3E50\", fg=TEXT_COLOR, font=FONT)\n",
    "        self.msg_entry.place(relwidth=0.74, relheight=0.06, rely=0.008, relx=0.011)\n",
    "        self.msg_entry.focus()\n",
    "        self.msg_entry.bind(\"<Return>\", self._on_enter_pressed)\n",
    "        \n",
    "        # send button\n",
    "        send_button = Button(bottom_label, text=\"Send\", font=FONT_BOLD, width=20, bg=BG_GRAY,\n",
    "                             command=lambda: self._on_enter_pressed(None))\n",
    "        send_button.place(relx=0.77, rely=0.008, relheight=0.06, relwidth=0.22)\n",
    "        \n",
    "        \n",
    "    def _on_enter_pressed(self, event):\n",
    "        msg = self.msg_entry.get()\n",
    "        self._insert_message(msg, \"You\")\n",
    "    \n",
    "    \n",
    "    def _insert_message(self, msg, sender):\n",
    "        if not msg:\n",
    "            return\n",
    "        \n",
    "        self.msg_entry.delete(0, END)\n",
    "        msg1 = f\"{sender}: {msg}\\n\\n\"\n",
    "        self.text_widget.configure(state=NORMAL)\n",
    "        self.text_widget.insert(END, msg1)\n",
    "        self.text_widget.configure(state=DISABLED)\n",
    "        \n",
    "        msg2 = f\"{bot_name}: {get_response(msg)}\\n\\n\"\n",
    "        self.text_widget.configure(state=NORMAL)\n",
    "        self.text_widget.insert(END, msg2)\n",
    "        self.text_widget.configure(state=DISABLED)\n",
    "        \n",
    "        self.text_widget.see(END)"
   ]
  },
  {
   "cell_type": "markdown",
   "id": "according-positive",
   "metadata": {},
   "source": []
  },
  {
   "cell_type": "code",
   "execution_count": null,
   "id": "specific-titanium",
   "metadata": {},
   "outputs": [],
   "source": [
    "# start the application\n",
    "if __name__ == \"__main__\":\n",
    "    app = ChatApplication()\n",
    "    app.run()"
   ]
  }
 ],
 "metadata": {
  "kernelspec": {
   "display_name": "Python 3",
   "language": "python",
   "name": "python3"
  },
  "language_info": {
   "codemirror_mode": {
    "name": "ipython",
    "version": 3
   },
   "file_extension": ".py",
   "mimetype": "text/x-python",
   "name": "python",
   "nbconvert_exporter": "python",
   "pygments_lexer": "ipython3",
   "version": "3.8.6"
  }
 },
 "nbformat": 4,
 "nbformat_minor": 5
}
