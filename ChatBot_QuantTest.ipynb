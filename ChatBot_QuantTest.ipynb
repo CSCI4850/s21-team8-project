{
 "cells": [
  {
   "cell_type": "code",
   "execution_count": 17,
   "id": "early-spain",
   "metadata": {},
   "outputs": [],
   "source": [
    "# import what we need\n",
    "import nltk\n",
    "from nltk.stem.lancaster import LancasterStemmer ## used to stem words\n",
    "import tensorflow\n",
    "import random\n",
    "import json # used to read in json file\n",
    "stemmer = LancasterStemmer()\n",
    "\n",
    "import numpy as np\n",
    "import tensorflow.keras as keras\n",
    "\n",
    "# printing \n",
    "from IPython.display import display\n",
    "import sympy as sp\n",
    "sp.init_printing(use_latex=True)\n",
    "\n",
    "# Plotting\n",
    "import matplotlib.pyplot as plt\n",
    "%matplotlib inline"
   ]
  },
  {
   "cell_type": "code",
   "execution_count": 18,
   "id": "natural-handbook",
   "metadata": {},
   "outputs": [],
   "source": [
    "# load json file\n",
    "with open(\"intents.json\") as file:\n",
    "    data = json.load(file)"
   ]
  },
  {
   "cell_type": "code",
   "execution_count": 32,
   "id": "accepting-restriction",
   "metadata": {},
   "outputs": [
    {
     "name": "stdout",
     "output_type": "stream",
     "text": [
      "5/5 [==============================] - 0s 2ms/step - loss: 6.8182e-04 - categorical_accuracy: 1.0000\n",
      "printing model.fit stats for loop:  1\n",
      "Loss: 0.0006818175315856934\n",
      "Accuracy: 1.0\n",
      "print model.predict stats for loop:  1\n",
      "Percentage correct: 28.57%\n",
      "5/5 [==============================] - 0s 2ms/step - loss: 1.1781e-04 - categorical_accuracy: 1.0000\n",
      "printing model.fit stats for loop:  2\n",
      "Loss: 0.00011780506611103192\n",
      "Accuracy: 1.0\n",
      "print model.predict stats for loop:  2\n",
      "Percentage correct: 47.62%\n",
      "5/5 [==============================] - 0s 2ms/step - loss: 4.0740e-04 - categorical_accuracy: 1.0000\n",
      "printing model.fit stats for loop:  3\n",
      "Loss: 0.00040740103577263653\n",
      "Accuracy: 1.0\n",
      "print model.predict stats for loop:  3\n",
      "Percentage correct: 38.10%\n",
      "5/5 [==============================] - 0s 2ms/step - loss: 4.5413e-05 - categorical_accuracy: 1.0000\n",
      "printing model.fit stats for loop:  4\n",
      "Loss: 4.5412674808176234e-05\n",
      "Accuracy: 1.0\n",
      "print model.predict stats for loop:  4\n",
      "Percentage correct: 57.14%\n",
      "5/5 [==============================] - 0s 2ms/step - loss: 3.7830e-04 - categorical_accuracy: 1.0000\n",
      "printing model.fit stats for loop:  5\n",
      "Loss: 0.0003782959538511932\n",
      "Accuracy: 1.0\n",
      "print model.predict stats for loop:  5\n",
      "Percentage correct: 47.62%\n",
      "5/5 [==============================] - 0s 2ms/step - loss: 4.4017e-04 - categorical_accuracy: 1.0000\n",
      "printing model.fit stats for loop:  6\n",
      "Loss: 0.0004401719488669187\n",
      "Accuracy: 1.0\n",
      "print model.predict stats for loop:  6\n",
      "Percentage correct: 33.33%\n",
      "5/5 [==============================] - 0s 2ms/step - loss: 6.9935e-05 - categorical_accuracy: 1.0000\n",
      "printing model.fit stats for loop:  7\n",
      "Loss: 6.993479473749176e-05\n",
      "Accuracy: 1.0\n",
      "print model.predict stats for loop:  7\n",
      "Percentage correct: 57.14%\n",
      "5/5 [==============================] - 0s 2ms/step - loss: 1.8610e-04 - categorical_accuracy: 1.0000\n",
      "printing model.fit stats for loop:  8\n",
      "Loss: 0.00018610211554914713\n",
      "Accuracy: 1.0\n",
      "print model.predict stats for loop:  8\n",
      "Percentage correct: 52.38%\n",
      "5/5 [==============================] - 0s 2ms/step - loss: 2.4712e-04 - categorical_accuracy: 1.0000\n",
      "printing model.fit stats for loop:  9\n",
      "Loss: 0.00024712071171961725\n",
      "Accuracy: 1.0\n",
      "print model.predict stats for loop:  9\n",
      "Percentage correct: 52.38%\n",
      "5/5 [==============================] - 0s 2ms/step - loss: 1.1435e-04 - categorical_accuracy: 1.0000\n",
      "printing model.fit stats for loop:  10\n",
      "Loss: 0.00011435490159783512\n",
      "Accuracy: 1.0\n",
      "print model.predict stats for loop:  10\n",
      "Percentage correct: 38.10%\n",
      "5/5 [==============================] - 0s 2ms/step - loss: 9.1446e-05 - categorical_accuracy: 1.0000\n",
      "printing model.fit stats for loop:  11\n",
      "Loss: 9.144561772700399e-05\n",
      "Accuracy: 1.0\n",
      "print model.predict stats for loop:  11\n",
      "Percentage correct: 33.33%\n",
      "5/5 [==============================] - 0s 2ms/step - loss: 1.4484e-04 - categorical_accuracy: 1.0000\n",
      "printing model.fit stats for loop:  12\n",
      "Loss: 0.00014484094572253525\n",
      "Accuracy: 1.0\n",
      "print model.predict stats for loop:  12\n",
      "Percentage correct: 33.33%\n",
      "5/5 [==============================] - 0s 2ms/step - loss: 5.7847e-05 - categorical_accuracy: 1.0000\n",
      "printing model.fit stats for loop:  13\n",
      "Loss: 5.784651875728741e-05\n",
      "Accuracy: 1.0\n",
      "print model.predict stats for loop:  13\n",
      "Percentage correct: 47.62%\n",
      "5/5 [==============================] - 0s 2ms/step - loss: 1.3315e-04 - categorical_accuracy: 1.0000\n",
      "printing model.fit stats for loop:  14\n",
      "Loss: 0.00013314721581991762\n",
      "Accuracy: 1.0\n",
      "print model.predict stats for loop:  14\n",
      "Percentage correct: 33.33%\n",
      "printing model.fit stats for loop:  20\n",
      "Loss: 0.00014803794329054654\n",
      "Accuracy: 1.0\n",
      "print model.predict stats for loop:  20\n",
      "Percentage correct: 47.62%\n",
      "5/5 [==============================] - 0s 3ms/step - loss: 7.1682e-04 - categorical_accuracy: 1.0000\n",
      "printing model.fit stats for loop:  21\n",
      "Loss: 0.0007168228039517999\n",
      "Accuracy: 1.0\n",
      "print model.predict stats for loop:  21\n",
      "Percentage correct: 47.62%\n",
      "5/5 [==============================] - 0s 2ms/step - loss: 1.6154e-04 - categorical_accuracy: 1.0000\n",
      "printing model.fit stats for loop:  22\n",
      "Loss: 0.00016153721662703902\n",
      "Accuracy: 1.0\n",
      "print model.predict stats for loop:  22\n",
      "Percentage correct: 52.38%\n",
      "5/5 [==============================] - 0s 2ms/step - loss: 3.9996e-04 - categorical_accuracy: 1.0000\n",
      "printing model.fit stats for loop:  23\n",
      "Loss: 0.00039996093255467713\n",
      "Accuracy: 1.0\n",
      "print model.predict stats for loop:  23\n",
      "Percentage correct: 47.62%\n",
      "5/5 [==============================] - 1s 2ms/step - loss: 1.1089e-04 - categorical_accuracy: 1.0000\n",
      "printing model.fit stats for loop:  24\n",
      "Loss: 0.00011088757310062647\n",
      "Accuracy: 1.0\n",
      "print model.predict stats for loop:  24\n",
      "Percentage correct: 28.57%\n",
      "5/5 [==============================] - 0s 2ms/step - loss: 9.9815e-05 - categorical_accuracy: 1.0000\n",
      "printing model.fit stats for loop:  25\n",
      "Loss: 9.981462062569335e-05\n",
      "Accuracy: 1.0\n",
      "print model.predict stats for loop:  25\n",
      "Percentage correct: 61.90%\n",
      "5/5 [==============================] - 0s 2ms/step - loss: 5.0161e-04 - categorical_accuracy: 1.0000\n",
      "printing model.fit stats for loop:  26\n",
      "Loss: 0.0005016137147322297\n",
      "Accuracy: 1.0\n",
      "print model.predict stats for loop:  26\n",
      "Percentage correct: 23.81%\n",
      "5/5 [==============================] - 0s 2ms/step - loss: 5.1611e-04 - categorical_accuracy: 1.0000\n",
      "printing model.fit stats for loop:  27\n",
      "Loss: 0.0005161051522009075\n",
      "Accuracy: 1.0\n",
      "print model.predict stats for loop:  27\n",
      "Percentage correct: 42.86%\n",
      "5/5 [==============================] - 0s 2ms/step - loss: 0.0011 - categorical_accuracy: 1.0000\n",
      "printing model.fit stats for loop:  28\n",
      "Loss: 0.0011381707154214382\n",
      "Accuracy: 1.0\n",
      "print model.predict stats for loop:  28\n",
      "Percentage correct: 33.33%\n",
      "5/5 [==============================] - 0s 2ms/step - loss: 3.4561e-04 - categorical_accuracy: 1.0000\n",
      "printing model.fit stats for loop:  29\n",
      "Loss: 0.0003456068516243249\n",
      "Accuracy: 1.0\n",
      "print model.predict stats for loop:  29\n",
      "Percentage correct: 47.62%\n",
      "5/5 [==============================] - 0s 2ms/step - loss: 1.4868e-04 - categorical_accuracy: 1.0000\n",
      "printing model.fit stats for loop:  30\n",
      "Loss: 0.00014868371363263577\n",
      "Accuracy: 1.0\n",
      "print model.predict stats for loop:  30\n",
      "Percentage correct: 47.62%\n"
     ]
    }
   ],
   "source": [
    "# need to loop through random training, add each result to seperate list \n",
    "\n",
    "model_acc = []\n",
    "times_to_loop = 30\n",
    "\n",
    "for times in range(times_to_loop):\n",
    "    \n",
    "    words = []\n",
    "    labels = []\n",
    "\n",
    "    docs_x = []\n",
    "    docs_y = []\n",
    "\n",
    "    test_patterns = []\n",
    "\n",
    "    # loop through dict to grab our values\n",
    "    for intent in data['intents']:\n",
    "        rand = random.randint(0, len(intent['patterns'])-1)\n",
    "        test_pattern = intent['patterns'][rand]\n",
    "        test_patterns.append(test_pattern)\n",
    "\n",
    "        for pattern in intent['patterns']:\n",
    "            if pattern != test_pattern:\n",
    "                # stemming get the root of word, when traiing model \n",
    "                # only care abt the main meaning of word\n",
    "                # need to tokenize/split words\n",
    "                wrds = nltk.word_tokenize(pattern)\n",
    "                words.extend(wrds) ## add all wrds to list\n",
    "                docs_x.append(wrds)\n",
    "                # for each pattern add another item in this var to track what tag its part of\n",
    "                # each entry in docs_x (tokenized words/wrds) will correspond to (intent) docs_y so we know how to classify\n",
    "                # each of the patterns\n",
    "                docs_y.append(intent['tag'])\n",
    "\n",
    "                if intent['tag'] not in labels:\n",
    "                    labels.append(intent['tag']) # grab all diff tags we need\n",
    "    \n",
    "    \n",
    "    # stem words and remove duplicate words. also lower all words so dont confuse the network into \n",
    "    # thinking spelling case has different meaning\n",
    "    words = [stemmer.stem(w.lower()) for w in words if w!= '?' ] # remove any Question marks, dont want this\n",
    "    words = sorted(list(set(words)))                             # to have any meaning to our model\n",
    "    # sort the labels also \n",
    "    labels = sorted(labels)\n",
    "    \n",
    "    \n",
    "    # prepare data before we feed into the model \n",
    "    # need to convert our text in lists to nums (One-hot-encoding) so our network can \n",
    "    # categorize the data\n",
    "    training = [] # input data goes here \n",
    "    output = [] \n",
    "\n",
    "    out_empty = [0 for _ in range(len(labels))]\n",
    "\n",
    "    for x, doc in enumerate(docs_x):\n",
    "\n",
    "        bag = [] # will be our bag of one hot encoded words\n",
    "        wrds = [stemmer.stem(w) for w in doc] # stem all the words in patterns\n",
    "\n",
    "        # go through all diff words in list that are stemmed\n",
    "        # and add either 1 or 0 to bag of words depending on if this word is in the \n",
    "        # main words list \"(words = sorted(list(set(words))))\"\n",
    "        for w in words:\n",
    "            # if word here place 1 representing that word exists\n",
    "            if w in wrds:\n",
    "                bag.append(1)\n",
    "            else:\n",
    "                # word isn't here place 0\n",
    "                bag.append(0)\n",
    "\n",
    "        # now generate output that has either 0's or 1's representing the tag that is word\n",
    "        output_row = out_empty[:]\n",
    "        # will look through labels list and check where tag is in list and set that value to 1 \n",
    "        # in the output_row \n",
    "        output_row[labels.index(docs_y[x])] = 1\n",
    "\n",
    "        # now we have both lists that are now One-hot-encoded !!\n",
    "        training.append(bag)\n",
    "        output.append(output_row)\n",
    "        \n",
    "\n",
    "    # turn lists into numpy array\n",
    "    training = np.array(training)\n",
    "    output = np.array(output)\n",
    "    \n",
    "    \n",
    "    \n",
    "    \n",
    "    # Multi-layer net with ReLU hidden layer\n",
    "    model = keras.models.Sequential()\n",
    "\n",
    "    model.add(keras.layers.Dense(8,input_dim=training.shape[1],activation='relu',\n",
    "     bias_initializer=keras.initializers.Constant(0.1)))\n",
    "\n",
    "    model.add(keras.layers.Dense(8,activation='relu',\n",
    "     bias_initializer=keras.initializers.Constant(0.1)))\n",
    "\n",
    "    model.add(keras.layers.Dense(8,activation='relu',\n",
    "     bias_initializer=keras.initializers.Constant(0.1)))\n",
    "\n",
    "    model.add(keras.layers.Dense(8,activation='relu',\n",
    "     bias_initializer=keras.initializers.Constant(0.1)))\n",
    "\n",
    "    # Output layer (size 6), softmax activation function\n",
    "    model.add(keras.layers.Dense(output.shape[1],activation='softmax'))\n",
    "    \n",
    "    \n",
    "    \n",
    "    # Compile as above (default learning rate and other\n",
    "    # hyperparameters for the Adam optimizer).\n",
    "    # default learning rate for adam optimizer is 0.001\n",
    "\n",
    "    model.compile(loss=keras.losses.CategoricalCrossentropy(),\n",
    "     optimizer=keras.optimizers.Nadam(learning_rate=0.001),\n",
    "     metrics=[keras.metrics.CategoricalAccuracy()])\n",
    "    \n",
    "    \n",
    "    \n",
    "    # Train it!\n",
    "    history = model.fit(training, output,\n",
    "     batch_size=1,\n",
    "     epochs=100,\n",
    "     verbose=0)\n",
    "    \n",
    "    # print loss and accuracy from training\n",
    "    score = model.evaluate(training,output,verbose=1)\n",
    "    print(\"printing model.fit stats for loop: \",times + 1)\n",
    "    print(\"Loss:\",score[0])\n",
    "    print(\"Accuracy:\",score[1])\n",
    "    \n",
    "   \n",
    "\n",
    "    \n",
    "    def bag_of_words(s, words):\n",
    "        bag = [0 for _ in range(len(words))]\n",
    "\n",
    "        s_words = nltk.word_tokenize(s)\n",
    "        s_words = [stemmer.stem(word.lower()) for word in s_words]\n",
    "\n",
    "        for se in s_words:\n",
    "            for i, w in enumerate(words):\n",
    "                if w == se:\n",
    "                    bag[i] = 1\n",
    "\n",
    "        return np.array(bag)\n",
    "\n",
    "\n",
    "    \n",
    "    def run_test(show_successes=True, show_failures=True):\n",
    "        successes = []\n",
    "        failures = []\n",
    "\n",
    "        for i in range(len(test_patterns)):\n",
    "            results = model.predict(np.array([bag_of_words(test_patterns[i], words)]))[0]\n",
    "\n",
    "            results_index = np.argmax(results)\n",
    "            tag = labels[results_index]\n",
    "\n",
    "            # protect against unknown questions , if model is unsure what user ask they will ask user to rephrase their question \n",
    "            if results[results_index] > 0.92:   # the value when the model cant recognize is 0.9133338 so i set this value just above it\n",
    "                for tg in data[\"intents\"]:\n",
    "                    if tg['tag'] == tag:\n",
    "                        responses = tg['responses']\n",
    "\n",
    "                answer = random.choice(responses)\n",
    "\n",
    "            else:\n",
    "                answer = 'Answer not found'\n",
    "\n",
    "            real_tag = data[\"intents\"][i]\n",
    "            real_responses = real_tag[\"responses\"]\n",
    "\n",
    "            if answer in real_responses:\n",
    "                successes.append([test_patterns[i], answer])\n",
    "            else:\n",
    "                failures.append([test_patterns[i], answer])\n",
    "\n",
    "        print(\"print model.predict stats for loop: \",times + 1)\n",
    "        print( \"Percentage correct: {:.2%}\".format(len(successes)/(len(successes)+len(failures))) )\n",
    "        acc_score = round((len(successes)/(len(successes)+len(failures))),2)\n",
    "        \n",
    "        model_acc.append(acc_score)\n",
    "    \n",
    "    run_test()\n",
    "    "
   ]
  },
  {
   "cell_type": "code",
   "execution_count": 44,
   "id": "advisory-joyce",
   "metadata": {},
   "outputs": [
    {
     "data": {
      "image/png": "[encoded data removed]",
      "text/latex": [
       "$\\displaystyle \\left[ 0.29, \\  0.48, \\  0.38, \\  0.57, \\  0.48, \\  0.33, \\  0.57, \\  0.52, \\  0.52, \\  0.38, \\  0.33, \\  0.33, \\  0.48, \\  0.33, \\  0.43, \\  0.38, \\  0.38, \\  0.38, \\  0.43, \\  0.48, \\  0.48, \\  0.52, \\  0.48, \\  0.29, \\  0.62, \\  0.24, \\  0.43, \\  0.33, \\  0.48, \\  0.48\\right]$"
      ],
      "text/plain": [
       "[0.29, 0.48, 0.38, 0.57, 0.48, 0.33, 0.57, 0.52, 0.52, 0.38, 0.33, 0.33, 0.48,\n",
       " 0.33, 0.43, 0.38, 0.38, 0.38, 0.43, 0.48, 0.48, 0.52, 0.48, 0.29, 0.62, 0.24,\n",
       " 0.43, 0.33, 0.48, 0.48]"
      ]
     },
     "execution_count": 44,
     "metadata": {},
     "output_type": "execute_result"
    }
   ],
   "source": [
    "\n",
    "model_acc"
   ]
  },
  {
   "cell_type": "code",
   "execution_count": null,
   "id": "popular-vertex",
   "metadata": {},
   "outputs": [],
   "source": []
  },
  {
   "cell_type": "code",
   "execution_count": 54,
   "id": "exceptional-domestic",
   "metadata": {},
   "outputs": [],
   "source": [
    "# A custom function to calculate\n",
    "# probability distribution function\n",
    "def pdf(x):\n",
    "    mean = np.mean(x)\n",
    "    std = np.std(x)\n",
    "    y_out = 1/(std * np.sqrt(2 * np.pi)) * np.exp( - (x - mean)**2 / (2 * std**2))\n",
    "    return y_out\n"
   ]
  },
  {
   "cell_type": "code",
   "execution_count": 55,
   "id": "acquired-statement",
   "metadata": {},
   "outputs": [],
   "source": [
    "x = np.arange(len(model_acc))\n",
    "y = pdf(x)"
   ]
  },
  {
   "cell_type": "code",
   "execution_count": 56,
   "id": "common-salvation",
   "metadata": {},
   "outputs": [
    {
     "data": {
      "image/png": "[encoded data removed]",
      "text/plain": [
       "<Figure size 432x432 with 1 Axes>"
      ]
     },
     "metadata": {},
     "output_type": "display_data"
    }
   ],
   "source": [
    "# Plotting the bell-shaped curve\n",
    "plt.style.use('seaborn')\n",
    "plt.figure(figsize = (6, 6))\n",
    "plt.plot(x, y, color = 'black',\n",
    "         linestyle = 'dashed')\n",
    "  \n",
    "plt.scatter( x, y, marker = 'o', s = 25, color = 'red')\n",
    "plt.show()"
   ]
  },
  {
   "cell_type": "code",
   "execution_count": 57,
   "id": "unusual-jacob",
   "metadata": {},
   "outputs": [],
   "source": [
    "#  get sum of list of validation scores\n",
    "total = sum(model_acc)"
   ]
  },
  {
   "cell_type": "code",
   "execution_count": 58,
   "id": "inclusive-recipient",
   "metadata": {},
   "outputs": [
    {
     "data": {
      "image/png": "[encoded data removed]",
      "text/latex": [
       "$\\displaystyle 12.82$"
      ],
      "text/plain": [
       "12.819999999999999"
      ]
     },
     "execution_count": 58,
     "metadata": {},
     "output_type": "execute_result"
    }
   ],
   "source": [
    "total"
   ]
  },
  {
   "cell_type": "code",
   "execution_count": 59,
   "id": "vanilla-moldova",
   "metadata": {},
   "outputs": [],
   "source": [
    "# calculate average \n",
    "avg = total/len(model_acc)"
   ]
  },
  {
   "cell_type": "code",
   "execution_count": 60,
   "id": "composite-classics",
   "metadata": {},
   "outputs": [
    {
     "data": {
      "image/png": "[encoded data removed]",
      "text/latex": [
       "$\\displaystyle 0.427333333333333$"
      ],
      "text/plain": [
       "0.4273333333333333"
      ]
     },
     "execution_count": 60,
     "metadata": {},
     "output_type": "execute_result"
    }
   ],
   "source": [
    "avg"
   ]
  },
  {
   "cell_type": "code",
   "execution_count": 61,
   "id": "graphic-savage",
   "metadata": {},
   "outputs": [],
   "source": [
    "#calculate standard error of the mean \n",
    "SE = np.std(model_acc, ddof=1) / np.sqrt(np.size(model_acc))"
   ]
  },
  {
   "cell_type": "code",
   "execution_count": 62,
   "id": "fundamental-warren",
   "metadata": {},
   "outputs": [
    {
     "data": {
      "image/png": "[encoded data removed]",
      "text/latex": [
       "$\\displaystyle 0.461032617043901$"
      ],
      "text/plain": [
       "0.4610326170439014"
      ]
     },
     "execution_count": 62,
     "metadata": {},
     "output_type": "execute_result"
    }
   ],
   "source": [
    "# calc Confidence interval for 95% confidence level \n",
    "avg + (1.96 * SE) # calc upper confidence limit "
   ]
  },
  {
   "cell_type": "code",
   "execution_count": 63,
   "id": "baking-commercial",
   "metadata": {},
   "outputs": [
    {
     "data": {
      "image/png": "[encoded data removed]",
      "text/latex": [
       "$\\displaystyle 0.393634049622765$"
      ],
      "text/plain": [
       "0.39363404962276516"
      ]
     },
     "execution_count": 63,
     "metadata": {},
     "output_type": "execute_result"
    }
   ],
   "source": [
    "avg - (1.96 * SE) # calc lower confidence limit "
   ]
  },
  {
   "cell_type": "code",
   "execution_count": null,
   "id": "stupid-repository",
   "metadata": {},
   "outputs": [],
   "source": []
  }
 ],
 "metadata": {
  "kernelspec": {
   "display_name": "Python 3",
   "language": "python",
   "name": "python3"
  },
  "language_info": {
   "codemirror_mode": {
    "name": "ipython",
    "version": 3
   },
   "file_extension": ".py",
   "mimetype": "text/x-python",
   "name": "python",
   "nbconvert_exporter": "python",
   "pygments_lexer": "ipython3",
   "version": "3.8.6"
  }
 },
 "nbformat": 4,
 "nbformat_minor": 5
}
