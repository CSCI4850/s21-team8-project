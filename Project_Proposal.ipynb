{
 "cells": [
  {
   "cell_type": "markdown",
   "id": "molecular-timothy",
   "metadata": {},
   "source": [
    "Neural Nets - Team 8\n",
    "Chat Bot Proposal\n",
    "\n",
    "    For our project, we want to create a chatbot that is able to give greetings, goodbyes, and accurately asses conversations. The goal is for it to be able to respond to general questions, solve simple math equations and tell a joke/respond to a joke. The math will be able to compute addition, subtraction, multiplication, and division.\n",
    "\n",
    "    We will be mainly using technology we learned in class. As we referenced different ideas on how to approach the design, many of these elements will be similar like Numpy, Keras, and Tensorflow. We will also be using two sets of data. One set will be used for training and one set for testing. https://dbd-challenge.github.io/dbdc3/datasets.html \n",
    "    \n",
    "    We can use a python package called NLTK, which is a suite that contains libraries and programs for statistical language processing.  It is one of the most powerful NLP libraries, which contains packages to make machines understand human language and reply to it with an appropriate response.When it comes to every single tool we will use, we will start out using mainly tools learned in class, but expect to potentially come across tools we might need to implement later on.\n",
    "    \n",
    "    The tests will perform general questions to see if our bot responds correctly, as well as ask questions not specified in our data to see the response we get. The questions will come from the data set, and will be of many different types of data. Some basic conversational questions, and some topic based questions (i.e. cars, or sports, olympic stats). We also need to find a great set of data that has information which is easily understandable for the machine when training.\n",
    "    \n",
    "    Some hurdles we might encounter could include actually understanding the data files first before implementing them. Then once we understand them, we format them correctly (i.e. easy for us to mess with), and then ultimately use them in training effectively. Additionally, it may become necessary to create our own data sets. This may be a challenge due to the fact that we will need to cover many different phrases and responses, plus all the different ways that one can say the same phrase.  It will also be a challenge to, once we have trained our neural network, actually make the program interactive.\n",
    "    \n",
    "    There are a lot of resources on the topic of chatbots utilizing neural networks. Our group has identified a few sources that we will be learning from. Following is a list of resources that we have identified: \n",
    "\n",
    "        -Building a Conversational Chatbot with NLTK and TensorFlow by Bamigbade Opeyemi \n",
    "        -How Neural Networks Work via chatbotslife.com\n",
    "        -How To Build Your Own Chatbot Using Deep Learning by Amila Viraj\n",
    "        -https://www.tensorflow.org/guide/keras/save_and_serialize \n",
    "\n",
    "    Potential Datasets we want to use\n",
    "        -https://dbd-challenge.github.io/dbdc3/datasets.html\n",
    "            -->Multiple dialogue datasets in .json file format (100 - 115 dialogues per file)\n",
    "        -http://convai.io/data/data_intermediate.json\n",
    "            -->Dialogue between 2 chat bots ( http://convai.io/data/data_intermediate.json)\n",
    "        -https://gist.githubusercontent.com/amilavm/f9d370b96e893206688117532328f21e/raw/7409cf368c1d71e63a2fcbe1095d0117205f54d3/intents.json\n",
    "            -->Conversational data set in a .json file \n"
   ]
  }
 ],
 "metadata": {
  "kernelspec": {
   "display_name": "Python 3",
   "language": "python",
   "name": "python3"
  },
  "language_info": {
   "codemirror_mode": {
    "name": "ipython",
    "version": 3
   },
   "file_extension": ".py",
   "mimetype": "text/x-python",
   "name": "python",
   "nbconvert_exporter": "python",
   "pygments_lexer": "ipython3",
   "version": "3.8.6"
  }
 },
 "nbformat": 4,
 "nbformat_minor": 5
}
