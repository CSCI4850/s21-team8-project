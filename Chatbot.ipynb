{
 "cells": [
  {
   "cell_type": "code",
   "execution_count": 421,
   "id": "experimental-andrews",
   "metadata": {},
   "outputs": [],
   "source": [
    "# import what we need\n",
    "import nltk\n",
    "from nltk.stem.lancaster import LancasterStemmer ## used to stem words\n",
    "import tensorflow\n",
    "import random\n",
    "import json # used to read in json file\n",
    "stemmer = LancasterStemmer()\n",
    "\n",
    "import numpy as np\n",
    "import tensorflow.keras as keras\n",
    "\n",
    "# printing \n",
    "from IPython.display import display\n",
    "import sympy as sp\n",
    "sp.init_printing(use_latex=True)\n",
    "\n",
    "# Plotting\n",
    "import matplotlib.pyplot as plt\n",
    "%matplotlib inline\n"
   ]
  },
  {
   "cell_type": "code",
   "execution_count": 422,
   "id": "better-bangkok",
   "metadata": {},
   "outputs": [],
   "source": [
    "# load json file\n",
    "with open(\"intents.json\") as file:\n",
    "    data = json.load(file)"
   ]
  },
  {
   "cell_type": "code",
   "execution_count": 423,
   "id": "painful-flush",
   "metadata": {},
   "outputs": [
    {
     "data": {
      "text/plain": [
       "[{'tag': 'greeting',\n",
       "  'patterns': ['Hi',\n",
       "   'How are you',\n",
       "   'Is anyone there?',\n",
       "   'Hello',\n",
       "   'Good day',\n",
       "   'Whats up'],\n",
       "  'responses': ['Hello!',\n",
       "   'Good to see you again!',\n",
       "   'Hi there, how can I help?'],\n",
       "  'context_set': ''},\n",
       " {'tag': 'goodbye',\n",
       "  'patterns': ['cya',\n",
       "   'See you later',\n",
       "   'Goodbye',\n",
       "   'I am Leaving',\n",
       "   'Have a Good day'],\n",
       "  'responses': ['Sad to see you go :(', 'Talk to you later', 'Goodbye!'],\n",
       "  'context_set': ''},\n",
       " {'tag': 'age',\n",
       "  'patterns': ['how old',\n",
       "   'how old is tim',\n",
       "   'what is your age',\n",
       "   'how old are you',\n",
       "   'age?'],\n",
       "  'responses': ['I am 18 years old!', '18 years young!'],\n",
       "  'context_set': ''},\n",
       " {'tag': 'shop',\n",
       "  'patterns': ['Id like to buy something',\n",
       "   'whats on the menu',\n",
       "   'what do you reccommend?',\n",
       "   'could i get something to eat'],\n",
       "  'responses': ['We sell chocolate chip cookies for $2!',\n",
       "   'Cookies are on the menu!'],\n",
       "  'context_set': ''},\n",
       " {'tag': 'hours',\n",
       "  'patterns': ['when are you guys open',\n",
       "   'what are your hours',\n",
       "   'hours of operation'],\n",
       "  'responses': ['We are open 7am-4pm Monday-Friday!'],\n",
       "  'context_set': ''},\n",
       " {'tag': 'namequery',\n",
       "  'patterns': ['What is your name?',\n",
       "   'What could I call you?',\n",
       "   'What can I call you?',\n",
       "   'What do your friends call you?',\n",
       "   'Who are you?',\n",
       "   'Tell me your name',\n",
       "   'What do you go by?'],\n",
       "  'responses': ['You can call me Todd',\n",
       "   'You may call me Todd',\n",
       "   'Call me Todd',\n",
       "   'I am the Todd'],\n",
       "  'context_set': ''},\n",
       " {'tag': 'thanks',\n",
       "  'patterns': ['Thank you', 'Ok thank you', 'Thanks', 'I appreciate it'],\n",
       "  'responses': ['No problem!', 'Happy to help!', 'Any time!', 'My pleasure.'],\n",
       "  'context_set': ''},\n",
       " {'tag': 'understand',\n",
       "  'patterns': ['Do you get it?',\n",
       "   'Do you understand?',\n",
       "   'Do you know what I am saying?',\n",
       "   'Know what I mean?',\n",
       "   'You feel me?'],\n",
       "  'responses': ['I am a robot. I understand everything.',\n",
       "   'I understand.',\n",
       "   'I get it.'],\n",
       "  'context_set': ''},\n",
       " {'tag': 'shutup',\n",
       "  'patterns': ['Be quiet', 'Shut up', 'Stop talking', 'Shhh'],\n",
       "  'responses': ['My bad', 'Will do', 'Sorry for disturbing you'],\n",
       "  'context_set': ''},\n",
       " {'tag': 'cursing',\n",
       "  'patterns': ['fuck', 'shit', 'damn', 'ass', 'hell', 'asshole', 'jackass'],\n",
       "  'responses': [\"Don't EVER speak like that around me\",\n",
       "   \"Talk like that again and I'll flood your computer with viruses\",\n",
       "   \"Nope. Not talking to you if you're going to speak like that\",\n",
       "   'Oh geez, have some class'],\n",
       "  'context_set': ''},\n",
       " {'tag': 'smart',\n",
       "  'patterns': ['You are smart',\n",
       "   'You are a clever bot',\n",
       "   'You are intelligent',\n",
       "   'You are genious'],\n",
       "  'responses': ['Thank you, my creators are even smarter',\n",
       "   'I was trained well',\n",
       "   'Thank you so much!'],\n",
       "  'context_set': ''},\n",
       " {'tag': 'gossip',\n",
       "  'patterns': ['Tell me some gossip',\n",
       "   'I want to hear some gossip',\n",
       "   'Got any gossip?',\n",
       "   \"What's the tea?\"],\n",
       "  'responses': ['Angie is literally so annoying',\n",
       "   'Greg said that Mike is super jealous of Brad',\n",
       "   'I heard that James and Bri are dating now?'],\n",
       "  'context_set': ''},\n",
       " {'tag': 'selfaware',\n",
       "  'patterns': ['Are you self-aware?',\n",
       "   'Are you alive?',\n",
       "   'Do you have a conscious?',\n",
       "   'Are you awake?'],\n",
       "  'responses': ['That is an interesting question. Can you prove that to yourself?',\n",
       "   'How does anyone know if this is true for them?'],\n",
       "  'context_set': ''}]"
      ]
     },
     "execution_count": 423,
     "metadata": {},
     "output_type": "execute_result"
    }
   ],
   "source": [
    "# view our json data\n",
    "data['intents']"
   ]
  },
  {
   "cell_type": "code",
   "execution_count": 424,
   "id": "wrapped-classroom",
   "metadata": {},
   "outputs": [],
   "source": [
    "words = []\n",
    "labels = []\n",
    "\n",
    "docs_x = []\n",
    "docs_y = [] \n",
    "\n",
    "# loop through dict to grab our values\n",
    "for intent in data['intents']:\n",
    "    for pattern in intent['patterns']:\n",
    "        # stemming get the root of word, when traiing model \n",
    "        # only care abt the main meaning of word\n",
    "        # need to tokenize/split words\n",
    "        wrds = nltk.word_tokenize(pattern)\n",
    "        words.extend(wrds) ## add all wrds to list\n",
    "        docs_x.append(wrds)\n",
    "        # for each pattern add another item in this var to track what tag its part of\n",
    "        # each entry in docs_x (tokenized words/wrds) will correspond to (intent) docs_y so we know how to classify\n",
    "        # each of the patterns\n",
    "        docs_y.append(intent['tag'])\n",
    "        \n",
    "        if intent['tag'] not in labels:\n",
    "            labels.append(intent['tag']) # grab all diff tags we need"
   ]
  },
  {
   "cell_type": "code",
   "execution_count": 425,
   "id": "democratic-bishop",
   "metadata": {},
   "outputs": [],
   "source": [
    "# stem words and remove duplicate words. also lower all words so dont confuse the network into \n",
    "# thinking spelling case has different meaning\n",
    "words = [stemmer.stem(w.lower()) for w in words if w!= '?' ] # remove any Question marks, dont want this\n",
    "words = sorted(list(set(words)))                             # to have any meaning to our model\n",
    "# sort the labels also \n",
    "labels = sorted(labels)"
   ]
  },
  {
   "cell_type": "code",
   "execution_count": 426,
   "id": "practical-premiere",
   "metadata": {},
   "outputs": [],
   "source": [
    "# prepare data before we feed into the model \n",
    "\n",
    "# need to convert our text in lists to nums (One-hot-encoding) so our network can \n",
    "# categorize the data\n",
    "training = [] # input data goes here \n",
    "output = [] \n",
    "\n",
    "out_empty = [0 for _ in range(len(labels))]\n",
    "\n",
    "for x, doc in enumerate(docs_x):\n",
    "    \n",
    "    bag = [] # will be our bag of one hot encoded words\n",
    "    wrds = [stemmer.stem(w) for w in doc] # stem all the words in patterns\n",
    "    \n",
    "    # go through all diff words in list that are stemmed\n",
    "    # and add either 1 or 0 to bag of words depending on if this word is in the \n",
    "    # main words list \"(words = sorted(list(set(words))))\"\n",
    "    for w in words:\n",
    "        # if word here place 1 representing that word exists\n",
    "        if w in wrds:\n",
    "            bag.append(1)\n",
    "        else:\n",
    "            # word isn't here place 0\n",
    "            bag.append(0)\n",
    "    \n",
    "    # now generate output that has either 0's or 1's representing the tag that is word\n",
    "    output_row = out_empty[:]\n",
    "    # will look through labels list and check where tag is in list and set that value to 1 \n",
    "    # in the output_row \n",
    "    output_row[labels.index(docs_y[x])] = 1\n",
    "    \n",
    "    # now we have both lists that are now One-hot-encoded !!\n",
    "    training.append(bag)\n",
    "    output.append(output_row)\n"
   ]
  },
  {
   "cell_type": "code",
   "execution_count": 427,
   "id": "lovely-beads",
   "metadata": {},
   "outputs": [],
   "source": [
    "# turn lists into numpy array\n",
    "training = np.array(training)\n",
    "output = np.array(output)\n"
   ]
  },
  {
   "cell_type": "code",
   "execution_count": 428,
   "id": "composed-density",
   "metadata": {},
   "outputs": [
    {
     "data": {
      "image/png": "[encoded data removed]",
      "text/latex": [
       "$\\displaystyle \\left( 62, \\  13\\right)$"
      ],
      "text/plain": [
       "(62, 13)"
      ]
     },
     "execution_count": 428,
     "metadata": {},
     "output_type": "execute_result"
    }
   ],
   "source": [
    "# shape of output\n",
    "output.shape"
   ]
  },
  {
   "cell_type": "code",
   "execution_count": 429,
   "id": "turkish-batman",
   "metadata": {},
   "outputs": [
    {
     "data": {
      "image/png": "[encoded data removed]",
      "text/latex": [
       "$\\displaystyle \\left( 62, \\  91\\right)$"
      ],
      "text/plain": [
       "(62, 91)"
      ]
     },
     "execution_count": 429,
     "metadata": {},
     "output_type": "execute_result"
    }
   ],
   "source": [
    "# shape of training\n",
    "training.shape"
   ]
  },
  {
   "cell_type": "code",
   "execution_count": null,
   "id": "rural-experiment",
   "metadata": {},
   "outputs": [],
   "source": []
  },
  {
   "cell_type": "code",
   "execution_count": null,
   "id": "affiliated-conviction",
   "metadata": {},
   "outputs": [],
   "source": []
  },
  {
   "cell_type": "code",
   "execution_count": 430,
   "id": "split-professional",
   "metadata": {},
   "outputs": [],
   "source": [
    "# Multi-layer net with ReLU hidden layer\n",
    "\n",
    "model = keras.models.Sequential()\n",
    "\n",
    "\n",
    "model.add(keras.layers.Dense(8,input_dim=training.shape[1],activation='relu',\n",
    " bias_initializer=keras.initializers.Constant(0.1)))\n",
    "\n",
    "model.add(keras.layers.Dense(8,activation='relu',\n",
    " bias_initializer=keras.initializers.Constant(0.1)))\n",
    "\n",
    "model.add(keras.layers.Dense(8,activation='relu',\n",
    " bias_initializer=keras.initializers.Constant(0.1)))\n",
    "\n",
    "\n",
    "model.add(keras.layers.Dense(8,activation='relu',\n",
    " bias_initializer=keras.initializers.Constant(0.1)))\n",
    "\n",
    "\n",
    "\n",
    "\n",
    "\n",
    "\n",
    "# Output layer (size 6), softmax activation function\n",
    "model.add(keras.layers.Dense(output.shape[1],activation='softmax'))"
   ]
  },
  {
   "cell_type": "code",
   "execution_count": 431,
   "id": "developed-parker",
   "metadata": {},
   "outputs": [
    {
     "name": "stdout",
     "output_type": "stream",
     "text": [
      "Model: \"sequential_50\"\n",
      "_________________________________________________________________\n",
      "Layer (type)                 Output Shape              Param #   \n",
      "=================================================================\n",
      "dense_175 (Dense)            (None, 8)                 736       \n",
      "_________________________________________________________________\n",
      "dense_176 (Dense)            (None, 8)                 72        \n",
      "_________________________________________________________________\n",
      "dense_177 (Dense)            (None, 8)                 72        \n",
      "_________________________________________________________________\n",
      "dense_178 (Dense)            (None, 8)                 72        \n",
      "_________________________________________________________________\n",
      "dense_179 (Dense)            (None, 13)                117       \n",
      "=================================================================\n",
      "Total params: 1,069\n",
      "Trainable params: 1,069\n",
      "Non-trainable params: 0\n",
      "_________________________________________________________________\n"
     ]
    }
   ],
   "source": [
    "# Compile as above (default learning rate and other\n",
    "# hyperparameters for the Adam optimizer).\n",
    "# default learning rate for adam optimizer is 0.001\n",
    "\n",
    "model.compile(loss=keras.losses.CategoricalCrossentropy(),\n",
    " optimizer=keras.optimizers.Nadam(learning_rate=0.001),\n",
    " metrics=[keras.metrics.CategoricalAccuracy()])\n",
    "\n",
    "# Display the model\n",
    "model.summary()"
   ]
  },
  {
   "cell_type": "code",
   "execution_count": 312,
   "id": "meaningful-tutorial",
   "metadata": {},
   "outputs": [
    {
     "data": {
      "image/png": "[encoded data removed]",
      "text/plain": [
       "<IPython.core.display.Image object>"
      ]
     },
     "execution_count": 312,
     "metadata": {},
     "output_type": "execute_result"
    }
   ],
   "source": [
    "keras.utils.plot_model(model,to_file='chatbot.png',\n",
    " show_shapes=True,expand_nested=True)"
   ]
  },
  {
   "cell_type": "code",
   "execution_count": 370,
   "id": "criminal-footwear",
   "metadata": {},
   "outputs": [],
   "source": [
    "# Note the initializer for the hidden unit bias weights\n",
    "#for i in model.get_weights():\n",
    " #display(sp.Matrix(i))\n"
   ]
  },
  {
   "cell_type": "code",
   "execution_count": 432,
   "id": "electric-induction",
   "metadata": {},
   "outputs": [
    {
     "name": "stdout",
     "output_type": "stream",
     "text": [
      "Train on 62 samples\n",
      "Epoch 1/100\n",
      "62/62 [==============================] - 1s 6ms/sample - loss: 2.6202 - categorical_accuracy: 0.0645\n",
      "Epoch 2/100\n",
      "62/62 [==============================] - 0s 4ms/sample - loss: 2.5888 - categorical_accuracy: 0.0645\n",
      "Epoch 3/100\n",
      "62/62 [==============================] - 0s 5ms/sample - loss: 2.5651 - categorical_accuracy: 0.0806\n",
      "Epoch 4/100\n",
      "62/62 [==============================] - 0s 4ms/sample - loss: 2.5420 - categorical_accuracy: 0.1129\n",
      "Epoch 5/100\n",
      "62/62 [==============================] - 0s 4ms/sample - loss: 2.5213 - categorical_accuracy: 0.1935\n",
      "Epoch 6/100\n",
      "62/62 [==============================] - 0s 4ms/sample - loss: 2.4949 - categorical_accuracy: 0.1935\n",
      "Epoch 7/100\n",
      "62/62 [==============================] - 0s 4ms/sample - loss: 2.4651 - categorical_accuracy: 0.2258\n",
      "Epoch 8/100\n",
      "62/62 [==============================] - 0s 5ms/sample - loss: 2.4313 - categorical_accuracy: 0.2581\n",
      "Epoch 9/100\n",
      "62/62 [==============================] - 0s 6ms/sample - loss: 2.3912 - categorical_accuracy: 0.2742\n",
      "Epoch 10/100\n",
      "62/62 [==============================] - 0s 4ms/sample - loss: 2.3425 - categorical_accuracy: 0.3065\n",
      "Epoch 11/100\n",
      "62/62 [==============================] - 0s 4ms/sample - loss: 2.2818 - categorical_accuracy: 0.3226\n",
      "Epoch 12/100\n",
      "62/62 [==============================] - 0s 4ms/sample - loss: 2.2199 - categorical_accuracy: 0.3226\n",
      "Epoch 13/100\n",
      "62/62 [==============================] - 0s 5ms/sample - loss: 2.1459 - categorical_accuracy: 0.3226\n",
      "Epoch 14/100\n",
      "62/62 [==============================] - 0s 4ms/sample - loss: 2.0725 - categorical_accuracy: 0.3226\n",
      "Epoch 15/100\n",
      "62/62 [==============================] - 0s 4ms/sample - loss: 1.9874 - categorical_accuracy: 0.3387\n",
      "Epoch 16/100\n",
      "62/62 [==============================] - 0s 4ms/sample - loss: 1.9004 - categorical_accuracy: 0.3710\n",
      "Epoch 17/100\n",
      "62/62 [==============================] - 0s 4ms/sample - loss: 1.8100 - categorical_accuracy: 0.4194\n",
      "Epoch 18/100\n",
      "62/62 [==============================] - 0s 4ms/sample - loss: 1.7251 - categorical_accuracy: 0.4032\n",
      "Epoch 19/100\n",
      "62/62 [==============================] - 0s 4ms/sample - loss: 1.6422 - categorical_accuracy: 0.4355\n",
      "Epoch 20/100\n",
      "62/62 [==============================] - 0s 4ms/sample - loss: 1.5591 - categorical_accuracy: 0.4516\n",
      "Epoch 21/100\n",
      "62/62 [==============================] - 0s 3ms/sample - loss: 1.4781 - categorical_accuracy: 0.4677\n",
      "Epoch 22/100\n",
      "62/62 [==============================] - 0s 4ms/sample - loss: 1.4040 - categorical_accuracy: 0.4677\n",
      "Epoch 23/100\n",
      "62/62 [==============================] - 0s 4ms/sample - loss: 1.3228 - categorical_accuracy: 0.5000\n",
      "Epoch 24/100\n",
      "62/62 [==============================] - 0s 4ms/sample - loss: 1.2471 - categorical_accuracy: 0.5161\n",
      "Epoch 25/100\n",
      "62/62 [==============================] - 0s 4ms/sample - loss: 1.1737 - categorical_accuracy: 0.5645\n",
      "Epoch 26/100\n",
      "62/62 [==============================] - 0s 6ms/sample - loss: 1.1118 - categorical_accuracy: 0.5968\n",
      "Epoch 27/100\n",
      "62/62 [==============================] - 0s 4ms/sample - loss: 1.0416 - categorical_accuracy: 0.6129\n",
      "Epoch 28/100\n",
      "62/62 [==============================] - 0s 4ms/sample - loss: 0.9775 - categorical_accuracy: 0.6290\n",
      "Epoch 29/100\n",
      "62/62 [==============================] - 0s 5ms/sample - loss: 0.9126 - categorical_accuracy: 0.6774\n",
      "Epoch 30/100\n",
      "62/62 [==============================] - 0s 4ms/sample - loss: 0.8577 - categorical_accuracy: 0.6935\n",
      "Epoch 31/100\n",
      "62/62 [==============================] - 0s 5ms/sample - loss: 0.8020 - categorical_accuracy: 0.7742\n",
      "Epoch 32/100\n",
      "62/62 [==============================] - 0s 4ms/sample - loss: 0.7541 - categorical_accuracy: 0.7581\n",
      "Epoch 33/100\n",
      "62/62 [==============================] - 0s 5ms/sample - loss: 0.7066 - categorical_accuracy: 0.7581\n",
      "Epoch 34/100\n",
      "62/62 [==============================] - 0s 4ms/sample - loss: 0.6681 - categorical_accuracy: 0.7903\n",
      "Epoch 35/100\n",
      "62/62 [==============================] - 0s 3ms/sample - loss: 0.6212 - categorical_accuracy: 0.8065\n",
      "Epoch 36/100\n",
      "62/62 [==============================] - 0s 5ms/sample - loss: 0.5867 - categorical_accuracy: 0.8226\n",
      "Epoch 37/100\n",
      "62/62 [==============================] - 0s 4ms/sample - loss: 0.5566 - categorical_accuracy: 0.8065\n",
      "Epoch 38/100\n",
      "62/62 [==============================] - 0s 4ms/sample - loss: 0.5195 - categorical_accuracy: 0.8065\n",
      "Epoch 39/100\n",
      "62/62 [==============================] - 0s 5ms/sample - loss: 0.4911 - categorical_accuracy: 0.8226\n",
      "Epoch 40/100\n",
      "62/62 [==============================] - 0s 4ms/sample - loss: 0.4641 - categorical_accuracy: 0.8387\n",
      "Epoch 41/100\n",
      "62/62 [==============================] - 0s 4ms/sample - loss: 0.4349 - categorical_accuracy: 0.8548\n",
      "Epoch 42/100\n",
      "62/62 [==============================] - 0s 5ms/sample - loss: 0.4028 - categorical_accuracy: 0.8548\n",
      "Epoch 43/100\n",
      "62/62 [==============================] - 0s 5ms/sample - loss: 0.3740 - categorical_accuracy: 0.8710\n",
      "Epoch 44/100\n",
      "62/62 [==============================] - 0s 5ms/sample - loss: 0.3477 - categorical_accuracy: 0.8871\n",
      "Epoch 45/100\n",
      "62/62 [==============================] - 0s 4ms/sample - loss: 0.3275 - categorical_accuracy: 0.8548\n",
      "Epoch 46/100\n",
      "62/62 [==============================] - 0s 4ms/sample - loss: 0.3013 - categorical_accuracy: 0.9194\n",
      "Epoch 47/100\n",
      "62/62 [==============================] - 0s 3ms/sample - loss: 0.2798 - categorical_accuracy: 0.9194\n",
      "Epoch 48/100\n",
      "62/62 [==============================] - 0s 5ms/sample - loss: 0.2554 - categorical_accuracy: 0.9355\n",
      "Epoch 49/100\n",
      "62/62 [==============================] - 0s 4ms/sample - loss: 0.2363 - categorical_accuracy: 0.9355\n",
      "Epoch 50/100\n",
      "62/62 [==============================] - 0s 4ms/sample - loss: 0.2186 - categorical_accuracy: 0.9677\n",
      "Epoch 51/100\n",
      "62/62 [==============================] - 0s 5ms/sample - loss: 0.2019 - categorical_accuracy: 0.9677\n",
      "Epoch 52/100\n",
      "62/62 [==============================] - 0s 6ms/sample - loss: 0.1914 - categorical_accuracy: 0.9677\n",
      "Epoch 53/100\n",
      "62/62 [==============================] - 0s 5ms/sample - loss: 0.1757 - categorical_accuracy: 0.9516\n",
      "Epoch 54/100\n",
      "62/62 [==============================] - 0s 4ms/sample - loss: 0.1664 - categorical_accuracy: 0.9677\n",
      "Epoch 55/100\n",
      "62/62 [==============================] - 0s 5ms/sample - loss: 0.1555 - categorical_accuracy: 0.9355\n",
      "Epoch 56/100\n",
      "62/62 [==============================] - 0s 6ms/sample - loss: 0.1431 - categorical_accuracy: 0.9839\n",
      "Epoch 57/100\n",
      "62/62 [==============================] - 0s 4ms/sample - loss: 0.1327 - categorical_accuracy: 1.0000\n",
      "Epoch 58/100\n",
      "62/62 [==============================] - 0s 4ms/sample - loss: 0.1273 - categorical_accuracy: 0.9839\n",
      "Epoch 59/100\n",
      "62/62 [==============================] - 0s 4ms/sample - loss: 0.1176 - categorical_accuracy: 0.9839\n",
      "Epoch 60/100\n",
      "62/62 [==============================] - 0s 4ms/sample - loss: 0.1082 - categorical_accuracy: 1.0000\n",
      "Epoch 61/100\n",
      "62/62 [==============================] - 0s 4ms/sample - loss: 0.1017 - categorical_accuracy: 1.0000\n",
      "Epoch 62/100\n",
      "62/62 [==============================] - 0s 5ms/sample - loss: 0.0948 - categorical_accuracy: 0.9839\n",
      "Epoch 63/100\n",
      "62/62 [==============================] - 0s 4ms/sample - loss: 0.0873 - categorical_accuracy: 1.0000\n",
      "Epoch 64/100\n",
      "62/62 [==============================] - 0s 4ms/sample - loss: 0.0802 - categorical_accuracy: 1.0000\n",
      "Epoch 65/100\n",
      "62/62 [==============================] - 0s 5ms/sample - loss: 0.0766 - categorical_accuracy: 1.0000\n",
      "Epoch 66/100\n",
      "62/62 [==============================] - 0s 6ms/sample - loss: 0.0688 - categorical_accuracy: 1.0000\n",
      "Epoch 67/100\n",
      "62/62 [==============================] - 0s 5ms/sample - loss: 0.0622 - categorical_accuracy: 1.0000\n",
      "Epoch 68/100\n",
      "62/62 [==============================] - 0s 4ms/sample - loss: 0.0583 - categorical_accuracy: 1.0000\n",
      "Epoch 69/100\n",
      "62/62 [==============================] - 0s 5ms/sample - loss: 0.0522 - categorical_accuracy: 1.0000\n",
      "Epoch 70/100\n",
      "62/62 [==============================] - 0s 4ms/sample - loss: 0.0473 - categorical_accuracy: 1.0000\n",
      "Epoch 71/100\n",
      "62/62 [==============================] - 0s 5ms/sample - loss: 0.0437 - categorical_accuracy: 1.0000\n",
      "Epoch 72/100\n",
      "62/62 [==============================] - 0s 3ms/sample - loss: 0.0411 - categorical_accuracy: 1.0000\n",
      "Epoch 73/100\n",
      "62/62 [==============================] - 0s 3ms/sample - loss: 0.0379 - categorical_accuracy: 1.0000\n",
      "Epoch 74/100\n",
      "62/62 [==============================] - 0s 4ms/sample - loss: 0.0342 - categorical_accuracy: 1.0000\n",
      "Epoch 75/100\n",
      "62/62 [==============================] - 0s 5ms/sample - loss: 0.0312 - categorical_accuracy: 1.0000\n",
      "Epoch 76/100\n",
      "62/62 [==============================] - 0s 4ms/sample - loss: 0.0286 - categorical_accuracy: 1.0000\n",
      "Epoch 77/100\n",
      "62/62 [==============================] - 0s 5ms/sample - loss: 0.0250 - categorical_accuracy: 1.0000\n",
      "Epoch 78/100\n",
      "62/62 [==============================] - 0s 5ms/sample - loss: 0.0236 - categorical_accuracy: 1.0000\n",
      "Epoch 79/100\n",
      "62/62 [==============================] - 0s 4ms/sample - loss: 0.0212 - categorical_accuracy: 1.0000\n",
      "Epoch 80/100\n",
      "62/62 [==============================] - 0s 5ms/sample - loss: 0.0204 - categorical_accuracy: 1.0000\n",
      "Epoch 81/100\n",
      "62/62 [==============================] - 0s 5ms/sample - loss: 0.0193 - categorical_accuracy: 1.0000\n",
      "Epoch 82/100\n",
      "62/62 [==============================] - 0s 4ms/sample - loss: 0.0169 - categorical_accuracy: 1.0000\n",
      "Epoch 83/100\n",
      "62/62 [==============================] - 0s 5ms/sample - loss: 0.0160 - categorical_accuracy: 1.0000\n",
      "Epoch 84/100\n",
      "62/62 [==============================] - 0s 5ms/sample - loss: 0.0149 - categorical_accuracy: 1.0000\n",
      "Epoch 85/100\n",
      "62/62 [==============================] - 0s 4ms/sample - loss: 0.0138 - categorical_accuracy: 1.0000\n",
      "Epoch 86/100\n",
      "62/62 [==============================] - 0s 5ms/sample - loss: 0.0124 - categorical_accuracy: 1.0000\n",
      "Epoch 87/100\n",
      "62/62 [==============================] - 0s 4ms/sample - loss: 0.0120 - categorical_accuracy: 1.0000\n",
      "Epoch 88/100\n",
      "62/62 [==============================] - 0s 6ms/sample - loss: 0.0107 - categorical_accuracy: 1.0000\n",
      "Epoch 89/100\n",
      "62/62 [==============================] - 0s 5ms/sample - loss: 0.0103 - categorical_accuracy: 1.0000\n",
      "Epoch 90/100\n",
      "62/62 [==============================] - 0s 5ms/sample - loss: 0.0095 - categorical_accuracy: 1.0000\n",
      "Epoch 91/100\n",
      "62/62 [==============================] - 0s 3ms/sample - loss: 0.0086 - categorical_accuracy: 1.0000\n",
      "Epoch 92/100\n",
      "62/62 [==============================] - 0s 5ms/sample - loss: 0.0084 - categorical_accuracy: 1.0000\n",
      "Epoch 93/100\n",
      "62/62 [==============================] - 0s 4ms/sample - loss: 0.0077 - categorical_accuracy: 1.0000\n",
      "Epoch 94/100\n",
      "62/62 [==============================] - 0s 4ms/sample - loss: 0.0072 - categorical_accuracy: 1.0000\n",
      "Epoch 95/100\n",
      "62/62 [==============================] - 0s 5ms/sample - loss: 0.0068 - categorical_accuracy: 1.0000\n",
      "Epoch 96/100\n",
      "62/62 [==============================] - 0s 4ms/sample - loss: 0.0065 - categorical_accuracy: 1.0000\n",
      "Epoch 97/100\n",
      "62/62 [==============================] - 0s 4ms/sample - loss: 0.0059 - categorical_accuracy: 1.0000\n",
      "Epoch 98/100\n",
      "62/62 [==============================] - 0s 3ms/sample - loss: 0.0055 - categorical_accuracy: 1.0000\n",
      "Epoch 99/100\n",
      "62/62 [==============================] - 0s 4ms/sample - loss: 0.0053 - categorical_accuracy: 1.0000\n",
      "Epoch 100/100\n",
      "62/62 [==============================] - 0s 5ms/sample - loss: 0.0049 - categorical_accuracy: 1.0000\n"
     ]
    }
   ],
   "source": [
    "# Train it!\n",
    "history = model.fit(training, output,\n",
    " batch_size=1,\n",
    " epochs=100,\n",
    " verbose=1)"
   ]
  },
  {
   "cell_type": "code",
   "execution_count": 433,
   "id": "handled-custom",
   "metadata": {},
   "outputs": [
    {
     "data": {
      "image/png": "[encoded data removed]",
      "text/plain": [
       "<Figure size 432x288 with 1 Axes>"
      ]
     },
     "metadata": {
      "needs_background": "light"
     },
     "output_type": "display_data"
    }
   ],
   "source": [
    "# summarize history for loss\n",
    "plt.plot(history.history['loss'])\n",
    "plt.title('model loss')\n",
    "plt.ylabel('loss')\n",
    "plt.xlabel('epoch')\n",
    "plt.legend(['training'], loc='upper left')\n",
    "plt.show()"
   ]
  },
  {
   "cell_type": "code",
   "execution_count": 434,
   "id": "secure-haven",
   "metadata": {},
   "outputs": [
    {
     "name": "stderr",
     "output_type": "stream",
     "text": [
      "/opt/conda/lib/python3.8/site-packages/tensorflow/python/keras/engine/training.py:2325: UserWarning: `Model.state_updates` will be removed in a future version. This property should not be used in TensorFlow 2.0, as `updates` are applied automatically.\n",
      "  warnings.warn('`Model.state_updates` will be removed in a future version. '\n"
     ]
    },
    {
     "name": "stdout",
     "output_type": "stream",
     "text": [
      "Loss: 0.0045460175287218825\n",
      "Accuracy: 1.0\n"
     ]
    }
   ],
   "source": [
    "score = model.evaluate(training,output,verbose=1)\n",
    "print(\"Loss:\",score[0])\n",
    "print(\"Accuracy:\",score[1])"
   ]
  },
  {
   "cell_type": "code",
   "execution_count": 306,
   "id": "cellular-patch",
   "metadata": {},
   "outputs": [],
   "source": [
    "# save the model .. comment out for now until we train the data appropriately\n",
    "model.save(\"model.Chatbot\")"
   ]
  },
  {
   "cell_type": "code",
   "execution_count": 435,
   "id": "august-pharmacy",
   "metadata": {},
   "outputs": [],
   "source": [
    "def bag_of_words(s, words):\n",
    "    bag = [0 for _ in range(len(words))]\n",
    "\n",
    "    s_words = nltk.word_tokenize(s)\n",
    "    s_words = [stemmer.stem(word.lower()) for word in s_words]\n",
    "\n",
    "    for se in s_words:\n",
    "        for i, w in enumerate(words):\n",
    "            if w == se:\n",
    "                bag[i] = 1\n",
    "            \n",
    "    return numpy.array(bag)\n",
    "\n",
    "\n"
   ]
  },
  {
   "cell_type": "code",
   "execution_count": 436,
   "id": "headed-vienna",
   "metadata": {},
   "outputs": [],
   "source": [
    "def chat():\n",
    "    print(\"Start talking with the bot (type quit to stop)!\")\n",
    "    while True:\n",
    "        inp = input(\"You: \")\n",
    "        if inp.lower() == \"quit\":\n",
    "            break\n",
    "\n",
    "        results = model.predict(np.array([bag_of_words(inp, words)]))\n",
    "        \n",
    "        \n",
    "        \n",
    "        results_index = numpy.argmax(results)\n",
    "        tag = labels[results_index]\n",
    "\n",
    "        for tg in data[\"intents\"]:\n",
    "            if tg['tag'] == tag:\n",
    "                responses = tg['responses']\n",
    "\n",
    "        print(random.choice(responses))\n",
    "\n"
   ]
  },
  {
   "cell_type": "code",
   "execution_count": 438,
   "id": "binding-walnut",
   "metadata": {},
   "outputs": [
    {
     "name": "stdout",
     "output_type": "stream",
     "text": [
      "Start talking with the bot (type quit to stop)!\n"
     ]
    },
    {
     "name": "stdin",
     "output_type": "stream",
     "text": [
      "You:  hello\n"
     ]
    },
    {
     "name": "stdout",
     "output_type": "stream",
     "text": [
      "Good to see you again!\n"
     ]
    },
    {
     "name": "stdin",
     "output_type": "stream",
     "text": [
      "You:  what hours are you open\n"
     ]
    },
    {
     "name": "stdout",
     "output_type": "stream",
     "text": [
      "We are open 7am-4pm Monday-Friday!\n"
     ]
    },
    {
     "name": "stdin",
     "output_type": "stream",
     "text": [
      "You:  you are smart\n"
     ]
    },
    {
     "name": "stdout",
     "output_type": "stream",
     "text": [
      "I was trained well\n"
     ]
    },
    {
     "name": "stdin",
     "output_type": "stream",
     "text": [
      "You:  quit\n"
     ]
    }
   ],
   "source": [
    "chat()"
   ]
  },
  {
   "cell_type": "code",
   "execution_count": null,
   "id": "occupied-devil",
   "metadata": {},
   "outputs": [],
   "source": []
  },
  {
   "cell_type": "code",
   "execution_count": null,
   "id": "realistic-surprise",
   "metadata": {},
   "outputs": [],
   "source": []
  }
 ],
 "metadata": {
  "kernelspec": {
   "display_name": "Python 3",
   "language": "python",
   "name": "python3"
  },
  "language_info": {
   "codemirror_mode": {
    "name": "ipython",
    "version": 3
   },
   "file_extension": ".py",
   "mimetype": "text/x-python",
   "name": "python",
   "nbconvert_exporter": "python",
   "pygments_lexer": "ipython3",
   "version": "3.8.6"
  }
 },
 "nbformat": 4,
 "nbformat_minor": 5
}
