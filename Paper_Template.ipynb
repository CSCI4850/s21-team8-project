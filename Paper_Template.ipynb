{
 "cells": [
  {
   "cell_type": "raw",
   "metadata": {},
   "source": [
    "% PACKAGES INCLUDED HERE \n",
    "% DO NOT NEED TO CHANGE\n",
    "\\documentclass[conference]{IEEEtran}\n",
    "%\\IEEEoverridecommandlockouts\n",
    "% The preceding line is only needed to identify funding in the first footnote. If that is unneeded, please comment it out.\n",
    "\\usepackage{cite}\n",
    "\\usepackage{amsmath,amssymb,amsfonts}\n",
    "\\usepackage{algorithmic}\n",
    "\\usepackage{graphicx}\n",
    "\\usepackage{textcomp}\n",
    "\\def\\BibTeX{{\\rm B\\kern-.05em{\\sc i\\kern-.025em b}\\kern-.08em\n",
    "    T\\kern-.1667em\\lower.7ex\\hbox{E}\\kern-.125emX}}\n",
    "\\begin{document}"
   ]
  },
  {
   "cell_type": "raw",
   "metadata": {},
   "source": [
    "% TITLE GOES HERE\n",
    "\n",
    "\\title{Team 8: ChatBot\\\\}\n"
   ]
  },
  {
   "cell_type": "raw",
   "metadata": {},
   "source": [
    "% AUTHOR NAMES GOES HERE\n",
    "\n",
    "\\author{\\IEEEauthorblockN{1\\textsuperscript{st} Brooke Bound}\n",
    "\\IEEEauthorblockA{\\textit{dept. of Computer Science (of Aff.)} \\\\\n",
    "\\textit{Middle Tennessee State University (of Aff.)}\\\\\n",
    "City, Country \\\\\n",
    "email address}\n",
    "\\and\n",
    "\\IEEEauthorblockN{2\\textsuperscript{nd} Paula Pamplona}\n",
    "\\IEEEauthorblockA{\\textit{dept. of Computer Science (of Aff.)} \\\\\n",
    "\\textit{Middle Tennessee State University (of Aff.)}\\\\\n",
    "City, Country \\\\\n",
    "email address}\n",
    "\\and\n",
    "\\IEEEauthorblockN{3\\textsuperscript{rd} Jake Hagenow}\n",
    "\\IEEEauthorblockA{\\textit{dept. of Computer Science (of Aff.)} \\\\\n",
    "\\textit{Middle Tennessee State University (of Aff.)}\\\\\n",
    "City, Country \\\\\n",
    "email address}\n",
    "\\and\n",
    "\\IEEEauthorblockN{4\\textsuperscript{th} Lorenzo McDaniel}\n",
    "\\IEEEauthorblockA{\\textit{dept. of Computer Science (of Aff.)} \\\\\n",
    "\\textit{Middle Tennessee State University (of Aff.)}\\\\\n",
    "City, Country \\\\\n",
    "email address}\n",
    "\\and\n",
    "\\IEEEauthorblockN{5\\textsuperscript{th} David Brugger}\n",
    "\\IEEEauthorblockA{\\textit{dept. of Computer Science (of Aff.)} \\\\\n",
    "\\textit{Middle Tennessee State University (of Aff.)}\\\\\n",
    "City, Country \\\\\n",
    "email address}\n",
    "}\n",
    "\n",
    "\\maketitle"
   ]
  },
  {
   "cell_type": "raw",
   "metadata": {},
   "source": [
    "% ABSTRACT \n",
    "\n",
    "\\begin{abstract}\n",
    "This document is a model and instructions for \\LaTeX.\n",
    "This and the IEEEtran.cls file define the components of your paper [title, text, heads, etc.]. *CRITICAL: Do Not Use Symbols, Special Characters, Footnotes, \n",
    "or Math in Paper Title or Abstract.\n",
    "\\end{abstract}\n"
   ]
  },
  {
   "cell_type": "raw",
   "metadata": {},
   "source": [
    "% KEYWORDS\n",
    "\n",
    "\\begin{IEEEkeywords}\n",
    "component, formatting, style, styling, insert\n",
    "\\end{IEEEkeywords}"
   ]
  },
  {
   "cell_type": "raw",
   "metadata": {},
   "source": [
    "% INTRODUCTION SECTION\n",
    "\\section{Introduction}\n",
    "\n",
    "Our motivation for this project was to create a useful application of a trained neural network to respond to simple questions and give guidance to customers in a real world situation. Our chatbot can answer questions that relate to a business it is trained on. It could be implemented in an online store website, and could also be implemented in some sort of text message system.  Our key aim when creating this project was to come up with a useful tool that could be customized for lots of different situations. If our bot does not know the answer to a question, it can google it.  \\cite{b1}."
   ]
  },
  {
   "cell_type": "raw",
   "metadata": {},
   "source": [
    "% BACKGROUND SECTION\n",
    "\\section{Background}\n",
    "\n",
    "The background for this project was based on previous work we had looked up. Such Chatbots as Heek, Amtrack, and Hazel gave us inspiration for things we would like to do. \\cite{b2}."
   ]
  },
  {
   "cell_type": "raw",
   "metadata": {},
   "source": [
    "% METHODS SECTION\n",
    "\\section{Methods}\n",
    "\n",
    "For our chatbot, we used tensorflow, JSON, numpy, keras, IPython.display, and matplotlib.pyplot in order to build a functioning chatbot. Tensorflow and keras were used to build the bot, JSON was used to read our training data, numpy was used to create arrays from our data, IPython.display was used to display results, and matplotlib.pyplot was used to plot our results.\n",
    "\n",
    "Firstly, we used a .JSON file to store our training data. We filled this file with phrases that are likely to be asked by the user, along with various responses to these phrases. After importing this file, we extracted the data into words and labels (words[] and labels[]) as well as patterns and their associated tags (docs_x and docs_y). We then stemmed the words in order to slim down and simplify the data for our bot. We used LancasterStemmer from nltk.stem.lancaster in order to perform the stemming.\n",
    "\n",
    "After stemming, we looped through our words (both input and output) and represented each sentence with numbers (creating a bag of one-hot-encoded words). Finally, we turned these lists into numpy arrays.\n",
    "\n",
    "Next, we built a multilayer network with ReLU hidden layers. We created an output layer of size 6 with a softmax activation function. We compiled this model with the Adam optimizer and all normal Adam optimizer hyperparameters. \n",
    "\n",
    "After compiling, we trained our model with a batch size of 1 and went through 100 epochs. The program will then run the chat function, which will continue to run until the user types ‘quit.’ \n",
    "\\cite{b3}."
   ]
  },
  {
   "cell_type": "raw",
   "metadata": {},
   "source": [
    "% RESULTS SECTION\n",
    "\\section{Results}\n",
    "\n",
    "*model summary\n",
    "This is the resulting summary of the model. We have several hidden layers all funneling to the output layer that has the softmax activation function. \n",
    "*chatbot.png\n",
    "\n",
    "*verbose of training\n",
    "These are a few selected epochs from training. As is clearly shown, loss is going down as accuracy is increasing. We found 100 epochs to be a good amount of training for this bot, as we continually got 100% accuracy with this number.\n",
    " \n",
    "*plot of loss\n",
    "Our loss continually dropped as we went further in the training. Though loss is not 0, it is still low enough for the bot to fully function. (5.009 after 100 epochs).\n",
    "\n",
    "*trial run of bot\n",
    "This is a sample conversation with our bot. Notice that it replies smoothly to normal conversation, and can answer questions about the bakery. If the bot does not know the answer to the question, the user can try to word the question differently or ask a different question.\n",
    "\\cite{b4}."
   ]
  },
  {
   "cell_type": "raw",
   "metadata": {},
   "source": [
    "% DISCUSSION SECTION\n",
    "\\section{Discussion}\n",
    "\n",
    "Start typing here \\cite{b5}."
   ]
  },
  {
   "cell_type": "raw",
   "metadata": {},
   "source": [
    "% REFERENCES\n",
    "% THIS IS CREATED AUTOMATICALLY\n",
    "\\bibliographystyle{IEEEtran}\n",
    "\\bibliography{References} % change if another name is used for References file"
   ]
  },
  {
   "cell_type": "raw",
   "metadata": {},
   "source": [
    "\\end{document}"
   ]
  }
 ],
 "metadata": {
  "kernelspec": {
   "display_name": "Python 3",
   "language": "python",
   "name": "python3"
  },
  "language_info": {
   "codemirror_mode": {
    "name": "ipython",
    "version": 3
   },
   "file_extension": ".py",
   "mimetype": "text/x-python",
   "name": "python",
   "nbconvert_exporter": "python",
   "pygments_lexer": "ipython3",
   "version": "3.8.6"
  }
 },
 "nbformat": 4,
 "nbformat_minor": 4
}
