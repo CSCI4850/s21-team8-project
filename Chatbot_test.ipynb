{
 "cells": [
  {
   "cell_type": "code",
   "execution_count": 1,
   "id": "sixth-essex",
   "metadata": {},
   "outputs": [],
   "source": [
    "# import what we need\n",
    "import nltk\n",
    "from nltk.stem.lancaster import LancasterStemmer ## used to stem words\n",
    "import tensorflow\n",
    "import random\n",
    "import json # used to read in json file\n",
    "stemmer = LancasterStemmer()\n",
    "\n",
    "import numpy as np\n",
    "import tensorflow.keras as keras\n",
    "\n",
    "# printing \n",
    "from IPython.display import display\n",
    "import sympy as sp\n",
    "sp.init_printing(use_latex=True)\n",
    "\n",
    "# Plotting\n",
    "import matplotlib.pyplot as plt\n",
    "%matplotlib inline\n"
   ]
  },
  {
   "cell_type": "code",
   "execution_count": 2,
   "id": "critical-bacon",
   "metadata": {},
   "outputs": [],
   "source": [
    "# load json file\n",
    "with open(\"intents.json\") as file:\n",
    "    data = json.load(file)"
   ]
  },
  {
   "cell_type": "code",
   "execution_count": 3,
   "id": "hindu-traveler",
   "metadata": {},
   "outputs": [
    {
     "output_type": "execute_result",
     "data": {
      "text/plain": [
       "ing his medical book. 'Ah yes, now I see... you've been Tolkien in your sleep.'\",\n",
       "   \"A police officer on a motorcycle pulls alongside a man driving around the M25 in an open-topped sports car and flags him down. The policeman solemnly approaches the car. 'Sir, I'm sorry to tell you your wife fell out a mile back', he says. 'Oh, thank goodness', the man replies. 'I thought I was going deaf.'\",\n",
       "   \"Two men walking their dogs pass each other in a graveyard. The first man says to the second, 'Morning.' 'No', says the second man. 'Just walking the dog.'\",\n",
       "   \"A brain went into a bar and said, 'Can I have a pint of lager please, mate?' 'No way', said the barman. 'You're already out of your head.'\",\n",
       "   \"A man walks into a surgery. 'Doctor!' he cries. 'I think I'm shrinking!' 'I'm sorry sir, there are no appointments at the moment', says the physician. 'You'll just have to be a little patient.'\",\n",
       "   \"A grizzly bear walks into a pub and says, 'Can I have a pint of lager..............................................................................................................................and a packet of crisps please.' To which the barman replies, 'Why the big paws?'\",\n",
       "   \"What do you call cheese that isn't yours?  Nacho cheese.\",\n",
       "   \"A man is horribly run over by a mobile library. The van screeches to a halt, the man still screaming in agony with his limbs torn apart. The driver's door opens, a woman steps out, leans down and whispers, 'Ssshhhhh...'\",\n",
       "   \"A woman goes into a US sporting goods store to buy a rifle. 'It's for my husband', she tells the clerk. 'Did he tell you what gauge to get?' asks the clerk. Are you kidding?' she says. 'He doesn't even know that I'm going to shoot him!'\",\n",
       "   \"A couple are dining in a restaurant when the man suddenly slides under the table. A waitress, noticing that the woman is glancing nonchalantly around the room, wanders over to check that there's no funny business going on. 'Excuse me, madam', she smarms, 'but I think your husband has just slid under the table.' 'No he hasn't', the woman replies. 'As a matter of fact, he's just walked in.'\",\n",
       "   \"An old man takes his two grandchildren to see the new Scooby-Doo film. When he returns home, his wife asks if he enjoyed himself. 'Well', he starts, 'if it wasn't for those pesky kids...!'\",\n",
       "   'The Olympic committee has just announced that Origami is to be introduced in the next Olympic Games. Unfortunately it will only be available on paper view.',\n",
       "   \"Late one evening, a man is watching television when his phone rings. 'Hello?' he answers. 'Is that 77777?' sounds a desperate voice on other end of the phone. 'Er, yes it is', replies the man puzzled. 'Thank goodness!' cries the caller relieved. 'Can you ring 999 for me? I've got my finger stuck in the number seven.'\",\n",
       "   \"A man strolls into his local grocer's and says, 'Three pounds of potatoes, please.' 'No, no, no', replies the owner, shaking his head, 'it's kilos nowadays, mate...' 'Oh', apologises the man, 'three pounds of kilos, please.'\",\n",
       "   \"God is talking to one of his angels. He says, 'Boy, I just created a 24-hour period of alternating light and darkness on Earth.' 'What are you going to do now?' asks the angel. 'Call it a day', says God.\",\n",
       "   \"Two tramps walk past a church and start to read the gravestones. The first tramp says, 'Good grief - this bloke was 182!' 'Oh yeah?' says the other.'What was his name?' 'Miles from London.'\",\n",
       "   \"A bloke walks into work one day and says to a colleague, 'Do you like my new shirt - it's made out of the finest silk and got loads of cactuses over it.' 'Cacti', says the co-worker. 'Forget my tie', says the bloke. 'Look at my shirt!'\",\n",
       "   '1110011010001011111?  010011010101100111011!',\n",
       "   \"What did the plumber say when he wanted to divorce his wife? Sorry, but it's over, Flo!\",\n",
       "   \"Two crisps were walking down a road when a taxi pulled up alongside them and said 'Do you want a lift? One of the crisps replied, 'No thanks, we're Walkers!'\",\n",
       "   \"Man: (to friend) I'm taking my wife on an African Safari. Friend: Wow! What would you do if a vicious lion attacked your wife? Man: Nothing. Friend: Nothing? You wouldn't do anything? Man: Too right. I'd let the stupid lion fend for himself!\",\n",
       "   \"A wife was having a go at her husband. 'Look at Mr Barnes across the road', she moaned. 'Every morning when he goes to work, he kisses his wife goodbye. Why don't you do that?' 'Because I haven't been introduced to her yet', replied her old man.\",\n",
       "   \"'Where are you going on holiday?' John asked Trevor. 'We're off to Thailand this year', Trevor replied. 'Oh; aren't you worried that the very hot weather might disagree with your wife?' asked John. 'It wouldn't dare', said Trevor.\",\n",
       "   \"Two women were standing at a funeral. 'I blame myself for his death', said the wife. 'Why?' said her friend. 'Because I shot him', said the wife.\",\n",
       "   \"A woman goes into a clothes shop, 'Can I try that dress on in the window please?' she asks. 'I'm sorry madam', replies the shop assistant, 'but you'll have to use the changing-rooms like everyone else.'\",\n",
       "   \"Van Gogh goes into a pub and his mate asks him if he wants a drink. 'No thanks', said Vincent, 'I've got one ear.'\",\n",
       "   \"A pony walks into a pub. The publican says, 'What's the matter with you?' 'Oh it's nothing', says the pony. 'I'm just a little horse!'\",\n",
       "   \"A white horse walks into a bar, pulls up a stool, and orders a pint. The landlord pours him a tall frothy mug and say, 'You know, we have a drink named after you.' To which the white horse replies, 'What, Eric?'\",\n",
       "   \"Two drunk men sat in a pub. One says to the other, 'Does your watch tell the time?' 'The other replies, 'No, mate. You have to look at it.'\",\n",
       "   \"A man goes into a pub with a newt sitting on his shoulder. 'That's a nice newt', says the landlord, 'What's he called?' 'Tiny', replies the man. 'Why's that?' asks the landlord. 'Because he's my newt', says the man.\",\n",
       "   \"Doctor: I have some bad news and some very bad news. Patient: Well, you might as well give me the bad news first. Doctor: The lab called with your test results. They said you have 24 hours to live. Patient: 24 HOURS! That's terrible!! WHAT could be WORSE? What's the very bad news? Doctor: I've been trying to reach you since yesterday.\",\n",
       "   \"Two men are chatting in a pub one day. 'How did you get those scars on your nose?' said one. 'From glasses', said the other. 'Well why don't you try contact lenses?' asked the first. 'Because they don't hold as much beer', said the second.\",\n",
       "   \"A man went to the doctor, 'Look doc', he said, 'I can't stop my hands from shaking.' 'Do you drink much?' asked the doctor. 'No', replied the man, 'I spill most of it.'\",\n",
       "   \"Man goes to the doctor, 'Doctor, doctor. I keep seeing fish everywhere.' 'Have you seen an optician?' asks the doctor. 'Look I told you,' snapped the patient, 'It's fish that I see.'\",\n",
       "   \"After a car crash one of the drivers was lying injured on the pavement. 'Don't worry', said a policeman who's first on the scene,' a Red Cross nurse is coming.' 'Oh no', moaned the victim, 'Couldn't I have a blonde, cheerful one instead?'\",\n",
       "   \"A policeman walked over to a parked car and asked the driver if the car was licensed. 'Of course it is', said the driver. 'Great, I'll have a beer then', said the policeman.\",\n",
       "   \"A policeman stops a woman and asks for her licence. 'Madam', he says, 'It says here that you should be wearing glasses.' 'Well', replies the woman, 'I have contacts.' 'Listen, love', says the copper, 'I don't care who you know; You're nicked!'\",\n",
       "   \"A policeman stopped a motorist in the centre of town one evening. 'Would you mind blowing into this bag, sir?' asked the policeman. 'Why?' asked the driver. 'Because my chips are too hot', replied the policeman.\",\n",
       "   \"Whizzing round a sharp bend on a country road a motorist ran over a large dog. A distraught farmer's wife ran over to the dead animal. 'I'm so very sorry', said the driver, 'I'll replace him, of course.' 'Well, I don't know', said the farmer's wife, 'Are you any good at catching rats?'\",\n",
       "   \"Waiter, this coffee tastes like dirt! Yes sir, that's because it was ground this morning.\",\n",
       "   \"Waiter, what is this stuff? That's bean salad sir. I know what it's been, but what is it now?\",\n",
       "   'Waiter: And how did you find your steak sir? Customer: I just flipped a chip over, and there it was!',\n",
       "   \"A guy goes into a pet shop and asks for a wasp. The owner tells him they don't sell wasps, to which the man says, 'Well you've got one in the window.'\",\n",
       "   \"A man goes into a fish shop and says, 'I'd like a piece of cod, please.' Fishmonger says, 'It won't be long sir.' 'Well, it had better be fat then', replies the man.\",\n",
       "   \"Man: Doctor, I've just swallowed a pillow. Doctor: How do you feel? Man: A little down in the mouth.\",\n",
       "   \"Two goldfish are in a tank. One turns to the other and says, 'Do you know how to drive this thing?'\",\n",
       "   \"A tortoise goes to the police station to report being mugged by three snails. 'What happened?' says the policeman. 'I don't know', says the tortoise. 'It was all so quick.'\",\n",
       "   \"Little girl: Grandpa, can you make a sound like a frog? Grandpa: I suppose so sweetheart. Why do you want me to make a sound like a frog?' Little girl: Because Mum said that when you croak, we're going to Disneyland.\",\n",
       "   \"'Is your mother home?' the salesman asked a small boy sitting on the front step of a house. 'Yeah, she's home', the boy said, moving over to let him past. The salesman rang the doorbell, got no response, knocked once, then again. Still no-one came to the door. Turning to the boy, the salesman said, 'I thought you said your mother was home.' The kid replied, 'She is, but I don't live here.'\",\n",
       "   'Mother: Why are you home from school so early? Son: I was the only one in the class who could answer a question. Mother: Oh, really? What was the question? Son: Who threw the rubber at the headmaster?',\n",
       "   \"A man's credit card was stolen but he decided not to report it because the thief was spending less than his wife did.\",\n",
       "   \"A newly-wed couple had recently opened a joint bank account. 'Darling', said the man. 'The bank has returned that cheque you wrote last week.' 'Great', said the woman. 'What shall I spend it on next?'\",\n",
       "   \"A man goes into a fish and chip shop and orders fish and chips twice. The shop owner says, 'I heard you the first time.'\",\n",
       "   \"A tramp approached a well-dressed man. 'Ten pence for a cup of tea, Guv?' He asked. The man gave him the money and after for five minutes said, 'So where's my cup of tea then?'\",\n",
       "   \"A neutron walks into a pub. 'I'd like a beer', he says. The landlord promptly serves him a beer. 'How much will that be?' asks the neutron. 'For you?' replies the landlord, 'No charge.'\",\n",
       "   \"A woman goes to the doctor and says, 'Doctor, my husband limps because his left leg is an inch shorter than his right leg. What would you do in his case?' 'Probably limp, too', says the doc.\",\n",
       "   \"Three monks are meditating in the Himalayas. One year passes in silence, and one of them says to the other, 'Pretty cold up here isn't it?' Another year passes and the second monk says, 'You know, you are quite right.' Another year passes and the third monk says, 'Hey, I'm going to leave unless you two stop jabbering!'\",\n",
       "   \"A murderer, sitting in the electric chair, was about to be executed. 'Have you any last requests?' asked the prison guard. 'Yes', replied the murderer. 'Will you hold my hand?'\",\n",
       "   \"A highly excited man rang up for an ambulance. 'Quickly, come quickly', he shouted, 'My wife's about to have a baby.' 'Is this her first baby?' asked the operator. 'No, you fool', came the reply, 'It's her husband.'\",\n",
       "   \"A passer-by spots a fisherman by a river. 'Is this a good river for fish?' he asks. 'Yes', replies the fisherman, 'It must be. I can't get any of them to come out.'\",\n",
       "   \"A man went to visit a friend and was amazed to find him playing chess with his dog. He watched the game in astonishment for a while. 'I can hardly believe my eyes!' he exclaimed. 'That's the smartest dog I've ever seen.' His friend shook his head. 'Nah, he's not that bright. I beat him three games in five.'\",\n",
       "   \"A termite walks into a pub and says, 'Is the bar tender here?'\",\n",
       "   \"A skeleton walks into a pub one night and sits down on a stool. The landlord asks, 'What can I get you?' The skeleton says, 'I'll have a beer, thanks' The landlord passes him a beer and asks 'Anything else?' The skeleton nods. 'Yeah...a mop...'\",\n",
       "   \"A snake slithers into a pub and up to the bar. The landlord says, 'I'm sorry, but I can't serve you.' 'What? Why not?' asks the snake. 'Because', says the landlord, 'You can't hold your drink.'\",\n",
       "   \"Descartes walks into a pub. 'Would you like a beer sir?' asks the landlord politely. Descartes replies, 'I think not' and ping! he vanishes.\",\n",
       "   \"A cowboy walked into a bar, dressed entirely in paper. It wasn't long before he was arrested for rustling.\",\n",
       "   \"A fish staggers into a bar. 'What can I get you?' asks the landlord. The fish croaks 'Water...'\",\n",
       "   \"Two vampires walked into a bar and called for the landlord. 'I'll have a glass of blood', said one. 'I'll have a glass of plasma', said the other. 'Okay', replied the landlord, 'That'll be one blood and one blood lite.'\",\n",
       "   'How many existentialists does it take to change a light bulb?  Two. One to screw it in, and one to observe how the light bulb itself symbolises a single incandescent beacon of subjective reality in a netherworld of endless absurdity, reaching towards the ultimate horror of a maudlin cosmos of bleak, hostile nothingness.',\n",
       "   \"A team of scientists were nominated for the Nobel Prize. They had used dental equipment to discover and measure the smallest particles yet known to man. They became known as 'The Graders of the Flossed Quark...'\",\n",
       "   \"A truck carrying copies of Roget's Thesaurus overturned on the highway. The local newspaper reported that onlookers were 'stunned, overwhelmed, astonished, bewildered and dumbfounded.'\",\n",
       "   \"'My wife is really immature. It's pathetic. Every time I take a bath, she comes in and sinks all my little boats.'\",\n",
       "   \"'How much will it cost to have the tooth extracted?' asked the patient. '50 pounds', replied the dentist. '50 pounds for a few moments' work?!' asked the patient. 'The dentist smiled, and replied, 'Well, if you want better value for money, I can extract it very, very slowly...'\",\n",
       "   \"A doctor thoroughly examined his patient and said, 'Look I really can't find any reason for this mysterious affliction. It's probably due to drinking.' The patient sighed and snapped, 'In that case, I'll come back when you're damn well sober!'\",\n",
       "   'Doctor: Tell me nurse, how is that boy doing; the one who ate all those 5p pieces? Nurse: Still no change doctor.',\n",
       "   \"Doctor: Did you take the patient's temperature nurse? Nurse: No doctor. Is it missing?\",\n",
       "   \"A depressed man turned to his friend in the pub and said, 'I woke up this morning and felt so bad that I tried to kill myself by taking 50 aspirin.' 'Oh man, that's really bad', said his friend, 'What happened?' The first man sighed and said, 'After the first two, I felt better.'\",\n",
       "   \"A famous blues musician died. His tombstone bore the inscription, 'Didn't wake up this morning...'\",\n",
       "   \"A businessman was interviewing a nervous young woman for a position in his company. He wanted to find out something about her personality, so he asked, 'If you could have a conversation with someone living or dead, who would it be?' The girl thought about the question: 'The living one', she replied.\",\n",
       "   \"Manager to interviewee: For this job we need someone who is responsible. Interviewee to Manager: I'm your man then - in my last job, whenever anything went wrong, I was responsible.\",\n",
       "   \"A businessman turned to a colleague and asked, 'So, how many people work at your office?' His friend shrugged and replied, 'Oh about half of them.'\",\n",
       "   \"'How long have I been working at that office? As a matter of fact, I've been working there ever since they threatened to sack me.'\",\n",
       "   \"In a courtroom, a mugger was on trial. The victim, asked if she recognised the defendant, said, 'Yes, that's him. I saw him clear as day. I'd remember his face anywhere.' Unable to contain himself, the defendant burst out with, 'She's lying! I was wearing a mask!'\",\n",
       "   \"As Sid sat down to a big plate of chips and gravy down the local pub, a mate of his came over and said, 'Here Sid, me old pal. I thought you were trying to get into shape? And here you are with a high-fat meal and a pint of stout!' Sid looked up and replied, 'I am getting into shape. The shape I've chosen is a sphere.'\",\n",
       "   'Man in pub: How much do you charge for one single drop of whisky? Landlord: That would be free sir. Man in pub: Excellent. Drip me a glass full.',\n",
       "   'I once went to a Doctor Who restaurant. For starters I had Dalek bread.',\n",
       "   \"A restaurant nearby had a sign in the window which said 'We serve breakfast at any time', so I ordered French toast in the Renaissance.\",\n",
       "   \"Why couldn't the rabbit get a loan?  Because he had burrowed too much already!\",\n",
       "   \"I phoned up the builder's yard yesterday. I said, 'Can I have a skip outside my house?'. The builder said, 'Sure. Do what you want. It's your house.'\",\n",
       "   \"What's the diference between a sock and a camera? A sock takes five toes and a camera takes four toes!\",\n",
       "   \"Woman on phone: I'd like to complain about these incontinence pants I bought from you! Shopkeeper: Certainly madam, where are you ringing from? Woman on phone: From the waist down!\",\n",
       "   'Knock knock.',\n",
       "   \"Two Oranges in a pub, one says to the other 'Your round.'.\",\n",
       "   \"Guy : 'Doc, I've got a cricket ball stuck up my backside.' Doc : 'How's that?' Guy : 'Don't you start...'\",\n",
       "   \"Two cows standing in a field. One turns to the other and says 'Moo!' The other one says 'Damn, I was just about to say that!'.\",\n",
       "   \"A vampire bat arrives back at the roost with his face full of blood. All the bats get excited and ask where he got it from. 'Follow me', he says and off they fly over hills, over rivers and into a dark forest. 'See that tree over there', he says.  'WELL I DIDN'T!!'.\",\n",
       "   \"A man goes into a bar and orders a pint. After a few minutes he hears a voice that says, 'Nice shoes'. He looks around but the whole bar is empty apart from the barman at the other end of the bar. A few minutes later he hears the voice again. This time it says, 'I like your shirt'. He beckons the barman over and tells him what's been happening to which the barman replies, 'Ah, that would be the nuts sir. They're complimentary'!\",\n",
       "   \"A man was siting in a restaurant waiting for his meal when a big king prawn comes flying across the room and hits him on the back of the head. He turns around and the waiter said, 'That's just for starters'.\",\n",
       "   'Doctor! I have a serious problem, I can never remember what i just said. When did you first notice this problem? What problem?',\n",
       "   \"Now, most dentist's chairs go up and down, don't they? The one I was in went back and forwards. I thought, 'This is unusual'. Then the dentist said to me, 'Mitsuku, get out of the filing cabinet'.\",\n",
       "   \"I was reading this book, 'The History of Glue'. I couldn't put it down.\",\n",
       "   \"The other day someone left a piece of plastacine in my bedroom. I didn't know what to make of it.\",\n",
       "   'When I was at school people used to throw gold bars at me. I was the victim of bullion.',\n",
       "   \"I was playing the piano in a bar and this elephant walked in and started crying his eyes out. I said 'Do you recognise the tune?' He said 'No, I recognise the ivory.'\",\n",
       "   \"I went in to a pet shop. I said, 'Can I buy a goldfish?' The guy said, 'Do you want an aquarium?' I said, 'I don't care what star sign it is.'\",\n",
       "   'My mate Sid was a victim of I.D. theft. Now we just call him S.',\n",
       "   \"David Hasselhoff walks into a bar and says to the barman, 'I want you to call me David Hoff'.  The barman replies 'Sure thing Dave... no hassle'\"],\n",
       "  'context_set': ''}]"
      ]
     },
     "metadata": {},
     "execution_count": 3
    }
   ],
   "source": [
    "# view our json data\n",
    "data['intents']"
   ]
  },
  {
   "cell_type": "code",
   "execution_count": 4,
   "id": "alive-accident",
   "metadata": {
    "tags": []
   },
   "outputs": [
    {
     "output_type": "stream",
     "name": "stdout",
     "text": [
      "['Good day', 'See you later', 'Thank you, bye', 'how old is tim', 'What do you call me?', 'Can you see anyone in the camera?', 'whats on the menu', 'hours of operation', 'Tell me your real name?', 'I appreciate it', 'Open the pod bay door', 'Surely you can', 'Can you tell me the time?', 'Shhh', 'Not talking to you', 'Do you know what I am saying?', 'ass', 'You are a very clever guy', \"What's the tea?\", 'Can you prove you are self-aware', 'Give me a joke']\n"
     ]
    }
   ],
   "source": [
    "words = []\n",
    "labels = []\n",
    "\n",
    "docs_x = []\n",
    "docs_y = []\n",
    "\n",
    "test_patterns = []\n",
    "\n",
    "# loop through dict to grab our values\n",
    "for intent in data['intents']:\n",
    "    rand = random.randint(0, len(intent['patterns'])-1)\n",
    "    test_pattern = intent['patterns'][rand]\n",
    "    test_patterns.append(test_pattern)\n",
    "\n",
    "    for pattern in intent['patterns']:\n",
    "        if pattern != test_pattern:\n",
    "            # stemming get the root of word, when traiing model \n",
    "            # only care abt the main meaning of word\n",
    "            # need to tokenize/split words\n",
    "            wrds = nltk.word_tokenize(pattern)\n",
    "            words.extend(wrds) ## add all wrds to list\n",
    "            docs_x.append(wrds)\n",
    "            # for each pattern add another item in this var to track what tag its part of\n",
    "            # each entry in docs_x (tokenized words/wrds) will correspond to (intent) docs_y so we know how to classify\n",
    "            # each of the patterns\n",
    "            docs_y.append(intent['tag'])\n",
    "            \n",
    "            if intent['tag'] not in labels:\n",
    "                labels.append(intent['tag']) # grab all diff tags we need\n",
    "\n",
    "print(test_patterns)"
   ]
  },
  {
   "cell_type": "code",
   "execution_count": 5,
   "id": "effective-angle",
   "metadata": {},
   "outputs": [],
   "source": [
    "# stem words and remove duplicate words. also lower all words so dont confuse the network into \n",
    "# thinking spelling case has different meaning\n",
    "words = [stemmer.stem(w.lower()) for w in words if w!= '?' ] # remove any Question marks, dont want this\n",
    "words = sorted(list(set(words)))                             # to have any meaning to our model\n",
    "# sort the labels also \n",
    "labels = sorted(labels)"
   ]
  },
  {
   "cell_type": "code",
   "execution_count": 6,
   "id": "physical-teddy",
   "metadata": {},
   "outputs": [],
   "source": [
    "# prepare data before we feed into the model \n",
    "\n",
    "# need to convert our text in lists to nums (One-hot-encoding) so our network can \n",
    "# categorize the data\n",
    "training = [] # input data goes here \n",
    "output = [] \n",
    "\n",
    "out_empty = [0 for _ in range(len(labels))]\n",
    "\n",
    "for x, doc in enumerate(docs_x):\n",
    "    \n",
    "    bag = [] # will be our bag of one hot encoded words\n",
    "    wrds = [stemmer.stem(w) for w in doc] # stem all the words in patterns\n",
    "    \n",
    "    # go through all diff words in list that are stemmed\n",
    "    # and add either 1 or 0 to bag of words depending on if this word is in the \n",
    "    # main words list \"(words = sorted(list(set(words))))\"\n",
    "    for w in words:\n",
    "        # if word here place 1 representing that word exists\n",
    "        if w in wrds:\n",
    "            bag.append(1)\n",
    "        else:\n",
    "            # word isn't here place 0\n",
    "            bag.append(0)\n",
    "    \n",
    "    # now generate output that has either 0's or 1's representing the tag that is word\n",
    "    output_row = out_empty[:]\n",
    "    # will look through labels list and check where tag is in list and set that value to 1 \n",
    "    # in the output_row \n",
    "    output_row[labels.index(docs_y[x])] = 1\n",
    "    \n",
    "    # now we have both lists that are now One-hot-encoded !!\n",
    "    training.append(bag)\n",
    "    output.append(output_row)\n"
   ]
  },
  {
   "cell_type": "code",
   "execution_count": 7,
   "id": "brutal-hacker",
   "metadata": {},
   "outputs": [],
   "source": [
    "# turn lists into numpy array\n",
    "training = np.array(training)\n",
    "output = np.array(output)\n"
   ]
  },
  {
   "cell_type": "code",
   "execution_count": 8,
   "id": "operational-airport",
   "metadata": {},
   "outputs": [
    {
     "output_type": "stream",
     "name": "stderr",
     "text": [
      "C:\\Users\\dab7r\\AppData\\Local\\Packages\\PythonSoftwareFoundation.Python.3.8_qbz5n2kfra8p0\\LocalCache\\local-packages\\Python38\\site-packages\\IPython\\lib\\latextools.py:126: MatplotlibDeprecationWarning: \nThe to_png function was deprecated in Matplotlib 3.4 and will be removed two minor releases later. Use mathtext.math_to_image instead.\n  mt.to_png(f, s, fontsize=12, dpi=dpi, color=color)\nC:\\Users\\dab7r\\AppData\\Local\\Packages\\PythonSoftwareFoundation.Python.3.8_qbz5n2kfra8p0\\LocalCache\\local-packages\\Python38\\site-packages\\IPython\\lib\\latextools.py:126: MatplotlibDeprecationWarning: \nThe to_rgba function was deprecated in Matplotlib 3.4 and will be removed two minor releases later. Use mathtext.math_to_image instead.\n  mt.to_png(f, s, fontsize=12, dpi=dpi, color=color)\nC:\\Users\\dab7r\\AppData\\Local\\Packages\\PythonSoftwareFoundation.Python.3.8_qbz5n2kfra8p0\\LocalCache\\local-packages\\Python38\\site-packages\\IPython\\lib\\latextools.py:126: MatplotlibDeprecationWarning: \nThe to_mask function was deprecated in Matplotlib 3.4 and will be removed two minor releases later. Use mathtext.math_to_image instead.\n  mt.to_png(f, s, fontsize=12, dpi=dpi, color=color)\nC:\\Users\\dab7r\\AppData\\Local\\Packages\\PythonSoftwareFoundation.Python.3.8_qbz5n2kfra8p0\\LocalCache\\local-packages\\Python38\\site-packages\\IPython\\lib\\latextools.py:126: MatplotlibDeprecationWarning: \nThe MathtextBackendBitmap class was deprecated in Matplotlib 3.4 and will be removed two minor releases later. Use mathtext.math_to_image instead.\n  mt.to_png(f, s, fontsize=12, dpi=dpi, color=color)\n"
     ]
    },
    {
     "output_type": "execute_result",
     "data": {
      "text/plain": [
       "(131, 21)"
      ],
      "image/png": "[encoded data removed]",
      "text/latex": "$\\displaystyle \\left( 131, \\  21\\right)$"
     },
     "metadata": {},
     "execution_count": 8
    }
   ],
   "source": [
    "# shape of output\n",
    "output.shape"
   ]
  },
  {
   "cell_type": "code",
   "execution_count": 9,
   "id": "elect-leave",
   "metadata": {},
   "outputs": [
    {
     "output_type": "execute_result",
     "data": {
      "text/plain": [
       "(131, 125)"
      ],
      "image/png": "[encoded data removed]",
      "text/latex": "$\\displaystyle \\left( 131, \\  125\\right)$"
     },
     "metadata": {},
     "execution_count": 9
    }
   ],
   "source": [
    "# shape of training\n",
    "training.shape"
   ]
  },
  {
   "cell_type": "code",
   "execution_count": null,
   "id": "urban-vegetarian",
   "metadata": {},
   "outputs": [],
   "source": []
  },
  {
   "cell_type": "code",
   "execution_count": null,
   "id": "finite-night",
   "metadata": {},
   "outputs": [],
   "source": []
  },
  {
   "cell_type": "code",
   "execution_count": 10,
   "id": "apart-collaboration",
   "metadata": {},
   "outputs": [],
   "source": [
    "# Multi-layer net with ReLU hidden layer\n",
    "\n",
    "model = keras.models.Sequential()\n",
    "\n",
    "\n",
    "model.add(keras.layers.Dense(8,input_dim=training.shape[1],activation='relu',\n",
    " bias_initializer=keras.initializers.Constant(0.1)))\n",
    "\n",
    "model.add(keras.layers.Dense(8,activation='relu',\n",
    " bias_initializer=keras.initializers.Constant(0.1)))\n",
    "\n",
    "model.add(keras.layers.Dense(8,activation='relu',\n",
    " bias_initializer=keras.initializers.Constant(0.1)))\n",
    "\n",
    "\n",
    "model.add(keras.layers.Dense(8,activation='relu',\n",
    " bias_initializer=keras.initializers.Constant(0.1)))\n",
    "\n",
    "\n",
    "\n",
    "\n",
    "\n",
    "\n",
    "# Output layer (size 6), softmax activation function\n",
    "model.add(keras.layers.Dense(output.shape[1],activation='softmax'))"
   ]
  },
  {
   "cell_type": "code",
   "execution_count": 11,
   "id": "danish-humanitarian",
   "metadata": {},
   "outputs": [
    {
     "output_type": "stream",
     "name": "stdout",
     "text": [
      "Model: \"sequential\"\n_________________________________________________________________\nLayer (type)                 Output Shape              Param #   \n=================================================================\ndense (Dense)                (None, 8)                 1008      \n_________________________________________________________________\ndense_1 (Dense)              (None, 8)                 72        \n_________________________________________________________________\ndense_2 (Dense)              (None, 8)                 72        \n_________________________________________________________________\ndense_3 (Dense)              (None, 8)                 72        \n_________________________________________________________________\ndense_4 (Dense)              (None, 21)                189       \n=================================================================\nTotal params: 1,413\nTrainable params: 1,413\nNon-trainable params: 0\n_________________________________________________________________\n"
     ]
    }
   ],
   "source": [
    "# Compile as above (default learning rate and other\n",
    "# hyperparameters for the Adam optimizer).\n",
    "# default learning rate for adam optimizer is 0.001\n",
    "\n",
    "model.compile(loss=keras.losses.CategoricalCrossentropy(),\n",
    " optimizer=keras.optimizers.Nadam(learning_rate=0.001),\n",
    " metrics=[keras.metrics.CategoricalAccuracy()])\n",
    "\n",
    "# Display the model\n",
    "model.summary()"
   ]
  },
  {
   "cell_type": "code",
   "execution_count": 12,
   "id": "induced-primary",
   "metadata": {},
   "outputs": [
    {
     "output_type": "execute_result",
     "data": {
      "image/png": "[encoded data removed]",
      "text/plain": [
       "<IPython.core.display.Image object>"
      ]
     },
     "metadata": {},
     "execution_count": 12
    }
   ],
   "source": [
    "keras.utils.plot_model(model,to_file='chatbot.png',\n",
    " show_shapes=True,expand_nested=True)"
   ]
  },
  {
   "cell_type": "code",
   "execution_count": 13,
   "id": "helpful-diana",
   "metadata": {},
   "outputs": [],
   "source": [
    "# Note the initializer for the hidden unit bias weights\n",
    "#for i in model.get_weights():\n",
    " #display(sp.Matrix(i))\n"
   ]
  },
  {
   "cell_type": "code",
   "execution_count": 14,
   "id": "manual-prague",
   "metadata": {},
   "outputs": [
    {
     "output_type": "stream",
     "name": "stdout",
     "text": [
      "Epoch 1/100\n",
      "131/131 [==============================] - 1s 639us/step - loss: 3.0415 - categorical_accuracy: 0.0592\n",
      "Epoch 2/100\n",
      "131/131 [==============================] - 0s 636us/step - loss: 3.0230 - categorical_accuracy: 0.0770\n",
      "Epoch 3/100\n",
      "131/131 [==============================] - 0s 708us/step - loss: 2.9271 - categorical_accuracy: 0.1499\n",
      "Epoch 4/100\n",
      "131/131 [==============================] - 0s 698us/step - loss: 2.8234 - categorical_accuracy: 0.1799\n",
      "Epoch 5/100\n",
      "131/131 [==============================] - 0s 585us/step - loss: 2.6609 - categorical_accuracy: 0.1815\n",
      "Epoch 6/100\n",
      "131/131 [==============================] - 0s 562us/step - loss: 2.6176 - categorical_accuracy: 0.1223\n",
      "Epoch 7/100\n",
      "131/131 [==============================] - 0s 577us/step - loss: 2.3648 - categorical_accuracy: 0.1990\n",
      "Epoch 8/100\n",
      "131/131 [==============================] - 0s 616us/step - loss: 2.2204 - categorical_accuracy: 0.2199\n",
      "Epoch 9/100\n",
      "131/131 [==============================] - 0s 608us/step - loss: 2.2251 - categorical_accuracy: 0.2119\n",
      "Epoch 10/100\n",
      "131/131 [==============================] - 0s 585us/step - loss: 2.0963 - categorical_accuracy: 0.2774\n",
      "Epoch 11/100\n",
      "131/131 [==============================] - 0s 577us/step - loss: 1.8973 - categorical_accuracy: 0.3164\n",
      "Epoch 12/100\n",
      "131/131 [==============================] - 0s 577us/step - loss: 1.9228 - categorical_accuracy: 0.3327\n",
      "Epoch 13/100\n",
      "131/131 [==============================] - 0s 623us/step - loss: 1.8009 - categorical_accuracy: 0.3246\n",
      "Epoch 14/100\n",
      "131/131 [==============================] - 0s 600us/step - loss: 1.7342 - categorical_accuracy: 0.3270\n",
      "Epoch 15/100\n",
      "131/131 [==============================] - 0s 592us/step - loss: 1.5431 - categorical_accuracy: 0.4343\n",
      "Epoch 16/100\n",
      "131/131 [==============================] - 0s 616us/step - loss: 1.3821 - categorical_accuracy: 0.6303\n",
      "Epoch 17/100\n",
      "131/131 [==============================] - 0s 716us/step - loss: 1.3337 - categorical_accuracy: 0.6256\n",
      "Epoch 18/100\n",
      "131/131 [==============================] - 0s 639us/step - loss: 1.1839 - categorical_accuracy: 0.7324\n",
      "Epoch 19/100\n",
      "131/131 [==============================] - 0s 592us/step - loss: 1.1655 - categorical_accuracy: 0.6817\n",
      "Epoch 20/100\n",
      "131/131 [==============================] - 0s 746us/step - loss: 1.0143 - categorical_accuracy: 0.7245\n",
      "Epoch 21/100\n",
      "131/131 [==============================] - 0s 628us/step - loss: 0.9861 - categorical_accuracy: 0.7393\n",
      "Epoch 22/100\n",
      "131/131 [==============================] - 0s 600us/step - loss: 0.7777 - categorical_accuracy: 0.8684\n",
      "Epoch 23/100\n",
      "131/131 [==============================] - 0s 585us/step - loss: 0.7666 - categorical_accuracy: 0.8034\n",
      "Epoch 24/100\n",
      "131/131 [==============================] - 0s 585us/step - loss: 0.7444 - categorical_accuracy: 0.7948\n",
      "Epoch 25/100\n",
      "131/131 [==============================] - 0s 585us/step - loss: 0.6089 - categorical_accuracy: 0.8594\n",
      "Epoch 26/100\n",
      "131/131 [==============================] - 0s 585us/step - loss: 0.4995 - categorical_accuracy: 0.9000\n",
      "Epoch 27/100\n",
      "131/131 [==============================] - 0s 585us/step - loss: 0.4756 - categorical_accuracy: 0.8632\n",
      "Epoch 28/100\n",
      "131/131 [==============================] - 0s 805us/step - loss: 0.4765 - categorical_accuracy: 0.8823\n",
      "Epoch 29/100\n",
      "131/131 [==============================] - 0s 600us/step - loss: 0.3416 - categorical_accuracy: 0.9207\n",
      "Epoch 30/100\n",
      "131/131 [==============================] - 0s 554us/step - loss: 0.3365 - categorical_accuracy: 0.9018\n",
      "Epoch 31/100\n",
      "131/131 [==============================] - 0s 585us/step - loss: 0.2729 - categorical_accuracy: 0.9387\n",
      "Epoch 32/100\n",
      "131/131 [==============================] - 0s 569us/step - loss: 0.2636 - categorical_accuracy: 0.9634\n",
      "Epoch 33/100\n",
      "131/131 [==============================] - 0s 623us/step - loss: 0.2600 - categorical_accuracy: 0.9409\n",
      "Epoch 34/100\n",
      "131/131 [==============================] - 0s 585us/step - loss: 0.2494 - categorical_accuracy: 0.9191\n",
      "Epoch 35/100\n",
      "131/131 [==============================] - 0s 592us/step - loss: 0.2388 - categorical_accuracy: 0.9419\n",
      "Epoch 36/100\n",
      "131/131 [==============================] - 0s 569us/step - loss: 0.1697 - categorical_accuracy: 0.9695\n",
      "Epoch 37/100\n",
      "131/131 [==============================] - 0s 569us/step - loss: 0.1494 - categorical_accuracy: 0.9822\n",
      "Epoch 38/100\n",
      "131/131 [==============================] - 0s 569us/step - loss: 0.1623 - categorical_accuracy: 0.9735\n",
      "Epoch 39/100\n",
      "131/131 [==============================] - 0s 562us/step - loss: 0.1740 - categorical_accuracy: 0.9859\n",
      "Epoch 40/100\n",
      "131/131 [==============================] - 0s 554us/step - loss: 0.1530 - categorical_accuracy: 0.9606\n",
      "Epoch 41/100\n",
      "131/131 [==============================] - 0s 585us/step - loss: 0.1810 - categorical_accuracy: 0.9390\n",
      "Epoch 42/100\n",
      "131/131 [==============================] - 0s 569us/step - loss: 0.1382 - categorical_accuracy: 0.9800\n",
      "Epoch 43/100\n",
      "131/131 [==============================] - 0s 592us/step - loss: 0.1072 - categorical_accuracy: 0.9988\n",
      "Epoch 44/100\n",
      "131/131 [==============================] - 0s 554us/step - loss: 0.0872 - categorical_accuracy: 1.0000\n",
      "Epoch 45/100\n",
      "131/131 [==============================] - 0s 639us/step - loss: 0.0648 - categorical_accuracy: 1.0000\n",
      "Epoch 46/100\n",
      "131/131 [==============================] - 0s 623us/step - loss: 0.0851 - categorical_accuracy: 1.0000\n",
      "Epoch 47/100\n",
      "131/131 [==============================] - 0s 569us/step - loss: 0.0655 - categorical_accuracy: 1.0000\n",
      "Epoch 48/100\n",
      "131/131 [==============================] - 0s 600us/step - loss: 0.0418 - categorical_accuracy: 1.0000\n",
      "Epoch 49/100\n",
      "131/131 [==============================] - 0s 585us/step - loss: 0.0578 - categorical_accuracy: 1.0000\n",
      "Epoch 50/100\n",
      "131/131 [==============================] - 0s 600us/step - loss: 0.0420 - categorical_accuracy: 1.0000\n",
      "Epoch 51/100\n",
      "131/131 [==============================] - 0s 608us/step - loss: 0.0536 - categorical_accuracy: 1.0000\n",
      "Epoch 52/100\n",
      "131/131 [==============================] - 0s 646us/step - loss: 0.0412 - categorical_accuracy: 1.0000\n",
      "Epoch 53/100\n",
      "131/131 [==============================] - 0s 592us/step - loss: 0.0271 - categorical_accuracy: 1.0000\n",
      "Epoch 54/100\n",
      "131/131 [==============================] - 0s 616us/step - loss: 0.0256 - categorical_accuracy: 1.0000\n",
      "Epoch 55/100\n",
      "131/131 [==============================] - 0s 592us/step - loss: 0.0191 - categorical_accuracy: 1.0000\n",
      "Epoch 56/100\n",
      "131/131 [==============================] - 0s 577us/step - loss: 0.0322 - categorical_accuracy: 1.0000\n",
      "Epoch 57/100\n",
      "131/131 [==============================] - 0s 616us/step - loss: 0.0167 - categorical_accuracy: 1.0000\n",
      "Epoch 58/100\n",
      "131/131 [==============================] - 0s 639us/step - loss: 0.0177 - categorical_accuracy: 1.0000\n",
      "Epoch 59/100\n",
      "131/131 [==============================] - 0s 585us/step - loss: 0.0169 - categorical_accuracy: 1.0000\n",
      "Epoch 60/100\n",
      "131/131 [==============================] - 0s 592us/step - loss: 0.0140 - categorical_accuracy: 1.0000\n",
      "Epoch 61/100\n",
      "131/131 [==============================] - 0s 708us/step - loss: 0.0116 - categorical_accuracy: 1.0000\n",
      "Epoch 62/100\n",
      "131/131 [==============================] - 0s 600us/step - loss: 0.0120 - categorical_accuracy: 1.0000\n",
      "Epoch 63/100\n",
      "131/131 [==============================] - 0s 592us/step - loss: 0.0094 - categorical_accuracy: 1.0000\n",
      "Epoch 64/100\n",
      "131/131 [==============================] - 0s 600us/step - loss: 0.0105 - categorical_accuracy: 1.0000\n",
      "Epoch 65/100\n",
      "131/131 [==============================] - 0s 585us/step - loss: 0.0105 - categorical_accuracy: 1.0000\n",
      "Epoch 66/100\n",
      "131/131 [==============================] - 0s 689us/step - loss: 0.0100 - categorical_accuracy: 1.0000\n",
      "Epoch 67/100\n",
      "131/131 [==============================] - 0s 592us/step - loss: 0.0116 - categorical_accuracy: 1.0000\n",
      "Epoch 68/100\n",
      "131/131 [==============================] - 0s 600us/step - loss: 0.0069 - categorical_accuracy: 1.0000\n",
      "Epoch 69/100\n",
      "131/131 [==============================] - 0s 577us/step - loss: 0.0065 - categorical_accuracy: 1.0000\n",
      "Epoch 70/100\n",
      "131/131 [==============================] - 0s 639us/step - loss: 0.0058 - categorical_accuracy: 1.0000\n",
      "Epoch 71/100\n",
      "131/131 [==============================] - 0s 585us/step - loss: 0.0033 - categorical_accuracy: 1.0000\n",
      "Epoch 72/100\n",
      "131/131 [==============================] - 0s 592us/step - loss: 0.0039 - categorical_accuracy: 1.0000\n",
      "Epoch 73/100\n",
      "131/131 [==============================] - 0s 585us/step - loss: 0.0047 - categorical_accuracy: 1.0000\n",
      "Epoch 74/100\n",
      "131/131 [==============================] - 0s 592us/step - loss: 0.0071 - categorical_accuracy: 1.0000\n",
      "Epoch 75/100\n",
      "131/131 [==============================] - 0s 592us/step - loss: 0.0034 - categorical_accuracy: 1.0000\n",
      "Epoch 76/100\n",
      "131/131 [==============================] - 0s 585us/step - loss: 0.0026 - categorical_accuracy: 1.0000\n",
      "Epoch 77/100\n",
      "131/131 [==============================] - 0s 592us/step - loss: 0.0020 - categorical_accuracy: 1.0000\n",
      "Epoch 78/100\n",
      "131/131 [==============================] - 0s 624us/step - loss: 0.0024 - categorical_accuracy: 1.0000\n",
      "Epoch 79/100\n",
      "131/131 [==============================] - 0s 616us/step - loss: 0.0022 - categorical_accuracy: 1.0000\n",
      "Epoch 80/100\n",
      "131/131 [==============================] - 0s 616us/step - loss: 0.0021 - categorical_accuracy: 1.0000\n",
      "Epoch 81/100\n",
      "131/131 [==============================] - 0s 645us/step - loss: 0.0022 - categorical_accuracy: 1.0000\n",
      "Epoch 82/100\n",
      "131/131 [==============================] - 0s 700us/step - loss: 0.0017 - categorical_accuracy: 1.0000\n",
      "Epoch 83/100\n",
      "131/131 [==============================] - 0s 646us/step - loss: 0.0020 - categorical_accuracy: 1.0000\n",
      "Epoch 84/100\n",
      "131/131 [==============================] - 0s 616us/step - loss: 0.0016 - categorical_accuracy: 1.0000\n",
      "Epoch 85/100\n",
      "131/131 [==============================] - 0s 623us/step - loss: 0.0014 - categorical_accuracy: 1.0000\n",
      "Epoch 86/100\n",
      "131/131 [==============================] - 0s 616us/step - loss: 0.0019 - categorical_accuracy: 1.0000\n",
      "Epoch 87/100\n",
      "131/131 [==============================] - 0s 600us/step - loss: 0.0012 - categorical_accuracy: 1.0000\n",
      "Epoch 88/100\n",
      "131/131 [==============================] - 0s 623us/step - loss: 9.8368e-04 - categorical_accuracy: 1.0000\n",
      "Epoch 89/100\n",
      "131/131 [==============================] - 0s 639us/step - loss: 8.8058e-04 - categorical_accuracy: 1.0000\n",
      "Epoch 90/100\n",
      "131/131 [==============================] - 0s 639us/step - loss: 9.0664e-04 - categorical_accuracy: 1.0000\n",
      "Epoch 91/100\n",
      "131/131 [==============================] - 0s 654us/step - loss: 8.0625e-04 - categorical_accuracy: 1.0000\n",
      "Epoch 92/100\n",
      "131/131 [==============================] - 0s 654us/step - loss: 9.7222e-04 - categorical_accuracy: 1.0000\n",
      "Epoch 93/100\n",
      "131/131 [==============================] - 0s 639us/step - loss: 8.3172e-04 - categorical_accuracy: 1.0000\n",
      "Epoch 94/100\n",
      "131/131 [==============================] - 0s 651us/step - loss: 6.8019e-04 - categorical_accuracy: 1.0000\n",
      "Epoch 95/100\n",
      "131/131 [==============================] - 0s 639us/step - loss: 6.5551e-04 - categorical_accuracy: 1.0000\n",
      "Epoch 96/100\n",
      "131/131 [==============================] - 0s 631us/step - loss: 7.3518e-04 - categorical_accuracy: 1.0000\n",
      "Epoch 97/100\n",
      "131/131 [==============================] - 0s 616us/step - loss: 6.7493e-04 - categorical_accuracy: 1.0000\n",
      "Epoch 98/100\n",
      "131/131 [==============================] - 0s 623us/step - loss: 3.8147e-04 - categorical_accuracy: 1.0000\n",
      "Epoch 99/100\n",
      "131/131 [==============================] - 0s 616us/step - loss: 3.7472e-04 - categorical_accuracy: 1.0000\n",
      "Epoch 100/100\n",
      "131/131 [==============================] - 0s 623us/step - loss: 3.3303e-04 - categorical_accuracy: 1.0000\n"
     ]
    }
   ],
   "source": [
    "# Train it!\n",
    "history = model.fit(training, output,\n",
    " batch_size=1,\n",
    " epochs=100,\n",
    " verbose=1)"
   ]
  },
  {
   "cell_type": "code",
   "execution_count": 15,
   "id": "seventh-savage",
   "metadata": {},
   "outputs": [
    {
     "output_type": "display_data",
     "data": {
      "text/plain": "<Figure size 432x288 with 1 Axes>",
      "image/svg+xml": "<?xml version=\"1.0\" encoding=\"utf-8\" standalone=\"no\"?>\r\n<!DOCTYPE svg PUBLIC \"-//W3C//DTD SVG 1.1//EN\"\r\n  \"http://www.w3.org/Graphics/SVG/1.1/DTD/svg11.dtd\">\r\n<svg height=\"277.314375pt\" version=\"1.1\" viewBox=\"0 0 385.78125 277.314375\" width=\"385.78125pt\" xmlns=\"http://www.w3.org/2000/svg\" xmlns:xlink=\"http://www.w3.org/1999/xlink\">\r\n <metadata>\r\n  <rdf:RDF xmlns:cc=\"http://creativecommons.org/ns#\" xmlns:dc=\"http://purl.org/dc/elements/1.1/\" xmlns:rdf=\"http://www.w3.org/1999/02/22-rdf-syntax-ns#\">\r\n   <cc:Work>\r\n    <dc:type rdf:resource=\"http://purl.org/dc/dcmitype/StillImage\"/>\r\n    <dc:date>2021-04-17T16:10:56.619452</dc:date>\r\n    <dc:format>image/svg+xml</dc:format>\r\n    <dc:creator>\r\n     <cc:Agent>\r\n      <dc:title>Matplotlib v3.4.1, https://matplotlib.org/</dc:title>\r\n     </cc:Agent>\r\n    </dc:creator>\r\n   </cc:Work>\r\n  </rdf:RDF>\r\n </metadata>\r\n <defs>\r\n  <style type=\"text/css\">*{stroke-linecap:butt;stroke-linejoin:round;}</style>\r\n </defs>\r\n <g id=\"figure_1\">\r\n  <g id=\"patch_1\">\r\n   <path d=\"M 0 277.314375 \r\nL 385.78125 277.314375 \r\nL 385.78125 0 \r\nL 0 0 \r\nz\r\n\" style=\"fill:none;\"/>\r\n  </g>\r\n  <g id=\"axes_1\">\r\n   <g id=\"patch_2\">\r\n    <path d=\"M 43.78125 239.758125 \r\nL 378.58125 239.758125 \r\nL 378.58125 22.318125 \r\nL 43.78125 22.318125 \r\nz\r\n\" style=\"fill:#ffffff;\"/>\r\n   </g>\r\n   <g id=\"matplotlib.axis_1\">\r\n    <g id=\"xtick_1\">\r\n     <g id=\"line2d_1\">\r\n      <defs>\r\n       <path d=\"M 0 0 \r\nL 0 3.5 \r\n\" id=\"m4c552c254e\" style=\"stroke:#000000;stroke-width:0.8;\"/>\r\n      </defs>\r\n      <g>\r\n       <use style=\"stroke:#000000;stroke-width:0.8;\" x=\"58.999432\" xlink:href=\"#m4c552c254e\" y=\"239.758125\"/>\r\n      </g>\r\n     </g>\r\n     <g id=\"text_1\">\r\n      <!-- 0 -->\r\n      <g transform=\"translate(55.818182 254.356562)scale(0.1 -0.1)\">\r\n       <defs>\r\n        <path d=\"M 2034 4250 \r\nQ 1547 4250 1301 3770 \r\nQ 1056 3291 1056 2328 \r\nQ 1056 1369 1301 889 \r\nQ 1547 409 2034 409 \r\nQ 2525 409 2770 889 \r\nQ 3016 1369 3016 2328 \r\nQ 3016 3291 2770 3770 \r\nQ 2525 4250 2034 4250 \r\nz\r\nM 2034 4750 \r\nQ 2819 4750 3233 4129 \r\nQ 3647 3509 3647 2328 \r\nQ 3647 1150 3233 529 \r\nQ 2819 -91 2034 -91 \r\nQ 1250 -91 836 529 \r\nQ 422 1150 422 2328 \r\nQ 422 3509 836 4129 \r\nQ 1250 4750 2034 4750 \r\nz\r\n\" id=\"DejaVuSans-30\" transform=\"scale(0.015625)\"/>\r\n       </defs>\r\n       <use xlink:href=\"#DejaVuSans-30\"/>\r\n      </g>\r\n     </g>\r\n    </g>\r\n    <g id=\"xtick_2\">\r\n     <g id=\"line2d_2\">\r\n      <g>\r\n       <use style=\"stroke:#000000;stroke-width:0.8;\" x=\"120.487035\" xlink:href=\"#m4c552c254e\" y=\"239.758125\"/>\r\n      </g>\r\n     </g>\r\n     <g id=\"text_2\">\r\n      <!-- 20 -->\r\n      <g transform=\"translate(114.124535 254.356562)scale(0.1 -0.1)\">\r\n       <defs>\r\n        <path d=\"M 1228 531 \r\nL 3431 531 \r\nL 3431 0 \r\nL 469 0 \r\nL 469 531 \r\nQ 828 903 1448 1529 \r\nQ 2069 2156 2228 2338 \r\nQ 2531 2678 2651 2914 \r\nQ 2772 3150 2772 3378 \r\nQ 2772 3750 2511 3984 \r\nQ 2250 4219 1831 4219 \r\nQ 1534 4219 1204 4116 \r\nQ 875 4013 500 3803 \r\nL 500 4441 \r\nQ 881 4594 1212 4672 \r\nQ 1544 4750 1819 4750 \r\nQ 2544 4750 2975 4387 \r\nQ 3406 4025 3406 3419 \r\nQ 3406 3131 3298 2873 \r\nQ 3191 2616 2906 2266 \r\nQ 2828 2175 2409 1742 \r\nQ 1991 1309 1228 531 \r\nz\r\n\" id=\"DejaVuSans-32\" transform=\"scale(0.015625)\"/>\r\n       </defs>\r\n       <use xlink:href=\"#DejaVuSans-32\"/>\r\n       <use x=\"63.623047\" xlink:href=\"#DejaVuSans-30\"/>\r\n      </g>\r\n     </g>\r\n    </g>\r\n    <g id=\"xtick_3\">\r\n     <g id=\"line2d_3\">\r\n      <g>\r\n       <use style=\"stroke:#000000;stroke-width:0.8;\" x=\"181.974638\" xlink:href=\"#m4c552c254e\" y=\"239.758125\"/>\r\n      </g>\r\n     </g>\r\n     <g id=\"text_3\">\r\n      <!-- 40 -->\r\n      <g transform=\"translate(175.612138 254.356562)scale(0.1 -0.1)\">\r\n       <defs>\r\n        <path d=\"M 2419 4116 \r\nL 825 1625 \r\nL 2419 1625 \r\nL 2419 4116 \r\nz\r\nM 2253 4666 \r\nL 3047 4666 \r\nL 3047 1625 \r\nL 3713 1625 \r\nL 3713 1100 \r\nL 3047 1100 \r\nL 3047 0 \r\nL 2419 0 \r\nL 2419 1100 \r\nL 313 1100 \r\nL 313 1709 \r\nL 2253 4666 \r\nz\r\n\" id=\"DejaVuSans-34\" transform=\"scale(0.015625)\"/>\r\n       </defs>\r\n       <use xlink:href=\"#DejaVuSans-34\"/>\r\n       <use x=\"63.623047\" xlink:href=\"#DejaVuSans-30\"/>\r\n      </g>\r\n     </g>\r\n    </g>\r\n    <g id=\"xtick_4\">\r\n     <g id=\"line2d_4\">\r\n      <g>\r\n       <use style=\"stroke:#000000;stroke-width:0.8;\" x=\"243.462242\" xlink:href=\"#m4c552c254e\" y=\"239.758125\"/>\r\n      </g>\r\n     </g>\r\n     <g id=\"text_4\">\r\n      <!-- 60 -->\r\n      <g transform=\"translate(237.099742 254.356562)scale(0.1 -0.1)\">\r\n       <defs>\r\n        <path d=\"M 2113 2584 \r\nQ 1688 2584 1439 2293 \r\nQ 1191 2003 1191 1497 \r\nQ 1191 994 1439 701 \r\nQ 1688 409 2113 409 \r\nQ 2538 409 2786 701 \r\nQ 3034 994 3034 1497 \r\nQ 3034 2003 2786 2293 \r\nQ 2538 2584 2113 2584 \r\nz\r\nM 3366 4563 \r\nL 3366 3988 \r\nQ 3128 4100 2886 4159 \r\nQ 2644 4219 2406 4219 \r\nQ 1781 4219 1451 3797 \r\nQ 1122 3375 1075 2522 \r\nQ 1259 2794 1537 2939 \r\nQ 1816 3084 2150 3084 \r\nQ 2853 3084 3261 2657 \r\nQ 3669 2231 3669 1497 \r\nQ 3669 778 3244 343 \r\nQ 2819 -91 2113 -91 \r\nQ 1303 -91 875 529 \r\nQ 447 1150 447 2328 \r\nQ 447 3434 972 4092 \r\nQ 1497 4750 2381 4750 \r\nQ 2619 4750 2861 4703 \r\nQ 3103 4656 3366 4563 \r\nz\r\n\" id=\"DejaVuSans-36\" transform=\"scale(0.015625)\"/>\r\n       </defs>\r\n       <use xlink:href=\"#DejaVuSans-36\"/>\r\n       <use x=\"63.623047\" xlink:href=\"#DejaVuSans-30\"/>\r\n      </g>\r\n     </g>\r\n    </g>\r\n    <g id=\"xtick_5\">\r\n     <g id=\"line2d_5\">\r\n      <g>\r\n       <use style=\"stroke:#000000;stroke-width:0.8;\" x=\"304.949845\" xlink:href=\"#m4c552c254e\" y=\"239.758125\"/>\r\n      </g>\r\n     </g>\r\n     <g id=\"text_5\">\r\n      <!-- 80 -->\r\n      <g transform=\"translate(298.587345 254.356562)scale(0.1 -0.1)\">\r\n       <defs>\r\n        <path d=\"M 2034 2216 \r\nQ 1584 2216 1326 1975 \r\nQ 1069 1734 1069 1313 \r\nQ 1069 891 1326 650 \r\nQ 1584 409 2034 409 \r\nQ 2484 409 2743 651 \r\nQ 3003 894 3003 1313 \r\nQ 3003 1734 2745 1975 \r\nQ 2488 2216 2034 2216 \r\nz\r\nM 1403 2484 \r\nQ 997 2584 770 2862 \r\nQ 544 3141 544 3541 \r\nQ 544 4100 942 4425 \r\nQ 1341 4750 2034 4750 \r\nQ 2731 4750 3128 4425 \r\nQ 3525 4100 3525 3541 \r\nQ 3525 3141 3298 2862 \r\nQ 3072 2584 2669 2484 \r\nQ 3125 2378 3379 2068 \r\nQ 3634 1759 3634 1313 \r\nQ 3634 634 3220 271 \r\nQ 2806 -91 2034 -91 \r\nQ 1263 -91 848 271 \r\nQ 434 634 434 1313 \r\nQ 434 1759 690 2068 \r\nQ 947 2378 1403 2484 \r\nz\r\nM 1172 3481 \r\nQ 1172 3119 1398 2916 \r\nQ 1625 2713 2034 2713 \r\nQ 2441 2713 2670 2916 \r\nQ 2900 3119 2900 3481 \r\nQ 2900 3844 2670 4047 \r\nQ 2441 4250 2034 4250 \r\nQ 1625 4250 1398 4047 \r\nQ 1172 3844 1172 3481 \r\nz\r\n\" id=\"DejaVuSans-38\" transform=\"scale(0.015625)\"/>\r\n       </defs>\r\n       <use xlink:href=\"#DejaVuSans-38\"/>\r\n       <use x=\"63.623047\" xlink:href=\"#DejaVuSans-30\"/>\r\n      </g>\r\n     </g>\r\n    </g>\r\n    <g id=\"xtick_6\">\r\n     <g id=\"line2d_6\">\r\n      <g>\r\n       <use style=\"stroke:#000000;stroke-width:0.8;\" x=\"366.437448\" xlink:href=\"#m4c552c254e\" y=\"239.758125\"/>\r\n      </g>\r\n     </g>\r\n     <g id=\"text_6\">\r\n      <!-- 100 -->\r\n      <g transform=\"translate(356.893698 254.356562)scale(0.1 -0.1)\">\r\n       <defs>\r\n        <path d=\"M 794 531 \r\nL 1825 531 \r\nL 1825 4091 \r\nL 703 3866 \r\nL 703 4441 \r\nL 1819 4666 \r\nL 2450 4666 \r\nL 2450 531 \r\nL 3481 531 \r\nL 3481 0 \r\nL 794 0 \r\nL 794 531 \r\nz\r\n\" id=\"DejaVuSans-31\" transform=\"scale(0.015625)\"/>\r\n       </defs>\r\n       <use xlink:href=\"#DejaVuSans-31\"/>\r\n       <use x=\"63.623047\" xlink:href=\"#DejaVuSans-30\"/>\r\n       <use x=\"127.246094\" xlink:href=\"#DejaVuSans-30\"/>\r\n      </g>\r\n     </g>\r\n    </g>\r\n    <g id=\"text_7\">\r\n     <!-- epoch -->\r\n     <g transform=\"translate(195.953125 268.034687)scale(0.1 -0.1)\">\r\n      <defs>\r\n       <path d=\"M 3597 1894 \r\nL 3597 1613 \r\nL 953 1613 \r\nQ 991 1019 1311 708 \r\nQ 1631 397 2203 397 \r\nQ 2534 397 2845 478 \r\nQ 3156 559 3463 722 \r\nL 3463 178 \r\nQ 3153 47 2828 -22 \r\nQ 2503 -91 2169 -91 \r\nQ 1331 -91 842 396 \r\nQ 353 884 353 1716 \r\nQ 353 2575 817 3079 \r\nQ 1281 3584 2069 3584 \r\nQ 2775 3584 3186 3129 \r\nQ 3597 2675 3597 1894 \r\nz\r\nM 3022 2063 \r\nQ 3016 2534 2758 2815 \r\nQ 2500 3097 2075 3097 \r\nQ 1594 3097 1305 2825 \r\nQ 1016 2553 972 2059 \r\nL 3022 2063 \r\nz\r\n\" id=\"DejaVuSans-65\" transform=\"scale(0.015625)\"/>\r\n       <path d=\"M 1159 525 \r\nL 1159 -1331 \r\nL 581 -1331 \r\nL 581 3500 \r\nL 1159 3500 \r\nL 1159 2969 \r\nQ 1341 3281 1617 3432 \r\nQ 1894 3584 2278 3584 \r\nQ 2916 3584 3314 3078 \r\nQ 3713 2572 3713 1747 \r\nQ 3713 922 3314 415 \r\nQ 2916 -91 2278 -91 \r\nQ 1894 -91 1617 61 \r\nQ 1341 213 1159 525 \r\nz\r\nM 3116 1747 \r\nQ 3116 2381 2855 2742 \r\nQ 2594 3103 2138 3103 \r\nQ 1681 3103 1420 2742 \r\nQ 1159 2381 1159 1747 \r\nQ 1159 1113 1420 752 \r\nQ 1681 391 2138 391 \r\nQ 2594 391 2855 752 \r\nQ 3116 1113 3116 1747 \r\nz\r\n\" id=\"DejaVuSans-70\" transform=\"scale(0.015625)\"/>\r\n       <path d=\"M 1959 3097 \r\nQ 1497 3097 1228 2736 \r\nQ 959 2375 959 1747 \r\nQ 959 1119 1226 758 \r\nQ 1494 397 1959 397 \r\nQ 2419 397 2687 759 \r\nQ 2956 1122 2956 1747 \r\nQ 2956 2369 2687 2733 \r\nQ 2419 3097 1959 3097 \r\nz\r\nM 1959 3584 \r\nQ 2709 3584 3137 3096 \r\nQ 3566 2609 3566 1747 \r\nQ 3566 888 3137 398 \r\nQ 2709 -91 1959 -91 \r\nQ 1206 -91 779 398 \r\nQ 353 888 353 1747 \r\nQ 353 2609 779 3096 \r\nQ 1206 3584 1959 3584 \r\nz\r\n\" id=\"DejaVuSans-6f\" transform=\"scale(0.015625)\"/>\r\n       <path d=\"M 3122 3366 \r\nL 3122 2828 \r\nQ 2878 2963 2633 3030 \r\nQ 2388 3097 2138 3097 \r\nQ 1578 3097 1268 2742 \r\nQ 959 2388 959 1747 \r\nQ 959 1106 1268 751 \r\nQ 1578 397 2138 397 \r\nQ 2388 397 2633 464 \r\nQ 2878 531 3122 666 \r\nL 3122 134 \r\nQ 2881 22 2623 -34 \r\nQ 2366 -91 2075 -91 \r\nQ 1284 -91 818 406 \r\nQ 353 903 353 1747 \r\nQ 353 2603 823 3093 \r\nQ 1294 3584 2113 3584 \r\nQ 2378 3584 2631 3529 \r\nQ 2884 3475 3122 3366 \r\nz\r\n\" id=\"DejaVuSans-63\" transform=\"scale(0.015625)\"/>\r\n       <path d=\"M 3513 2113 \r\nL 3513 0 \r\nL 2938 0 \r\nL 2938 2094 \r\nQ 2938 2591 2744 2837 \r\nQ 2550 3084 2163 3084 \r\nQ 1697 3084 1428 2787 \r\nQ 1159 2491 1159 1978 \r\nL 1159 0 \r\nL 581 0 \r\nL 581 4863 \r\nL 1159 4863 \r\nL 1159 2956 \r\nQ 1366 3272 1645 3428 \r\nQ 1925 3584 2291 3584 \r\nQ 2894 3584 3203 3211 \r\nQ 3513 2838 3513 2113 \r\nz\r\n\" id=\"DejaVuSans-68\" transform=\"scale(0.015625)\"/>\r\n      </defs>\r\n      <use xlink:href=\"#DejaVuSans-65\"/>\r\n      <use x=\"61.523438\" xlink:href=\"#DejaVuSans-70\"/>\r\n      <use x=\"125\" xlink:href=\"#DejaVuSans-6f\"/>\r\n      <use x=\"186.181641\" xlink:href=\"#DejaVuSans-63\"/>\r\n      <use x=\"241.162109\" xlink:href=\"#DejaVuSans-68\"/>\r\n     </g>\r\n    </g>\r\n   </g>\r\n   <g id=\"matplotlib.axis_2\">\r\n    <g id=\"ytick_1\">\r\n     <g id=\"line2d_7\">\r\n      <defs>\r\n       <path d=\"M 0 0 \r\nL -3.5 0 \r\n\" id=\"m7b7cc45cef\" style=\"stroke:#000000;stroke-width:0.8;\"/>\r\n      </defs>\r\n      <g>\r\n       <use style=\"stroke:#000000;stroke-width:0.8;\" x=\"43.78125\" xlink:href=\"#m7b7cc45cef\" y=\"229.902685\"/>\r\n      </g>\r\n     </g>\r\n     <g id=\"text_8\">\r\n      <!-- 0.0 -->\r\n      <g transform=\"translate(20.878125 233.701904)scale(0.1 -0.1)\">\r\n       <defs>\r\n        <path d=\"M 684 794 \r\nL 1344 794 \r\nL 1344 0 \r\nL 684 0 \r\nL 684 794 \r\nz\r\n\" id=\"DejaVuSans-2e\" transform=\"scale(0.015625)\"/>\r\n       </defs>\r\n       <use xlink:href=\"#DejaVuSans-30\"/>\r\n       <use x=\"63.623047\" xlink:href=\"#DejaVuSans-2e\"/>\r\n       <use x=\"95.410156\" xlink:href=\"#DejaVuSans-30\"/>\r\n      </g>\r\n     </g>\r\n    </g>\r\n    <g id=\"ytick_2\">\r\n     <g id=\"line2d_8\">\r\n      <g>\r\n       <use style=\"stroke:#000000;stroke-width:0.8;\" x=\"43.78125\" xlink:href=\"#m7b7cc45cef\" y=\"197.46116\"/>\r\n      </g>\r\n     </g>\r\n     <g id=\"text_9\">\r\n      <!-- 0.5 -->\r\n      <g transform=\"translate(20.878125 201.260379)scale(0.1 -0.1)\">\r\n       <defs>\r\n        <path d=\"M 691 4666 \r\nL 3169 4666 \r\nL 3169 4134 \r\nL 1269 4134 \r\nL 1269 2991 \r\nQ 1406 3038 1543 3061 \r\nQ 1681 3084 1819 3084 \r\nQ 2600 3084 3056 2656 \r\nQ 3513 2228 3513 1497 \r\nQ 3513 744 3044 326 \r\nQ 2575 -91 1722 -91 \r\nQ 1428 -91 1123 -41 \r\nQ 819 9 494 109 \r\nL 494 744 \r\nQ 775 591 1075 516 \r\nQ 1375 441 1709 441 \r\nQ 2250 441 2565 725 \r\nQ 2881 1009 2881 1497 \r\nQ 2881 1984 2565 2268 \r\nQ 2250 2553 1709 2553 \r\nQ 1456 2553 1204 2497 \r\nQ 953 2441 691 2322 \r\nL 691 4666 \r\nz\r\n\" id=\"DejaVuSans-35\" transform=\"scale(0.015625)\"/>\r\n       </defs>\r\n       <use xlink:href=\"#DejaVuSans-30\"/>\r\n       <use x=\"63.623047\" xlink:href=\"#DejaVuSans-2e\"/>\r\n       <use x=\"95.410156\" xlink:href=\"#DejaVuSans-35\"/>\r\n      </g>\r\n     </g>\r\n    </g>\r\n    <g id=\"ytick_3\">\r\n     <g id=\"line2d_9\">\r\n      <g>\r\n       <use style=\"stroke:#000000;stroke-width:0.8;\" x=\"43.78125\" xlink:href=\"#m7b7cc45cef\" y=\"165.019635\"/>\r\n      </g>\r\n     </g>\r\n     <g id=\"text_10\">\r\n      <!-- 1.0 -->\r\n      <g transform=\"translate(20.878125 168.818854)scale(0.1 -0.1)\">\r\n       <use xlink:href=\"#DejaVuSans-31\"/>\r\n       <use x=\"63.623047\" xlink:href=\"#DejaVuSans-2e\"/>\r\n       <use x=\"95.410156\" xlink:href=\"#DejaVuSans-30\"/>\r\n      </g>\r\n     </g>\r\n    </g>\r\n    <g id=\"ytick_4\">\r\n     <g id=\"line2d_10\">\r\n      <g>\r\n       <use style=\"stroke:#000000;stroke-width:0.8;\" x=\"43.78125\" xlink:href=\"#m7b7cc45cef\" y=\"132.57811\"/>\r\n      </g>\r\n     </g>\r\n     <g id=\"text_11\">\r\n      <!-- 1.5 -->\r\n      <g transform=\"translate(20.878125 136.377329)scale(0.1 -0.1)\">\r\n       <use xlink:href=\"#DejaVuSans-31\"/>\r\n       <use x=\"63.623047\" xlink:href=\"#DejaVuSans-2e\"/>\r\n       <use x=\"95.410156\" xlink:href=\"#DejaVuSans-35\"/>\r\n      </g>\r\n     </g>\r\n    </g>\r\n    <g id=\"ytick_5\">\r\n     <g id=\"line2d_11\">\r\n      <g>\r\n       <use style=\"stroke:#000000;stroke-width:0.8;\" x=\"43.78125\" xlink:href=\"#m7b7cc45cef\" y=\"100.136585\"/>\r\n      </g>\r\n     </g>\r\n     <g id=\"text_12\">\r\n      <!-- 2.0 -->\r\n      <g transform=\"translate(20.878125 103.935803)scale(0.1 -0.1)\">\r\n       <use xlink:href=\"#DejaVuSans-32\"/>\r\n       <use x=\"63.623047\" xlink:href=\"#DejaVuSans-2e\"/>\r\n       <use x=\"95.410156\" xlink:href=\"#DejaVuSans-30\"/>\r\n      </g>\r\n     </g>\r\n    </g>\r\n    <g id=\"ytick_6\">\r\n     <g id=\"line2d_12\">\r\n      <g>\r\n       <use style=\"stroke:#000000;stroke-width:0.8;\" x=\"43.78125\" xlink:href=\"#m7b7cc45cef\" y=\"67.695059\"/>\r\n      </g>\r\n     </g>\r\n     <g id=\"text_13\">\r\n      <!-- 2.5 -->\r\n      <g transform=\"translate(20.878125 71.494278)scale(0.1 -0.1)\">\r\n       <use xlink:href=\"#DejaVuSans-32\"/>\r\n       <use x=\"63.623047\" xlink:href=\"#DejaVuSans-2e\"/>\r\n       <use x=\"95.410156\" xlink:href=\"#DejaVuSans-35\"/>\r\n      </g>\r\n     </g>\r\n    </g>\r\n    <g id=\"ytick_7\">\r\n     <g id=\"line2d_13\">\r\n      <g>\r\n       <use style=\"stroke:#000000;stroke-width:0.8;\" x=\"43.78125\" xlink:href=\"#m7b7cc45cef\" y=\"35.253534\"/>\r\n      </g>\r\n     </g>\r\n     <g id=\"text_14\">\r\n      <!-- 3.0 -->\r\n      <g transform=\"translate(20.878125 39.052753)scale(0.1 -0.1)\">\r\n       <defs>\r\n        <path d=\"M 2597 2516 \r\nQ 3050 2419 3304 2112 \r\nQ 3559 1806 3559 1356 \r\nQ 3559 666 3084 287 \r\nQ 2609 -91 1734 -91 \r\nQ 1441 -91 1130 -33 \r\nQ 819 25 488 141 \r\nL 488 750 \r\nQ 750 597 1062 519 \r\nQ 1375 441 1716 441 \r\nQ 2309 441 2620 675 \r\nQ 2931 909 2931 1356 \r\nQ 2931 1769 2642 2001 \r\nQ 2353 2234 1838 2234 \r\nL 1294 2234 \r\nL 1294 2753 \r\nL 1863 2753 \r\nQ 2328 2753 2575 2939 \r\nQ 2822 3125 2822 3475 \r\nQ 2822 3834 2567 4026 \r\nQ 2313 4219 1838 4219 \r\nQ 1578 4219 1281 4162 \r\nQ 984 4106 628 3988 \r\nL 628 4550 \r\nQ 988 4650 1302 4700 \r\nQ 1616 4750 1894 4750 \r\nQ 2613 4750 3031 4423 \r\nQ 3450 4097 3450 3541 \r\nQ 3450 3153 3228 2886 \r\nQ 3006 2619 2597 2516 \r\nz\r\n\" id=\"DejaVuSans-33\" transform=\"scale(0.015625)\"/>\r\n       </defs>\r\n       <use xlink:href=\"#DejaVuSans-33\"/>\r\n       <use x=\"63.623047\" xlink:href=\"#DejaVuSans-2e\"/>\r\n       <use x=\"95.410156\" xlink:href=\"#DejaVuSans-30\"/>\r\n      </g>\r\n     </g>\r\n    </g>\r\n    <g id=\"text_15\">\r\n     <!-- loss -->\r\n     <g transform=\"translate(14.798438 140.695937)rotate(-90)scale(0.1 -0.1)\">\r\n      <defs>\r\n       <path d=\"M 603 4863 \r\nL 1178 4863 \r\nL 1178 0 \r\nL 603 0 \r\nL 603 4863 \r\nz\r\n\" id=\"DejaVuSans-6c\" transform=\"scale(0.015625)\"/>\r\n       <path d=\"M 2834 3397 \r\nL 2834 2853 \r\nQ 2591 2978 2328 3040 \r\nQ 2066 3103 1784 3103 \r\nQ 1356 3103 1142 2972 \r\nQ 928 2841 928 2578 \r\nQ 928 2378 1081 2264 \r\nQ 1234 2150 1697 2047 \r\nL 1894 2003 \r\nQ 2506 1872 2764 1633 \r\nQ 3022 1394 3022 966 \r\nQ 3022 478 2636 193 \r\nQ 2250 -91 1575 -91 \r\nQ 1294 -91 989 -36 \r\nQ 684 19 347 128 \r\nL 347 722 \r\nQ 666 556 975 473 \r\nQ 1284 391 1588 391 \r\nQ 1994 391 2212 530 \r\nQ 2431 669 2431 922 \r\nQ 2431 1156 2273 1281 \r\nQ 2116 1406 1581 1522 \r\nL 1381 1569 \r\nQ 847 1681 609 1914 \r\nQ 372 2147 372 2553 \r\nQ 372 3047 722 3315 \r\nQ 1072 3584 1716 3584 \r\nQ 2034 3584 2315 3537 \r\nQ 2597 3491 2834 3397 \r\nz\r\n\" id=\"DejaVuSans-73\" transform=\"scale(0.015625)\"/>\r\n      </defs>\r\n      <use xlink:href=\"#DejaVuSans-6c\"/>\r\n      <use x=\"27.783203\" xlink:href=\"#DejaVuSans-6f\"/>\r\n      <use x=\"88.964844\" xlink:href=\"#DejaVuSans-73\"/>\r\n      <use x=\"141.064453\" xlink:href=\"#DejaVuSans-73\"/>\r\n     </g>\r\n    </g>\r\n   </g>\r\n   <g id=\"line2d_14\">\r\n    <path clip-path=\"url(#p8059dd9d61)\" d=\"M 58.999432 32.201761 \r\nL 62.073812 35.511454 \r\nL 65.148192 39.76654 \r\nL 68.222572 46.784601 \r\nL 71.296952 56.29969 \r\nL 74.371333 66.894367 \r\nL 77.445713 75.678376 \r\nL 80.520093 83.5522 \r\nL 83.594473 90.458062 \r\nL 86.668853 97.044932 \r\nL 89.743233 103.107902 \r\nL 92.817614 109.645176 \r\nL 95.891994 116.090548 \r\nL 98.966374 122.368704 \r\nL 102.040754 129.192563 \r\nL 105.115134 136.374638 \r\nL 108.189514 143.260599 \r\nL 111.263895 150.36296 \r\nL 114.338275 157.549568 \r\nL 117.412655 164.025847 \r\nL 120.487035 171.879395 \r\nL 123.561415 177.601096 \r\nL 126.635795 183.067391 \r\nL 129.710176 187.926162 \r\nL 132.784556 191.934759 \r\nL 135.858936 195.238543 \r\nL 138.933316 198.67153 \r\nL 142.007696 201.301236 \r\nL 145.082076 204.81804 \r\nL 148.156457 207.287064 \r\nL 151.230837 209.209894 \r\nL 154.305217 211.578818 \r\nL 157.379597 212.701336 \r\nL 160.453977 213.699413 \r\nL 163.528357 214.703917 \r\nL 166.602738 216.730571 \r\nL 169.677118 217.801422 \r\nL 172.751498 219.058444 \r\nL 175.825878 220.071404 \r\nL 178.900258 220.84248 \r\nL 181.974638 220.596935 \r\nL 185.049019 222.113365 \r\nL 188.123399 223.447078 \r\nL 191.197779 224.260801 \r\nL 194.272159 224.790276 \r\nL 197.346539 225.185572 \r\nL 200.420919 226.088979 \r\nL 203.4953 226.274069 \r\nL 206.56968 226.420523 \r\nL 209.64406 227.164161 \r\nL 212.71844 227.280722 \r\nL 215.79282 227.574443 \r\nL 218.8672 227.822708 \r\nL 221.941581 228.145296 \r\nL 225.015961 227.929693 \r\nL 228.090341 228.463593 \r\nL 231.164721 228.605989 \r\nL 234.239101 228.651386 \r\nL 237.313481 228.882326 \r\nL 240.387862 228.983485 \r\nL 243.462242 229.032953 \r\nL 246.536622 229.119916 \r\nL 249.611002 229.205039 \r\nL 252.685382 229.272714 \r\nL 255.759762 229.138296 \r\nL 258.834143 229.308836 \r\nL 261.908523 229.403202 \r\nL 264.982903 229.474358 \r\nL 268.057283 229.506909 \r\nL 271.131663 229.488789 \r\nL 274.206043 229.572426 \r\nL 277.280424 229.595821 \r\nL 280.354804 229.600561 \r\nL 283.429184 229.497282 \r\nL 286.503564 229.666193 \r\nL 289.577944 229.6902 \r\nL 292.652324 229.718978 \r\nL 295.726705 229.728225 \r\nL 298.801085 229.744898 \r\nL 301.875465 229.747108 \r\nL 304.949845 229.768659 \r\nL 308.024225 229.770261 \r\nL 311.098605 229.775339 \r\nL 314.172986 229.789453 \r\nL 317.247366 229.805206 \r\nL 320.321746 229.803047 \r\nL 323.396126 229.808725 \r\nL 326.470506 229.826459 \r\nL 329.544886 229.835099 \r\nL 332.619267 229.837032 \r\nL 335.693647 229.841332 \r\nL 338.768027 229.848127 \r\nL 341.842407 229.848057 \r\nL 344.916787 229.856518 \r\nL 347.991167 229.851256 \r\nL 351.065548 229.854247 \r\nL 354.139928 229.864531 \r\nL 357.214308 229.87036 \r\nL 360.288688 229.872714 \r\nL 363.363068 229.874489 \r\n\" style=\"fill:none;stroke:#1f77b4;stroke-linecap:square;stroke-width:1.5;\"/>\r\n   </g>\r\n   <g id=\"patch_3\">\r\n    <path d=\"M 43.78125 239.758125 \r\nL 43.78125 22.318125 \r\n\" style=\"fill:none;stroke:#000000;stroke-linecap:square;stroke-linejoin:miter;stroke-width:0.8;\"/>\r\n   </g>\r\n   <g id=\"patch_4\">\r\n    <path d=\"M 378.58125 239.758125 \r\nL 378.58125 22.318125 \r\n\" style=\"fill:none;stroke:#000000;stroke-linecap:square;stroke-linejoin:miter;stroke-width:0.8;\"/>\r\n   </g>\r\n   <g id=\"patch_5\">\r\n    <path d=\"M 43.78125 239.758125 \r\nL 378.58125 239.758125 \r\n\" style=\"fill:none;stroke:#000000;stroke-linecap:square;stroke-linejoin:miter;stroke-width:0.8;\"/>\r\n   </g>\r\n   <g id=\"patch_6\">\r\n    <path d=\"M 43.78125 22.318125 \r\nL 378.58125 22.318125 \r\n\" style=\"fill:none;stroke:#000000;stroke-linecap:square;stroke-linejoin:miter;stroke-width:0.8;\"/>\r\n   </g>\r\n   <g id=\"text_16\">\r\n    <!-- model loss -->\r\n    <g transform=\"translate(179.001563 16.318125)scale(0.12 -0.12)\">\r\n     <defs>\r\n      <path d=\"M 3328 2828 \r\nQ 3544 3216 3844 3400 \r\nQ 4144 3584 4550 3584 \r\nQ 5097 3584 5394 3201 \r\nQ 5691 2819 5691 2113 \r\nL 5691 0 \r\nL 5113 0 \r\nL 5113 2094 \r\nQ 5113 2597 4934 2840 \r\nQ 4756 3084 4391 3084 \r\nQ 3944 3084 3684 2787 \r\nQ 3425 2491 3425 1978 \r\nL 3425 0 \r\nL 2847 0 \r\nL 2847 2094 \r\nQ 2847 2600 2669 2842 \r\nQ 2491 3084 2119 3084 \r\nQ 1678 3084 1418 2786 \r\nQ 1159 2488 1159 1978 \r\nL 1159 0 \r\nL 581 0 \r\nL 581 3500 \r\nL 1159 3500 \r\nL 1159 2956 \r\nQ 1356 3278 1631 3431 \r\nQ 1906 3584 2284 3584 \r\nQ 2666 3584 2933 3390 \r\nQ 3200 3197 3328 2828 \r\nz\r\n\" id=\"DejaVuSans-6d\" transform=\"scale(0.015625)\"/>\r\n      <path d=\"M 2906 2969 \r\nL 2906 4863 \r\nL 3481 4863 \r\nL 3481 0 \r\nL 2906 0 \r\nL 2906 525 \r\nQ 2725 213 2448 61 \r\nQ 2172 -91 1784 -91 \r\nQ 1150 -91 751 415 \r\nQ 353 922 353 1747 \r\nQ 353 2572 751 3078 \r\nQ 1150 3584 1784 3584 \r\nQ 2172 3584 2448 3432 \r\nQ 2725 3281 2906 2969 \r\nz\r\nM 947 1747 \r\nQ 947 1113 1208 752 \r\nQ 1469 391 1925 391 \r\nQ 2381 391 2643 752 \r\nQ 2906 1113 2906 1747 \r\nQ 2906 2381 2643 2742 \r\nQ 2381 3103 1925 3103 \r\nQ 1469 3103 1208 2742 \r\nQ 947 2381 947 1747 \r\nz\r\n\" id=\"DejaVuSans-64\" transform=\"scale(0.015625)\"/>\r\n      <path id=\"DejaVuSans-20\" transform=\"scale(0.015625)\"/>\r\n     </defs>\r\n     <use xlink:href=\"#DejaVuSans-6d\"/>\r\n     <use x=\"97.412109\" xlink:href=\"#DejaVuSans-6f\"/>\r\n     <use x=\"158.59375\" xlink:href=\"#DejaVuSans-64\"/>\r\n     <use x=\"222.070312\" xlink:href=\"#DejaVuSans-65\"/>\r\n     <use x=\"283.59375\" xlink:href=\"#DejaVuSans-6c\"/>\r\n     <use x=\"311.376953\" xlink:href=\"#DejaVuSans-20\"/>\r\n     <use x=\"343.164062\" xlink:href=\"#DejaVuSans-6c\"/>\r\n     <use x=\"370.947266\" xlink:href=\"#DejaVuSans-6f\"/>\r\n     <use x=\"432.128906\" xlink:href=\"#DejaVuSans-73\"/>\r\n     <use x=\"484.228516\" xlink:href=\"#DejaVuSans-73\"/>\r\n    </g>\r\n   </g>\r\n   <g id=\"legend_1\">\r\n    <g id=\"patch_7\">\r\n     <path d=\"M 50.78125 44.99625 \r\nL 121.520313 44.99625 \r\nQ 123.520313 44.99625 123.520313 42.99625 \r\nL 123.520313 29.318125 \r\nQ 123.520313 27.318125 121.520313 27.318125 \r\nL 50.78125 27.318125 \r\nQ 48.78125 27.318125 48.78125 29.318125 \r\nL 48.78125 42.99625 \r\nQ 48.78125 44.99625 50.78125 44.99625 \r\nz\r\n\" style=\"fill:#ffffff;opacity:0.8;stroke:#cccccc;stroke-linejoin:miter;\"/>\r\n    </g>\r\n    <g id=\"line2d_15\">\r\n     <path d=\"M 52.78125 35.416562 \r\nL 72.78125 35.416562 \r\n\" style=\"fill:none;stroke:#1f77b4;stroke-linecap:square;stroke-width:1.5;\"/>\r\n    </g>\r\n    <g id=\"line2d_16\"/>\r\n    <g id=\"text_17\">\r\n     <!-- training -->\r\n     <g transform=\"translate(80.78125 38.916562)scale(0.1 -0.1)\">\r\n      <defs>\r\n       <path d=\"M 1172 4494 \r\nL 1172 3500 \r\nL 2356 3500 \r\nL 2356 3053 \r\nL 1172 3053 \r\nL 1172 1153 \r\nQ 1172 725 1289 603 \r\nQ 1406 481 1766 481 \r\nL 2356 481 \r\nL 2356 0 \r\nL 1766 0 \r\nQ 1100 0 847 248 \r\nQ 594 497 594 1153 \r\nL 594 3053 \r\nL 172 3053 \r\nL 172 3500 \r\nL 594 3500 \r\nL 594 4494 \r\nL 1172 4494 \r\nz\r\n\" id=\"DejaVuSans-74\" transform=\"scale(0.015625)\"/>\r\n       <path d=\"M 2631 2963 \r\nQ 2534 3019 2420 3045 \r\nQ 2306 3072 2169 3072 \r\nQ 1681 3072 1420 2755 \r\nQ 1159 2438 1159 1844 \r\nL 1159 0 \r\nL 581 0 \r\nL 581 3500 \r\nL 1159 3500 \r\nL 1159 2956 \r\nQ 1341 3275 1631 3429 \r\nQ 1922 3584 2338 3584 \r\nQ 2397 3584 2469 3576 \r\nQ 2541 3569 2628 3553 \r\nL 2631 2963 \r\nz\r\n\" id=\"DejaVuSans-72\" transform=\"scale(0.015625)\"/>\r\n       <path d=\"M 2194 1759 \r\nQ 1497 1759 1228 1600 \r\nQ 959 1441 959 1056 \r\nQ 959 750 1161 570 \r\nQ 1363 391 1709 391 \r\nQ 2188 391 2477 730 \r\nQ 2766 1069 2766 1631 \r\nL 2766 1759 \r\nL 2194 1759 \r\nz\r\nM 3341 1997 \r\nL 3341 0 \r\nL 2766 0 \r\nL 2766 531 \r\nQ 2569 213 2275 61 \r\nQ 1981 -91 1556 -91 \r\nQ 1019 -91 701 211 \r\nQ 384 513 384 1019 \r\nQ 384 1609 779 1909 \r\nQ 1175 2209 1959 2209 \r\nL 2766 2209 \r\nL 2766 2266 \r\nQ 2766 2663 2505 2880 \r\nQ 2244 3097 1772 3097 \r\nQ 1472 3097 1187 3025 \r\nQ 903 2953 641 2809 \r\nL 641 3341 \r\nQ 956 3463 1253 3523 \r\nQ 1550 3584 1831 3584 \r\nQ 2591 3584 2966 3190 \r\nQ 3341 2797 3341 1997 \r\nz\r\n\" id=\"DejaVuSans-61\" transform=\"scale(0.015625)\"/>\r\n       <path d=\"M 603 3500 \r\nL 1178 3500 \r\nL 1178 0 \r\nL 603 0 \r\nL 603 3500 \r\nz\r\nM 603 4863 \r\nL 1178 4863 \r\nL 1178 4134 \r\nL 603 4134 \r\nL 603 4863 \r\nz\r\n\" id=\"DejaVuSans-69\" transform=\"scale(0.015625)\"/>\r\n       <path d=\"M 3513 2113 \r\nL 3513 0 \r\nL 2938 0 \r\nL 2938 2094 \r\nQ 2938 2591 2744 2837 \r\nQ 2550 3084 2163 3084 \r\nQ 1697 3084 1428 2787 \r\nQ 1159 2491 1159 1978 \r\nL 1159 0 \r\nL 581 0 \r\nL 581 3500 \r\nL 1159 3500 \r\nL 1159 2956 \r\nQ 1366 3272 1645 3428 \r\nQ 1925 3584 2291 3584 \r\nQ 2894 3584 3203 3211 \r\nQ 3513 2838 3513 2113 \r\nz\r\n\" id=\"DejaVuSans-6e\" transform=\"scale(0.015625)\"/>\r\n       <path d=\"M 2906 1791 \r\nQ 2906 2416 2648 2759 \r\nQ 2391 3103 1925 3103 \r\nQ 1463 3103 1205 2759 \r\nQ 947 2416 947 1791 \r\nQ 947 1169 1205 825 \r\nQ 1463 481 1925 481 \r\nQ 2391 481 2648 825 \r\nQ 2906 1169 2906 1791 \r\nz\r\nM 3481 434 \r\nQ 3481 -459 3084 -895 \r\nQ 2688 -1331 1869 -1331 \r\nQ 1566 -1331 1297 -1286 \r\nQ 1028 -1241 775 -1147 \r\nL 775 -588 \r\nQ 1028 -725 1275 -790 \r\nQ 1522 -856 1778 -856 \r\nQ 2344 -856 2625 -561 \r\nQ 2906 -266 2906 331 \r\nL 2906 616 \r\nQ 2728 306 2450 153 \r\nQ 2172 0 1784 0 \r\nQ 1141 0 747 490 \r\nQ 353 981 353 1791 \r\nQ 353 2603 747 3093 \r\nQ 1141 3584 1784 3584 \r\nQ 2172 3584 2450 3431 \r\nQ 2728 3278 2906 2969 \r\nL 2906 3500 \r\nL 3481 3500 \r\nL 3481 434 \r\nz\r\n\" id=\"DejaVuSans-67\" transform=\"scale(0.015625)\"/>\r\n      </defs>\r\n      <use xlink:href=\"#DejaVuSans-74\"/>\r\n      <use x=\"39.208984\" xlink:href=\"#DejaVuSans-72\"/>\r\n      <use x=\"80.322266\" xlink:href=\"#DejaVuSans-61\"/>\r\n      <use x=\"141.601562\" xlink:href=\"#DejaVuSans-69\"/>\r\n      <use x=\"169.384766\" xlink:href=\"#DejaVuSans-6e\"/>\r\n      <use x=\"232.763672\" xlink:href=\"#DejaVuSans-69\"/>\r\n      <use x=\"260.546875\" xlink:href=\"#DejaVuSans-6e\"/>\r\n      <use x=\"323.925781\" xlink:href=\"#DejaVuSans-67\"/>\r\n     </g>\r\n    </g>\r\n   </g>\r\n  </g>\r\n </g>\r\n <defs>\r\n  <clipPath id=\"p8059dd9d61\">\r\n   <rect height=\"217.44\" width=\"334.8\" x=\"43.78125\" y=\"22.318125\"/>\r\n  </clipPath>\r\n </defs>\r\n</svg>\r\n",
      "image/png": "[encoded data removed]"
     },
     "metadata": {
      "needs_background": "light"
     }
    }
   ],
   "source": [
    "# summarize history for loss\n",
    "plt.plot(history.history['loss'])\n",
    "plt.title('model loss')\n",
    "plt.ylabel('loss')\n",
    "plt.xlabel('epoch')\n",
    "plt.legend(['training'], loc='upper left')\n",
    "plt.show()"
   ]
  },
  {
   "cell_type": "code",
   "execution_count": 16,
   "id": "raised-sapphire",
   "metadata": {},
   "outputs": [
    {
     "output_type": "stream",
     "name": "stdout",
     "text": [
      "5/5 [==============================] - 0s 1ms/step - loss: 3.7932e-04 - categorical_accuracy: 1.0000\n",
      "Loss: 0.00037932099075987935\n",
      "Accuracy: 1.0\n"
     ]
    }
   ],
   "source": [
    "score = model.evaluate(training,output,verbose=1)\n",
    "print(\"Loss:\",score[0])\n",
    "print(\"Accuracy:\",score[1])"
   ]
  },
  {
   "cell_type": "code",
   "execution_count": 17,
   "id": "cooked-script",
   "metadata": {},
   "outputs": [],
   "source": [
    "# save the model .. comment out for now until we train the data appropriately\n",
    "#model.save(\"model.Chatbot\")"
   ]
  },
  {
   "cell_type": "code",
   "execution_count": 18,
   "id": "exotic-institution",
   "metadata": {},
   "outputs": [],
   "source": [
    "def bag_of_words(s, words):\n",
    "    bag = [0 for _ in range(len(words))]\n",
    "        \n",
    "    s_words = nltk.word_tokenize(s)\n",
    "    s_words = [stemmer.stem(word.lower()) for word in s_words]\n",
    "\n",
    "    for se in s_words:\n",
    "        for i, w in enumerate(words):\n",
    "            if w == se:\n",
    "                bag[i] = 1\n",
    "            \n",
    "    return np.array(bag)"
   ]
  },
  {
   "cell_type": "code",
   "execution_count": 19,
   "id": "approved-infrastructure",
   "metadata": {},
   "outputs": [],
   "source": [
    "def chat():\n",
    "    print(\"Start talking with the bot (type quit to stop)!\")\n",
    "    while True:\n",
    "        inp = input(\"You: \")\n",
    "        if inp.lower() == \"quit\":\n",
    "            break\n",
    "\n",
    "        results = model.predict(np.array([bag_of_words(inp, words)]))[0]\n",
    "       \n",
    "        \n",
    "        \n",
    "        results_index = np.argmax(results)\n",
    "        tag = labels[results_index]\n",
    "        #print(results[results_index])\n",
    "        \n",
    "        # protect against unknown questions , if model is unsure what user ask they will ask user to rephrase their question \n",
    "        if results[results_index] > 0.92:   # the value when the model cant recognize is 0.9133338 so i set this value just above it\n",
    "            for tg in data[\"intents\"]:\n",
    "                if tg['tag'] == tag:\n",
    "                    responses = tg['responses']\n",
    "\n",
    "            print(random.choice(responses))\n",
    "            \n",
    "        else:\n",
    "            print(\"I don't understand, please try again or ask a different question :( \")"
   ]
  },
  {
   "cell_type": "code",
   "execution_count": 59,
   "metadata": {},
   "outputs": [],
   "source": [
    "def run_test(show_successes=True, show_failures=True):\n",
    "    successes = []\n",
    "    failures = []\n",
    "\n",
    "    for i in range(len(test_patterns)):\n",
    "        results = model.predict(np.array([bag_of_words(test_patterns[i], words)]))[0]\n",
    "       \n",
    "        results_index = np.argmax(results)\n",
    "        tag = labels[results_index]\n",
    "        \n",
    "        # protect against unknown questions , if model is unsure what user ask they will ask user to rephrase their question \n",
    "        if results[results_index] > 0.92:   # the value when the model cant recognize is 0.9133338 so i set this value just above it\n",
    "            for tg in data[\"intents\"]:\n",
    "                if tg['tag'] == tag:\n",
    "                    responses = tg['responses']\n",
    "\n",
    "            answer = random.choice(responses)\n",
    "            \n",
    "        else:\n",
    "            answer = 'Answer not found'\n",
    "\n",
    "        real_tag = data[\"intents\"][i]\n",
    "        real_responses = real_tag[\"responses\"]\n",
    "\n",
    "        if answer in real_responses:\n",
    "            successes.append([test_patterns[i], answer])\n",
    "        else:\n",
    "            failures.append([test_patterns[i], answer])\n",
    "        \n",
    "    if show_successes:\n",
    "        print(\"Successes:\")\n",
    "        print(\"-\"*50)\n",
    "        for x in successes:\n",
    "            print(\"Query:\", x[0])\n",
    "            print(\"Response:\", x[1])\n",
    "            print()\n",
    "\n",
    "    if show_failures:\n",
    "        print(\"Failures:\")\n",
    "        print(\"-\"*50)\n",
    "        for x in failures:\n",
    "            print(\"Query:\", x[0])\n",
    "            print(\"Response:\", x[1])\n",
    "            print()\n",
    "\n",
    "    print(\"Number of successes:\", len(successes))\n",
    "    print(\"Number of failures:\", len(failures))\n",
    "    print( \"Percentage correct: {:.2%}\".format(len(successes)/(len(successes)+len(failures))) )"
   ]
  },
  {
   "cell_type": "code",
   "execution_count": 60,
   "metadata": {
    "tags": []
   },
   "outputs": [
    {
     "output_type": "stream",
     "name": "stdout",
     "text": [
      "Successes:\n--------------------------------------------------\nQuery: 1\nResponse: See you later\n\nQuery: 2\nResponse: Bye! Come back again soon.\n\nQuery: 4\nResponse: They call you HUMAN, what can I do for you?\n\nQuery: 5\nResponse: Let me see\n\nQuery: 8\nResponse: You may call me Todd\n\nQuery: 10\nResponse: Iâ€™m sorry, Iâ€™m afraid I canâ€™t do that!\n\nQuery: 12\nResponse: One moment\n\nQuery: 17\nResponse: Thank you, my creators are even smarter\n\nQuery: 19\nResponse: That is an difficult question, can you prove that you are?\n\nQuery: 20\nResponse: A man goes into a pub with a newt sitting on his shoulder. 'That's a nice newt', says the landlord, 'What's he called?' 'Tiny', replies the man. 'Why's that?' asks the landlord. 'Because he's my newt', says the man.\n\nFailures:\n--------------------------------------------------\nQuery: 0\nResponse: 18 years young!\n\nQuery: 3\nResponse: Answer not found\n\nQuery: 6\nResponse: Well I would not be a very clever AI if I did not would I?\n\nQuery: 7\nResponse: Answer not found\n\nQuery: 9\nResponse: Have a nice day\n\nQuery: 11\nResponse: Sad to see you go :(\n\nQuery: 13\nResponse: See you later\n\nQuery: 14\nResponse: Answer not found\n\nQuery: 15\nResponse: Answer not found\n\nQuery: 16\nResponse: See you later\n\nQuery: 18\nResponse: I understand.\n\nNumber of successes: 10\nNumber of failures: 11\nPercentage correct: 47.62%\n"
     ]
    }
   ],
   "source": [
    "run_test()"
   ]
  },
  {
   "cell_type": "code",
   "execution_count": null,
   "metadata": {},
   "outputs": [],
   "source": []
  }
 ],
 "metadata": {
  "kernelspec": {
   "name": "python388jvsc74a57bd05f83a75e76224391381946e8c458a1c99437e7d8805a51a3bd2e9bf2bdc30960",
   "display_name": "Python 3.8.8 64-bit"
  },
  "language_info": {
   "codemirror_mode": {
    "name": "ipython",
    "version": 3
   },
   "file_extension": ".py",
   "mimetype": "text/x-python",
   "name": "python",
   "nbconvert_exporter": "python",
   "pygments_lexer": "ipython3",
   "version": "3.8.8-final"
  },
  "metadata": {
   "interpreter": {
    "hash": "5f83a75e76224391381946e8c458a1c99437e7d8805a51a3bd2e9bf2bdc30960"
   }
  }
 },
 "nbformat": 4,
 "nbformat_minor": 5
}